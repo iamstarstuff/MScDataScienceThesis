{
  "cells": [
    {
      "cell_type": "markdown",
      "metadata": {
        "colab_type": "text",
        "id": "view-in-github"
      },
      "source": [
        "<a href=\"https://colab.research.google.com/github/iamstarstuff/MScDataScienceThesis/blob/main/ML%20Models%20Colab.ipynb\" target=\"_parent\"><img src=\"https://colab.research.google.com/assets/colab-badge.svg\" alt=\"Open In Colab\"/></a>"
      ]
    },
    {
      "cell_type": "code",
      "execution_count": 1,
      "id": "YIUVNZWsUXp6",
      "metadata": {
        "id": "YIUVNZWsUXp6"
      },
      "outputs": [
        {
          "name": "stdout",
          "output_type": "stream",
          "text": [
            "Requirement already satisfied: scikit-learn-intelex in /Users/pratik/opt/miniconda3/envs/SETU/lib/python3.11/site-packages (2023.1.1)\n",
            "Requirement already satisfied: daal4py==2023.1.1 in /Users/pratik/opt/miniconda3/envs/SETU/lib/python3.11/site-packages (from scikit-learn-intelex) (2023.1.1)\n",
            "Requirement already satisfied: scikit-learn>=0.22 in /Users/pratik/opt/miniconda3/envs/SETU/lib/python3.11/site-packages (from scikit-learn-intelex) (1.2.2)\n",
            "Requirement already satisfied: daal==2023.1.1 in /Users/pratik/opt/miniconda3/envs/SETU/lib/python3.11/site-packages (from daal4py==2023.1.1->scikit-learn-intelex) (2023.1.1)\n",
            "Requirement already satisfied: numpy>=1.19 in /Users/pratik/opt/miniconda3/envs/SETU/lib/python3.11/site-packages (from daal4py==2023.1.1->scikit-learn-intelex) (1.23.5)\n",
            "Requirement already satisfied: tbb==2021.* in /Users/pratik/opt/miniconda3/envs/SETU/lib/python3.11/site-packages (from daal==2023.1.1->daal4py==2023.1.1->scikit-learn-intelex) (2021.9.0)\n",
            "Requirement already satisfied: scipy>=1.3.2 in /Users/pratik/opt/miniconda3/envs/SETU/lib/python3.11/site-packages (from scikit-learn>=0.22->scikit-learn-intelex) (1.10.1)\n",
            "Requirement already satisfied: joblib>=1.1.1 in /Users/pratik/opt/miniconda3/envs/SETU/lib/python3.11/site-packages (from scikit-learn>=0.22->scikit-learn-intelex) (1.2.0)\n",
            "Requirement already satisfied: threadpoolctl>=2.0.0 in /Users/pratik/opt/miniconda3/envs/SETU/lib/python3.11/site-packages (from scikit-learn>=0.22->scikit-learn-intelex) (3.1.0)\n",
            "zsh:1: no matches found: sklearn-genetic-opt[all]\n"
          ]
        }
      ],
      "source": [
        "!pip install scikit-learn-intelex\n",
        "!pip install sklearn-genetic-opt[all]"
      ]
    },
    {
      "cell_type": "code",
      "execution_count": 1,
      "id": "E1SX5Gxt7LRd",
      "metadata": {
        "colab": {
          "base_uri": "https://localhost:8080/"
        },
        "id": "E1SX5Gxt7LRd",
        "outputId": "88bd8a1f-4cb0-47e8-dce8-a190254aa1b8"
      },
      "outputs": [
        {
          "name": "stderr",
          "output_type": "stream",
          "text": [
            "Intel(R) Extension for Scikit-learn* enabled (https://github.com/intel/scikit-learn-intelex)\n"
          ]
        },
        {
          "name": "stdout",
          "output_type": "stream",
          "text": [
            "zsh:1: command not found: nvidia-smi\n"
          ]
        },
        {
          "name": "stderr",
          "output_type": "stream",
          "text": [
            "2023-07-22 00:16:02.132810: I tensorflow/core/platform/cpu_feature_guard.cc:182] This TensorFlow binary is optimized to use available CPU instructions in performance-critical operations.\n",
            "To enable the following instructions: AVX2 FMA, in other operations, rebuild TensorFlow with the appropriate compiler flags.\n"
          ]
        },
        {
          "data": {
            "text/plain": [
              "[]"
            ]
          },
          "execution_count": 1,
          "metadata": {},
          "output_type": "execute_result"
        }
      ],
      "source": [
        "import sklearnex\n",
        "sklearnex.patch_sklearn()\n",
        "\n",
        "# Getting the GPU info\n",
        "gpu_info = !nvidia-smi\n",
        "gpu_info = '\\n'.join(gpu_info)\n",
        "if gpu_info.find('failed') >= 0:\n",
        "  print('Not connected to a GPU')\n",
        "else:\n",
        "  print(gpu_info)\n",
        "\n",
        "import tensorflow as tf\n",
        "# Making sure the GPU is connected and will be used\n",
        "gpus = tf.config.experimental.list_physical_devices('GPU')\n",
        "if gpus:\n",
        "    try:\n",
        "        for gpu in gpus:\n",
        "            tf.config.experimental.set_memory_growth(gpu, True)\n",
        "    except RuntimeError as e:\n",
        "        print(e)\n",
        "\n",
        "gpus"
      ]
    },
    {
      "cell_type": "code",
      "execution_count": 64,
      "id": "8Zf1DFAczfj9",
      "metadata": {
        "id": "8Zf1DFAczfj9"
      },
      "outputs": [],
      "source": [
        "# ALL IMPORTS\n",
        "import random\n",
        "import numpy as np\n",
        "import pandas as pd\n",
        "import seaborn as sns\n",
        "import matplotlib.pyplot as plt\n",
        "from sklearn.preprocessing import MinMaxScaler, StandardScaler\n",
        "from sklearn.model_selection import StratifiedKFold, train_test_split\n",
        "from sklearn.metrics import accuracy_score, confusion_matrix, classification_report\n",
        "from sklearn_genetic import GASearchCV\n",
        "from sklearn_genetic.space import Continuous, Categorical, Integer\n",
        "from sklearn_genetic.plots import plot_fitness_evolution, plot_search_space\n",
        "\n",
        "from sklearn.svm import SVC\n",
        "from sklearn.ensemble import RandomForestClassifier\n",
        "from sklearn.ensemble import GradientBoostingClassifier\n"
      ]
    },
    {
      "cell_type": "code",
      "execution_count": 4,
      "id": "wUBb0lSk1p4G",
      "metadata": {
        "id": "wUBb0lSk1p4G"
      },
      "outputs": [],
      "source": [
        "# Choose one of the ways to import data below.\n",
        "\n",
        "# My local path\n",
        "df = pd.read_csv('/Users/pratik/Github/MScDataScienceThesis/Skyserver_SQL5_24_2023 12_41_33 PM.csv')\n",
        "\n",
        "# Global Path\n",
        "# df = pd.read_csv(\"https://raw.githubusercontent.com/iamstarstuff/MScDataScienceThesis/main/Skyserver_SQL5_24_2023%2012_41_33%20PM.csv\")"
      ]
    },
    {
      "cell_type": "code",
      "execution_count": 5,
      "id": "c4RDwUWR2bkn",
      "metadata": {
        "colab": {
          "base_uri": "https://localhost:8080/",
          "height": 270
        },
        "id": "c4RDwUWR2bkn",
        "outputId": "da42ccda-aa83-48a2-cf25-815df5228d82"
      },
      "outputs": [
        {
          "data": {
            "text/html": [
              "<div>\n",
              "<style scoped>\n",
              "    .dataframe tbody tr th:only-of-type {\n",
              "        vertical-align: middle;\n",
              "    }\n",
              "\n",
              "    .dataframe tbody tr th {\n",
              "        vertical-align: top;\n",
              "    }\n",
              "\n",
              "    .dataframe thead th {\n",
              "        text-align: right;\n",
              "    }\n",
              "</style>\n",
              "<table border=\"1\" class=\"dataframe\">\n",
              "  <thead>\n",
              "    <tr style=\"text-align: right;\">\n",
              "      <th></th>\n",
              "      <th>objid</th>\n",
              "      <th>ra</th>\n",
              "      <th>dec</th>\n",
              "      <th>u</th>\n",
              "      <th>g</th>\n",
              "      <th>r</th>\n",
              "      <th>i</th>\n",
              "      <th>z</th>\n",
              "      <th>run</th>\n",
              "      <th>rerun</th>\n",
              "      <th>camcol</th>\n",
              "      <th>field</th>\n",
              "      <th>specobjid</th>\n",
              "      <th>class</th>\n",
              "      <th>redshift</th>\n",
              "      <th>plate</th>\n",
              "      <th>mjd</th>\n",
              "      <th>fiberid</th>\n",
              "    </tr>\n",
              "  </thead>\n",
              "  <tbody>\n",
              "    <tr>\n",
              "      <th>0</th>\n",
              "      <td>1.237660e+18</td>\n",
              "      <td>213.992460</td>\n",
              "      <td>-2.453992</td>\n",
              "      <td>17.92948</td>\n",
              "      <td>18.19919</td>\n",
              "      <td>18.66623</td>\n",
              "      <td>19.01955</td>\n",
              "      <td>19.31679</td>\n",
              "      <td>2379</td>\n",
              "      <td>301</td>\n",
              "      <td>3</td>\n",
              "      <td>32</td>\n",
              "      <td>4.543040e+18</td>\n",
              "      <td>STAR</td>\n",
              "      <td>0.000076</td>\n",
              "      <td>4035</td>\n",
              "      <td>55383</td>\n",
              "      <td>112</td>\n",
              "    </tr>\n",
              "    <tr>\n",
              "      <th>1</th>\n",
              "      <td>1.237660e+18</td>\n",
              "      <td>214.058474</td>\n",
              "      <td>-2.597317</td>\n",
              "      <td>18.79543</td>\n",
              "      <td>17.72650</td>\n",
              "      <td>17.31048</td>\n",
              "      <td>17.14916</td>\n",
              "      <td>17.10742</td>\n",
              "      <td>2379</td>\n",
              "      <td>301</td>\n",
              "      <td>3</td>\n",
              "      <td>32</td>\n",
              "      <td>1.031330e+18</td>\n",
              "      <td>STAR</td>\n",
              "      <td>0.000092</td>\n",
              "      <td>916</td>\n",
              "      <td>52378</td>\n",
              "      <td>30</td>\n",
              "    </tr>\n",
              "    <tr>\n",
              "      <th>2</th>\n",
              "      <td>1.237660e+18</td>\n",
              "      <td>214.551367</td>\n",
              "      <td>-2.504556</td>\n",
              "      <td>19.32994</td>\n",
              "      <td>18.36031</td>\n",
              "      <td>18.04727</td>\n",
              "      <td>17.91241</td>\n",
              "      <td>17.85185</td>\n",
              "      <td>2379</td>\n",
              "      <td>301</td>\n",
              "      <td>3</td>\n",
              "      <td>36</td>\n",
              "      <td>4.539760e+18</td>\n",
              "      <td>STAR</td>\n",
              "      <td>0.000496</td>\n",
              "      <td>4032</td>\n",
              "      <td>55333</td>\n",
              "      <td>463</td>\n",
              "    </tr>\n",
              "    <tr>\n",
              "      <th>3</th>\n",
              "      <td>1.237660e+18</td>\n",
              "      <td>215.094035</td>\n",
              "      <td>-2.431390</td>\n",
              "      <td>19.58494</td>\n",
              "      <td>19.71145</td>\n",
              "      <td>19.29750</td>\n",
              "      <td>19.19037</td>\n",
              "      <td>19.28850</td>\n",
              "      <td>2379</td>\n",
              "      <td>301</td>\n",
              "      <td>3</td>\n",
              "      <td>39</td>\n",
              "      <td>1.032490e+18</td>\n",
              "      <td>QSO</td>\n",
              "      <td>1.340945</td>\n",
              "      <td>917</td>\n",
              "      <td>52400</td>\n",
              "      <td>160</td>\n",
              "    </tr>\n",
              "    <tr>\n",
              "      <th>4</th>\n",
              "      <td>1.237660e+18</td>\n",
              "      <td>215.137407</td>\n",
              "      <td>-2.539874</td>\n",
              "      <td>19.12029</td>\n",
              "      <td>18.20783</td>\n",
              "      <td>17.91957</td>\n",
              "      <td>17.80769</td>\n",
              "      <td>17.77281</td>\n",
              "      <td>2379</td>\n",
              "      <td>301</td>\n",
              "      <td>3</td>\n",
              "      <td>40</td>\n",
              "      <td>1.032490e+18</td>\n",
              "      <td>STAR</td>\n",
              "      <td>-0.000352</td>\n",
              "      <td>917</td>\n",
              "      <td>52400</td>\n",
              "      <td>142</td>\n",
              "    </tr>\n",
              "  </tbody>\n",
              "</table>\n",
              "</div>"
            ],
            "text/plain": [
              "          objid          ra       dec         u         g         r         i   \n",
              "0  1.237660e+18  213.992460 -2.453992  17.92948  18.19919  18.66623  19.01955  \\\n",
              "1  1.237660e+18  214.058474 -2.597317  18.79543  17.72650  17.31048  17.14916   \n",
              "2  1.237660e+18  214.551367 -2.504556  19.32994  18.36031  18.04727  17.91241   \n",
              "3  1.237660e+18  215.094035 -2.431390  19.58494  19.71145  19.29750  19.19037   \n",
              "4  1.237660e+18  215.137407 -2.539874  19.12029  18.20783  17.91957  17.80769   \n",
              "\n",
              "          z   run  rerun  camcol  field     specobjid class  redshift  plate   \n",
              "0  19.31679  2379    301       3     32  4.543040e+18  STAR  0.000076   4035  \\\n",
              "1  17.10742  2379    301       3     32  1.031330e+18  STAR  0.000092    916   \n",
              "2  17.85185  2379    301       3     36  4.539760e+18  STAR  0.000496   4032   \n",
              "3  19.28850  2379    301       3     39  1.032490e+18   QSO  1.340945    917   \n",
              "4  17.77281  2379    301       3     40  1.032490e+18  STAR -0.000352    917   \n",
              "\n",
              "     mjd  fiberid  \n",
              "0  55383      112  \n",
              "1  52378       30  \n",
              "2  55333      463  \n",
              "3  52400      160  \n",
              "4  52400      142  "
            ]
          },
          "execution_count": 5,
          "metadata": {},
          "output_type": "execute_result"
        }
      ],
      "source": [
        "df.head()"
      ]
    },
    {
      "cell_type": "code",
      "execution_count": 6,
      "id": "EFpiCznJONpI",
      "metadata": {
        "colab": {
          "base_uri": "https://localhost:8080/"
        },
        "id": "EFpiCznJONpI",
        "outputId": "fdf71584-8dfc-4082-dd06-2eaa046720c7"
      },
      "outputs": [
        {
          "data": {
            "text/plain": [
              "(500000, 18)"
            ]
          },
          "execution_count": 6,
          "metadata": {},
          "output_type": "execute_result"
        }
      ],
      "source": [
        "df.shape"
      ]
    },
    {
      "cell_type": "code",
      "execution_count": null,
      "id": "xL4INtE-xQdo",
      "metadata": {
        "id": "xL4INtE-xQdo"
      },
      "outputs": [],
      "source": [
        "class_mapping = {class_label: idx for idx, class_label in enumerate(df['class'].unique())}\n",
        "df['Encoded_Class'] = df['class'].map(class_mapping)"
      ]
    },
    {
      "cell_type": "code",
      "execution_count": null,
      "id": "mMn-bUNa4l8T",
      "metadata": {
        "id": "mMn-bUNa4l8T"
      },
      "outputs": [],
      "source": [
        "highcorr = df[['u','g','r','i','z','redshift','Encoded_Class']].corr()"
      ]
    },
    {
      "cell_type": "code",
      "execution_count": null,
      "id": "6SUPSGPH4uN2",
      "metadata": {
        "colab": {
          "base_uri": "https://localhost:8080/",
          "height": 542
        },
        "id": "6SUPSGPH4uN2",
        "outputId": "d48c3873-06c6-4776-d1f2-a90a34d58738"
      },
      "outputs": [
        {
          "data": {
            "text/plain": [
              "<Axes: >"
            ]
          },
          "execution_count": 10,
          "metadata": {},
          "output_type": "execute_result"
        },
        {
          "data": {
            "image/png": "[encoded data removed]",
            "text/plain": [
              "<Figure size 640x480 with 2 Axes>"
            ]
          },
          "metadata": {},
          "output_type": "display_data"
        }
      ],
      "source": [
        "sns.heatmap(highcorr, annot=True, cmap='coolwarm',lw=0.5)"
      ]
    },
    {
      "cell_type": "code",
      "execution_count": 24,
      "id": "QenOo7524_RB",
      "metadata": {
        "id": "QenOo7524_RB"
      },
      "outputs": [],
      "source": [
        "X = df[['u', 'g', 'r', 'i', 'z', 'redshift']]\n",
        "y = df['class']"
      ]
    },
    {
      "cell_type": "code",
      "execution_count": 25,
      "id": "98683664",
      "metadata": {},
      "outputs": [
        {
          "data": {
            "text/html": [
              "<div>\n",
              "<style scoped>\n",
              "    .dataframe tbody tr th:only-of-type {\n",
              "        vertical-align: middle;\n",
              "    }\n",
              "\n",
              "    .dataframe tbody tr th {\n",
              "        vertical-align: top;\n",
              "    }\n",
              "\n",
              "    .dataframe thead th {\n",
              "        text-align: right;\n",
              "    }\n",
              "</style>\n",
              "<table border=\"1\" class=\"dataframe\">\n",
              "  <thead>\n",
              "    <tr style=\"text-align: right;\">\n",
              "      <th></th>\n",
              "      <th>u</th>\n",
              "      <th>g</th>\n",
              "      <th>r</th>\n",
              "      <th>i</th>\n",
              "      <th>z</th>\n",
              "      <th>redshift</th>\n",
              "    </tr>\n",
              "  </thead>\n",
              "  <tbody>\n",
              "    <tr>\n",
              "      <th>0</th>\n",
              "      <td>17.92948</td>\n",
              "      <td>18.19919</td>\n",
              "      <td>18.66623</td>\n",
              "      <td>19.01955</td>\n",
              "      <td>19.31679</td>\n",
              "      <td>0.000076</td>\n",
              "    </tr>\n",
              "    <tr>\n",
              "      <th>1</th>\n",
              "      <td>18.79543</td>\n",
              "      <td>17.72650</td>\n",
              "      <td>17.31048</td>\n",
              "      <td>17.14916</td>\n",
              "      <td>17.10742</td>\n",
              "      <td>0.000092</td>\n",
              "    </tr>\n",
              "    <tr>\n",
              "      <th>2</th>\n",
              "      <td>19.32994</td>\n",
              "      <td>18.36031</td>\n",
              "      <td>18.04727</td>\n",
              "      <td>17.91241</td>\n",
              "      <td>17.85185</td>\n",
              "      <td>0.000496</td>\n",
              "    </tr>\n",
              "    <tr>\n",
              "      <th>3</th>\n",
              "      <td>19.58494</td>\n",
              "      <td>19.71145</td>\n",
              "      <td>19.29750</td>\n",
              "      <td>19.19037</td>\n",
              "      <td>19.28850</td>\n",
              "      <td>1.340945</td>\n",
              "    </tr>\n",
              "    <tr>\n",
              "      <th>4</th>\n",
              "      <td>19.12029</td>\n",
              "      <td>18.20783</td>\n",
              "      <td>17.91957</td>\n",
              "      <td>17.80769</td>\n",
              "      <td>17.77281</td>\n",
              "      <td>-0.000352</td>\n",
              "    </tr>\n",
              "    <tr>\n",
              "      <th>...</th>\n",
              "      <td>...</td>\n",
              "      <td>...</td>\n",
              "      <td>...</td>\n",
              "      <td>...</td>\n",
              "      <td>...</td>\n",
              "      <td>...</td>\n",
              "    </tr>\n",
              "    <tr>\n",
              "      <th>499995</th>\n",
              "      <td>17.78246</td>\n",
              "      <td>16.86913</td>\n",
              "      <td>16.55873</td>\n",
              "      <td>16.43988</td>\n",
              "      <td>16.41700</td>\n",
              "      <td>-0.000542</td>\n",
              "    </tr>\n",
              "    <tr>\n",
              "      <th>499996</th>\n",
              "      <td>19.04626</td>\n",
              "      <td>18.06749</td>\n",
              "      <td>17.74344</td>\n",
              "      <td>17.63477</td>\n",
              "      <td>17.60972</td>\n",
              "      <td>0.000202</td>\n",
              "    </tr>\n",
              "    <tr>\n",
              "      <th>499997</th>\n",
              "      <td>19.58920</td>\n",
              "      <td>19.34045</td>\n",
              "      <td>19.15837</td>\n",
              "      <td>19.22703</td>\n",
              "      <td>18.96689</td>\n",
              "      <td>0.915697</td>\n",
              "    </tr>\n",
              "    <tr>\n",
              "      <th>499998</th>\n",
              "      <td>18.17178</td>\n",
              "      <td>17.14406</td>\n",
              "      <td>16.76121</td>\n",
              "      <td>16.61548</td>\n",
              "      <td>16.56664</td>\n",
              "      <td>-0.000357</td>\n",
              "    </tr>\n",
              "    <tr>\n",
              "      <th>499999</th>\n",
              "      <td>19.08807</td>\n",
              "      <td>18.84809</td>\n",
              "      <td>18.75815</td>\n",
              "      <td>18.51155</td>\n",
              "      <td>18.56125</td>\n",
              "      <td>1.626739</td>\n",
              "    </tr>\n",
              "  </tbody>\n",
              "</table>\n",
              "<p>500000 rows × 6 columns</p>\n",
              "</div>"
            ],
            "text/plain": [
              "               u         g         r         i         z  redshift\n",
              "0       17.92948  18.19919  18.66623  19.01955  19.31679  0.000076\n",
              "1       18.79543  17.72650  17.31048  17.14916  17.10742  0.000092\n",
              "2       19.32994  18.36031  18.04727  17.91241  17.85185  0.000496\n",
              "3       19.58494  19.71145  19.29750  19.19037  19.28850  1.340945\n",
              "4       19.12029  18.20783  17.91957  17.80769  17.77281 -0.000352\n",
              "...          ...       ...       ...       ...       ...       ...\n",
              "499995  17.78246  16.86913  16.55873  16.43988  16.41700 -0.000542\n",
              "499996  19.04626  18.06749  17.74344  17.63477  17.60972  0.000202\n",
              "499997  19.58920  19.34045  19.15837  19.22703  18.96689  0.915697\n",
              "499998  18.17178  17.14406  16.76121  16.61548  16.56664 -0.000357\n",
              "499999  19.08807  18.84809  18.75815  18.51155  18.56125  1.626739\n",
              "\n",
              "[500000 rows x 6 columns]"
            ]
          },
          "execution_count": 25,
          "metadata": {},
          "output_type": "execute_result"
        }
      ],
      "source": [
        "X"
      ]
    },
    {
      "cell_type": "code",
      "execution_count": 26,
      "id": "4f5e8a37",
      "metadata": {},
      "outputs": [],
      "source": [
        "# Scale the features\n",
        "scaler = MinMaxScaler()\n",
        "X = scaler.fit_transform(X)"
      ]
    },
    {
      "cell_type": "code",
      "execution_count": 27,
      "id": "d6be4fa9",
      "metadata": {},
      "outputs": [],
      "source": [
        "# Setting seeds for Reproducibility\n",
        "\n",
        "import random\n",
        "import numpy as np\n",
        "\n",
        "random_seed = 42\n",
        "\n",
        "np.random.seed(random_seed)\n",
        "random.seed(random_seed)"
      ]
    },
    {
      "cell_type": "code",
      "execution_count": 28,
      "id": "61578387",
      "metadata": {},
      "outputs": [],
      "source": [
        "X_train, X_rem, y_train, y_rem = train_test_split(X,y, train_size=0.6,random_state=random_seed)\n",
        "X_valid, X_test, y_valid, y_test = train_test_split(X_rem,y_rem, test_size=0.5, random_state=random_seed)"
      ]
    },
    {
      "cell_type": "code",
      "execution_count": 29,
      "id": "91af8e7e",
      "metadata": {},
      "outputs": [
        {
          "name": "stdout",
          "output_type": "stream",
          "text": [
            "(300000, 6)\n",
            "(300000,)\n",
            "(100000, 6)\n",
            "(100000,)\n",
            "(100000, 6)\n",
            "(100000,)\n"
          ]
        },
        {
          "data": {
            "text/plain": [
              "(None, None)"
            ]
          },
          "execution_count": 29,
          "metadata": {},
          "output_type": "execute_result"
        }
      ],
      "source": [
        "print(X_train.shape), print(y_train.shape)\n",
        "print(X_valid.shape), print(y_valid.shape)\n",
        "print(X_test.shape), print(y_test.shape)"
      ]
    },
    {
      "cell_type": "code",
      "execution_count": 61,
      "id": "320c40b0",
      "metadata": {},
      "outputs": [
        {
          "data": {
            "text/plain": [
              "class\n",
              "GALAXY    151319\n",
              "STAR      115894\n",
              "QSO        32787\n",
              "Name: count, dtype: int64"
            ]
          },
          "execution_count": 61,
          "metadata": {},
          "output_type": "execute_result"
        }
      ],
      "source": [
        "y_train.value_counts()"
      ]
    },
    {
      "cell_type": "markdown",
      "id": "t-wAxmdr3koJ",
      "metadata": {
        "id": "t-wAxmdr3koJ"
      },
      "source": [
        "# SVM"
      ]
    },
    {
      "cell_type": "code",
      "execution_count": null,
      "id": "swH3MWyFz-fD",
      "metadata": {
        "colab": {
          "base_uri": "https://localhost:8080/"
        },
        "id": "swH3MWyFz-fD",
        "outputId": "0e2faceb-1300-498f-a255-ff25c8ff30f5"
      },
      "outputs": [
        {
          "name": "stdout",
          "output_type": "stream",
          "text": [
            "Accuracy: 0.98366\n"
          ]
        }
      ],
      "source": [
        "from sklearn.svm import SVC\n",
        "from sklearn.preprocessing import StandardScaler\n",
        "from sklearn.model_selection import train_test_split\n",
        "from sklearn.metrics import accuracy_score, confusion_matrix\n",
        "\n",
        "# Scale the features\n",
        "scaler = StandardScaler()\n",
        "X_scaled = scaler.fit_transform(X)\n",
        "\n",
        "# Split the dataset into training and testing sets\n",
        "X_train, X_test, y_train, y_test = train_test_split(X_scaled, y, test_size=0.2, random_state=42)\n",
        "\n",
        "# Create the classifier\n",
        "clf = SVC()\n",
        "\n",
        "# Train the classifier\n",
        "clf.fit(X_train, y_train, )\n",
        "\n",
        "# Predict the labels for the test set\n",
        "y_pred = clf.predict(X_test)\n",
        "\n",
        "# Evaluate the accuracy\n",
        "accuracy = accuracy_score(y_test, y_pred)\n",
        "print(\"Accuracy:\", accuracy)\n"
      ]
    },
    {
      "cell_type": "code",
      "execution_count": null,
      "id": "zDEXmyLr7Efr",
      "metadata": {
        "colab": {
          "base_uri": "https://localhost:8080/",
          "height": 564
        },
        "id": "zDEXmyLr7Efr",
        "outputId": "cde37f57-1bd1-44c2-823a-7b2a5be34119"
      },
      "outputs": [
        {
          "data": {
            "image/png": "[encoded data removed]",
            "text/plain": [
              "<Figure size 800x600 with 1 Axes>"
            ]
          },
          "metadata": {},
          "output_type": "display_data"
        }
      ],
      "source": [
        "y_pred = clf.predict(X_test)\n",
        "\n",
        "# Create the confusion matrix\n",
        "cm = confusion_matrix(y_test, y_pred)\n",
        "\n",
        "# Display the confusion matrix using a heatmap\n",
        "plt.figure(figsize=(8, 6))\n",
        "sns.heatmap(cm, annot=True, fmt='d', cmap='Blues', cbar=False,\n",
        "            xticklabels=['Galaxy', 'Star', 'Quasar'],\n",
        "            yticklabels=['Galaxy', 'Star', 'Quasar'])\n",
        "plt.xlabel('Predicted')\n",
        "plt.ylabel('True')\n",
        "plt.title('Confusion Matrix')\n",
        "plt.show()"
      ]
    },
    {
      "cell_type": "code",
      "execution_count": null,
      "id": "G8MEl8xnVOBb",
      "metadata": {
        "id": "G8MEl8xnVOBb"
      },
      "outputs": [],
      "source": [
        "# Define the parameter grid\n",
        "param_grid = {\n",
        "    'C': Continuous(1e-5, 1e10),  # Continuous range from 1e-5 to 1e10\n",
        "    'gamma': Continuous(1e-15, 1e3),  # Continuous range from 1e-15 to 1e3\n",
        "    'kernel': Categorical(['linear', 'rbf', 'poly'])\n",
        "}\n",
        "\n",
        "# Create the SVM classifier\n",
        "svc = SVC()\n",
        "\n",
        "\n",
        "# Create the genetic algorithm search object\n",
        "ga_search = GASearchCV(\n",
        "    estimator=svc,\n",
        "    cv=cv,\n",
        "    scoring='accuracy',\n",
        "    population_size=5,\n",
        "    generations=5,\n",
        "    tournament_size=3,\n",
        "    elitism=True,\n",
        "    crossover_probability=0.5,\n",
        "    mutation_probability=0.1,\n",
        "    param_grid=param_grid,\n",
        "    criteria='max',\n",
        "    algorithm='eaMuPlusLambda',\n",
        "    n_jobs=-1,\n",
        "    verbose=True,\n",
        "    keep_top_k=3 \n",
        ")\n",
        "\n",
        "# Perform the hyperparameter tuning\n",
        "ga_search.fit(X_train, y_train)"
      ]
    },
    {
      "cell_type": "code",
      "execution_count": null,
      "id": "456e8047",
      "metadata": {},
      "outputs": [],
      "source": [
        "# Get the best hyperparameters and accuracy score\n",
        "best_params = ga_search.best_params_\n",
        "best_score = ga_search.best_score_\n",
        "\n",
        "# Train the classifier with the best hyperparameters\n",
        "best_clf = SVC(C=best_params['C'], gamma=best_params['gamma'])\n",
        "best_clf.fit(X_train, y_train)\n",
        "\n",
        "# Predict the labels for the test set using the best classifier\n",
        "y_pred = best_clf.predict(X_test)\n",
        "\n",
        "# Calculate the accuracy of the best classifier\n",
        "accuracy = accuracy_score(y_test, y_pred)\n",
        "\n",
        "# Print the results\n",
        "print(\"Best Hyperparameters:\", best_params)\n",
        "print(\"Best Accuracy:\", best_score)\n",
        "print(\"Test Accuracy:\", accuracy)"
      ]
    },
    {
      "cell_type": "markdown",
      "id": "akp-jjqo3nD4",
      "metadata": {
        "id": "akp-jjqo3nD4"
      },
      "source": [
        "# Random Forest"
      ]
    },
    {
      "cell_type": "code",
      "execution_count": 33,
      "id": "hQ44ncmM4eSs",
      "metadata": {
        "id": "hQ44ncmM4eSs"
      },
      "outputs": [],
      "source": [
        "rfc = RandomForestClassifier(random_state=random_seed)"
      ]
    },
    {
      "cell_type": "markdown",
      "id": "JxXpCtUUWSoF",
      "metadata": {
        "id": "JxXpCtUUWSoF"
      },
      "source": [
        "## Baseline\n",
        "Performance of classifier using the default hyperparameter values"
      ]
    },
    {
      "cell_type": "code",
      "execution_count": 35,
      "id": "quDIarfFWCE_",
      "metadata": {
        "colab": {
          "base_uri": "https://localhost:8080/"
        },
        "id": "quDIarfFWCE_",
        "outputId": "1dc14258-780a-4878-c313-4cf1718e4214"
      },
      "outputs": [
        {
          "name": "stdout",
          "output_type": "stream",
          "text": [
            "Test set Accuracy: 0.99087\n",
            "Validation set Accuracy: 0.99103\n"
          ]
        }
      ],
      "source": [
        "rfc.fit(X_train,y_train)\n",
        "\n",
        "y_test_pred = rfc.predict(X_test)\n",
        "y_valid_pred = rfc.predict(X_valid)\n",
        "\n",
        "# Evaluate the accuracy\n",
        "test_accuracy = accuracy_score(y_test, y_test_pred)\n",
        "validation_accuracy = accuracy_score(y_valid, y_valid_pred)\n",
        "print(\"Test set Accuracy:\", test_accuracy)\n",
        "print(\"Validation set Accuracy:\", validation_accuracy)"
      ]
    },
    {
      "cell_type": "code",
      "execution_count": 63,
      "id": "dba19330",
      "metadata": {},
      "outputs": [
        {
          "name": "stdout",
          "output_type": "stream",
          "text": [
            "              precision    recall  f1-score   support\n",
            "\n",
            "      GALAXY       0.99      0.99      0.99     50399\n",
            "         QSO       0.98      0.95      0.96     10798\n",
            "        STAR       0.99      1.00      0.99     38803\n",
            "\n",
            "    accuracy                           0.99    100000\n",
            "   macro avg       0.98      0.98      0.98    100000\n",
            "weighted avg       0.99      0.99      0.99    100000\n",
            "\n"
          ]
        }
      ],
      "source": [
        "\n",
        "print(classification_report(y_test, y_test_pred))"
      ]
    },
    {
      "cell_type": "markdown",
      "id": "9e1_g3QRc2-q",
      "metadata": {
        "id": "9e1_g3QRc2-q"
      },
      "source": [
        "**👆🏻Signs of overfitting**"
      ]
    },
    {
      "cell_type": "markdown",
      "id": "EEtTHBHLWZHd",
      "metadata": {
        "id": "EEtTHBHLWZHd"
      },
      "source": [
        "## Genetic optimisation"
      ]
    },
    {
      "cell_type": "code",
      "execution_count": 36,
      "id": "Q6EENU7X4rPH",
      "metadata": {
        "id": "Q6EENU7X4rPH"
      },
      "outputs": [],
      "source": [
        "param_grid = {'min_weight_fraction_leaf': Continuous(0.01, 0.5, distribution='log-uniform',\n",
        "                                                     random_state=random_seed),\n",
        "              'n_estimators': Integer(100, 300,random_state=random_seed)}\n",
        "\n",
        "# Write about why we use StratifiedKFold\n",
        "# https://stackoverflow.com/questions/65318931/stratifiedkfold-vs-kfold-in-scikit-learn\n",
        "cv = StratifiedKFold(n_splits=3, shuffle=True, random_state=random_seed)\n",
        "\n",
        "evolved_estimator = GASearchCV(estimator=rfc,\n",
        "                               cv=cv,\n",
        "                               scoring='accuracy',\n",
        "                               population_size=10,\n",
        "                               generations=5,\n",
        "                               tournament_size=3,\n",
        "                               elitism=True,\n",
        "                               crossover_probability=0.5,\n",
        "                               mutation_probability=0.1,\n",
        "                               param_grid=param_grid,\n",
        "                               criteria='max',\n",
        "                               algorithm='eaMuPlusLambda',\n",
        "                               n_jobs=-1,\n",
        "                               verbose=True,\n",
        "                               keep_top_k=3)"
      ]
    },
    {
      "cell_type": "code",
      "execution_count": 37,
      "id": "xC5gdrbg4zNH",
      "metadata": {
        "colab": {
          "base_uri": "https://localhost:8080/",
          "height": 239
        },
        "id": "xC5gdrbg4zNH",
        "outputId": "f8a0950b-b05d-4bdf-d31a-6937c17e1a70"
      },
      "outputs": [
        {
          "name": "stdout",
          "output_type": "stream",
          "text": [
            "gen\tnevals\tfitness \tfitness_std\tfitness_max\tfitness_min\n",
            "0  \t10    \t0.947144\t0.0488439  \t0.974233   \t0.82207    \n",
            "1  \t12    \t0.972184\t0.00182328 \t0.974233   \t0.96921    \n",
            "2  \t9     \t0.97342 \t0.0015451  \t0.974233   \t0.969343   \n",
            "3  \t13    \t0.974304\t0.000155524\t0.974733   \t0.974233   \n",
            "4  \t13    \t0.974365\t0.00015585 \t0.974733   \t0.974233   \n",
            "5  \t14    \t0.975109\t0.00186352 \t0.980673   \t0.974233   \n"
          ]
        },
        {
          "data": {
            "text/html": [
              "<style>#sk-container-id-1 {color: black;background-color: white;}#sk-container-id-1 pre{padding: 0;}#sk-container-id-1 div.sk-toggleable {background-color: white;}#sk-container-id-1 label.sk-toggleable__label {cursor: pointer;display: block;width: 100%;margin-bottom: 0;padding: 0.3em;box-sizing: border-box;text-align: center;}#sk-container-id-1 label.sk-toggleable__label-arrow:before {content: \"▸\";float: left;margin-right: 0.25em;color: #696969;}#sk-container-id-1 label.sk-toggleable__label-arrow:hover:before {color: black;}#sk-container-id-1 div.sk-estimator:hover label.sk-toggleable__label-arrow:before {color: black;}#sk-container-id-1 div.sk-toggleable__content {max-height: 0;max-width: 0;overflow: hidden;text-align: left;background-color: #f0f8ff;}#sk-container-id-1 div.sk-toggleable__content pre {margin: 0.2em;color: black;border-radius: 0.25em;background-color: #f0f8ff;}#sk-container-id-1 input.sk-toggleable__control:checked~div.sk-toggleable__content {max-height: 200px;max-width: 100%;overflow: auto;}#sk-container-id-1 input.sk-toggleable__control:checked~label.sk-toggleable__label-arrow:before {content: \"▾\";}#sk-container-id-1 div.sk-estimator input.sk-toggleable__control:checked~label.sk-toggleable__label {background-color: #d4ebff;}#sk-container-id-1 div.sk-label input.sk-toggleable__control:checked~label.sk-toggleable__label {background-color: #d4ebff;}#sk-container-id-1 input.sk-hidden--visually {border: 0;clip: rect(1px 1px 1px 1px);clip: rect(1px, 1px, 1px, 1px);height: 1px;margin: -1px;overflow: hidden;padding: 0;position: absolute;width: 1px;}#sk-container-id-1 div.sk-estimator {font-family: monospace;background-color: #f0f8ff;border: 1px dotted black;border-radius: 0.25em;box-sizing: border-box;margin-bottom: 0.5em;}#sk-container-id-1 div.sk-estimator:hover {background-color: #d4ebff;}#sk-container-id-1 div.sk-parallel-item::after {content: \"\";width: 100%;border-bottom: 1px solid gray;flex-grow: 1;}#sk-container-id-1 div.sk-label:hover label.sk-toggleable__label {background-color: #d4ebff;}#sk-container-id-1 div.sk-serial::before {content: \"\";position: absolute;border-left: 1px solid gray;box-sizing: border-box;top: 0;bottom: 0;left: 50%;z-index: 0;}#sk-container-id-1 div.sk-serial {display: flex;flex-direction: column;align-items: center;background-color: white;padding-right: 0.2em;padding-left: 0.2em;position: relative;}#sk-container-id-1 div.sk-item {position: relative;z-index: 1;}#sk-container-id-1 div.sk-parallel {display: flex;align-items: stretch;justify-content: center;background-color: white;position: relative;}#sk-container-id-1 div.sk-item::before, #sk-container-id-1 div.sk-parallel-item::before {content: \"\";position: absolute;border-left: 1px solid gray;box-sizing: border-box;top: 0;bottom: 0;left: 50%;z-index: -1;}#sk-container-id-1 div.sk-parallel-item {display: flex;flex-direction: column;z-index: 1;position: relative;background-color: white;}#sk-container-id-1 div.sk-parallel-item:first-child::after {align-self: flex-end;width: 50%;}#sk-container-id-1 div.sk-parallel-item:last-child::after {align-self: flex-start;width: 50%;}#sk-container-id-1 div.sk-parallel-item:only-child::after {width: 0;}#sk-container-id-1 div.sk-dashed-wrapped {border: 1px dashed gray;margin: 0 0.4em 0.5em 0.4em;box-sizing: border-box;padding-bottom: 0.4em;background-color: white;}#sk-container-id-1 div.sk-label label {font-family: monospace;font-weight: bold;display: inline-block;line-height: 1.2em;}#sk-container-id-1 div.sk-label-container {text-align: center;}#sk-container-id-1 div.sk-container {/* jupyter's `normalize.less` sets `[hidden] { display: none; }` but bootstrap.min.css set `[hidden] { display: none !important; }` so we also need the `!important` here to be able to override the default hidden behavior on the sphinx rendered scikit-learn.org. See: https://github.com/scikit-learn/scikit-learn/issues/21755 */display: inline-block !important;position: relative;}#sk-container-id-1 div.sk-text-repr-fallback {display: none;}</style><div id=\"sk-container-id-1\" class=\"sk-top-container\"><div class=\"sk-text-repr-fallback\"><pre>GASearchCV(crossover_probability=0.5,\n",
              "           cv=StratifiedKFold(n_splits=3, random_state=42, shuffle=True),\n",
              "           estimator=RandomForestClassifier(min_weight_fraction_leaf=0.014454547118247537,\n",
              "                                            n_estimators=125, random_state=42),\n",
              "           generations=5, keep_top_k=3, mutation_probability=0.1, n_jobs=-1,\n",
              "           param_grid={&#x27;min_weight_fraction_leaf&#x27;: &lt;sklearn_genetic.space.space.Continuous object at 0x17916bb90&gt;,\n",
              "                       &#x27;n_estimators&#x27;: &lt;sklearn_genetic.space.space.Integer object at 0x1791fa4d0&gt;},\n",
              "           population_size=10, return_train_score=True, scoring=&#x27;accuracy&#x27;)</pre><b>In a Jupyter environment, please rerun this cell to show the HTML representation or trust the notebook. <br />On GitHub, the HTML representation is unable to render, please try loading this page with nbviewer.org.</b></div><div class=\"sk-container\" hidden><div class=\"sk-item sk-dashed-wrapped\"><div class=\"sk-label-container\"><div class=\"sk-label sk-toggleable\"><input class=\"sk-toggleable__control sk-hidden--visually\" id=\"sk-estimator-id-1\" type=\"checkbox\" ><label for=\"sk-estimator-id-1\" class=\"sk-toggleable__label sk-toggleable__label-arrow\">GASearchCV</label><div class=\"sk-toggleable__content\"><pre>GASearchCV(crossover_probability=0.5,\n",
              "           cv=StratifiedKFold(n_splits=3, random_state=42, shuffle=True),\n",
              "           estimator=RandomForestClassifier(min_weight_fraction_leaf=0.014454547118247537,\n",
              "                                            n_estimators=125, random_state=42),\n",
              "           generations=5, keep_top_k=3, mutation_probability=0.1, n_jobs=-1,\n",
              "           param_grid={&#x27;min_weight_fraction_leaf&#x27;: &lt;sklearn_genetic.space.space.Continuous object at 0x17916bb90&gt;,\n",
              "                       &#x27;n_estimators&#x27;: &lt;sklearn_genetic.space.space.Integer object at 0x1791fa4d0&gt;},\n",
              "           population_size=10, return_train_score=True, scoring=&#x27;accuracy&#x27;)</pre></div></div></div><div class=\"sk-parallel\"><div class=\"sk-parallel-item\"><div class=\"sk-item\"><div class=\"sk-label-container\"><div class=\"sk-label sk-toggleable\"><input class=\"sk-toggleable__control sk-hidden--visually\" id=\"sk-estimator-id-2\" type=\"checkbox\" ><label for=\"sk-estimator-id-2\" class=\"sk-toggleable__label sk-toggleable__label-arrow\">estimator: RandomForestClassifier</label><div class=\"sk-toggleable__content\"><pre>RandomForestClassifier(min_weight_fraction_leaf=0.014454547118247537,\n",
              "                       n_estimators=125, random_state=42)</pre></div></div></div><div class=\"sk-serial\"><div class=\"sk-item\"><div class=\"sk-estimator sk-toggleable\"><input class=\"sk-toggleable__control sk-hidden--visually\" id=\"sk-estimator-id-3\" type=\"checkbox\" ><label for=\"sk-estimator-id-3\" class=\"sk-toggleable__label sk-toggleable__label-arrow\">RandomForestClassifier</label><div class=\"sk-toggleable__content\"><pre>RandomForestClassifier(min_weight_fraction_leaf=0.014454547118247537,\n",
              "                       n_estimators=125, random_state=42)</pre></div></div></div></div></div></div></div></div></div></div>"
            ],
            "text/plain": [
              "GASearchCV(crossover_probability=0.5,\n",
              "           cv=StratifiedKFold(n_splits=3, random_state=42, shuffle=True),\n",
              "           estimator=RandomForestClassifier(min_weight_fraction_leaf=0.014454547118247537,\n",
              "                                            n_estimators=125, random_state=42),\n",
              "           generations=5, keep_top_k=3, mutation_probability=0.1, n_jobs=-1,\n",
              "           param_grid={'min_weight_fraction_leaf': <sklearn_genetic.space.space.Continuous object at 0x17916bb90>,\n",
              "                       'n_estimators': <sklearn_genetic.space.space.Integer object at 0x1791fa4d0>},\n",
              "           population_size=10, return_train_score=True, scoring='accuracy')"
            ]
          },
          "execution_count": 37,
          "metadata": {},
          "output_type": "execute_result"
        }
      ],
      "source": [
        "# TAKES ABOUT 15-20 MINUTES TO RUN\n",
        "evolved_estimator.fit(X_train,y_train)"
      ]
    },
    {
      "cell_type": "code",
      "execution_count": 38,
      "id": "VVsJM9XV-UVi",
      "metadata": {
        "colab": {
          "base_uri": "https://localhost:8080/"
        },
        "id": "VVsJM9XV-UVi",
        "outputId": "d48ad3b1-6279-44ba-b002-2ac4e19375f4"
      },
      "outputs": [
        {
          "data": {
            "text/plain": [
              "0.97404"
            ]
          },
          "execution_count": 38,
          "metadata": {},
          "output_type": "execute_result"
        }
      ],
      "source": [
        "y_test_predict_ga = evolved_estimator.predict(X_test)\n",
        "accuracy_score(y_test,y_test_predict_ga)"
      ]
    },
    {
      "cell_type": "code",
      "execution_count": 39,
      "id": "7d16d346",
      "metadata": {},
      "outputs": [
        {
          "data": {
            "text/plain": [
              "0.9741"
            ]
          },
          "execution_count": 39,
          "metadata": {},
          "output_type": "execute_result"
        }
      ],
      "source": [
        "y_valid_pred_ga = evolved_estimator.predict(X_valid)\n",
        "accuracy_score(y_valid, y_valid_pred_ga)"
      ]
    },
    {
      "cell_type": "code",
      "execution_count": 47,
      "id": "1ypmCDE8TEdi",
      "metadata": {
        "colab": {
          "base_uri": "https://localhost:8080/",
          "height": 808
        },
        "id": "1ypmCDE8TEdi",
        "outputId": "fd7305f4-0abb-4883-ae9a-11f8cbc9b024"
      },
      "outputs": [
        {
          "data": {
            "image/png": "[encoded data removed]",
            "text/plain": [
              "<Figure size 1000x1000 with 1 Axes>"
            ]
          },
          "metadata": {},
          "output_type": "display_data"
        }
      ],
      "source": [
        "# plot_fitness_evolution(evolved_estimator)\n",
        "plt.plot([0,1,2,3,4,5],[0.947144,0.972184,0.97342,0.974304,0.974365,0.975109])\n",
        "plt.show()"
      ]
    },
    {
      "cell_type": "code",
      "execution_count": 48,
      "id": "5AfHbVr7TUJI",
      "metadata": {
        "colab": {
          "base_uri": "https://localhost:8080/",
          "height": 112
        },
        "id": "5AfHbVr7TUJI",
        "outputId": "c058dd4b-a23e-4f13-ea4e-18ecd263c8ab"
      },
      "outputs": [
        {
          "data": {
            "text/html": [
              "<div>\n",
              "<style scoped>\n",
              "    .dataframe tbody tr th:only-of-type {\n",
              "        vertical-align: middle;\n",
              "    }\n",
              "\n",
              "    .dataframe tbody tr th {\n",
              "        vertical-align: top;\n",
              "    }\n",
              "\n",
              "    .dataframe thead th {\n",
              "        text-align: right;\n",
              "    }\n",
              "</style>\n",
              "<table border=\"1\" class=\"dataframe\">\n",
              "  <thead>\n",
              "    <tr style=\"text-align: right;\">\n",
              "      <th></th>\n",
              "      <th>0</th>\n",
              "      <th>1</th>\n",
              "      <th>2</th>\n",
              "    </tr>\n",
              "  </thead>\n",
              "  <tbody>\n",
              "    <tr>\n",
              "      <th>min_weight_fraction_leaf</th>\n",
              "      <td>0.014455</td>\n",
              "      <td>0.014455</td>\n",
              "      <td>0.014455</td>\n",
              "    </tr>\n",
              "    <tr>\n",
              "      <th>n_estimators</th>\n",
              "      <td>125.000000</td>\n",
              "      <td>203.000000</td>\n",
              "      <td>255.000000</td>\n",
              "    </tr>\n",
              "  </tbody>\n",
              "</table>\n",
              "</div>"
            ],
            "text/plain": [
              "                                   0           1           2\n",
              "min_weight_fraction_leaf    0.014455    0.014455    0.014455\n",
              "n_estimators              125.000000  203.000000  255.000000"
            ]
          },
          "execution_count": 48,
          "metadata": {},
          "output_type": "execute_result"
        }
      ],
      "source": [
        "# Top 3 set of hyperparameter value combinations\n",
        "pd.DataFrame(evolved_estimator.hof)"
      ]
    },
    {
      "cell_type": "markdown",
      "id": "C5VkBo94Wd43",
      "metadata": {
        "id": "C5VkBo94Wd43"
      },
      "source": [
        "# Gradient Boosting Classifier"
      ]
    },
    {
      "cell_type": "markdown",
      "id": "3tKOnL77gOuO",
      "metadata": {
        "id": "3tKOnL77gOuO"
      },
      "source": [
        "## Baseline"
      ]
    },
    {
      "cell_type": "code",
      "execution_count": 49,
      "id": "RZOcRlf8f6Hy",
      "metadata": {
        "id": "RZOcRlf8f6Hy"
      },
      "outputs": [],
      "source": [
        "gbc = GradientBoostingClassifier(random_state=random_seed)"
      ]
    },
    {
      "cell_type": "code",
      "execution_count": 50,
      "id": "eFoDaiBLgCOU",
      "metadata": {
        "colab": {
          "base_uri": "https://localhost:8080/"
        },
        "id": "eFoDaiBLgCOU",
        "outputId": "6ad12707-66e6-4588-8f5a-c025e6989d17"
      },
      "outputs": [
        {
          "name": "stdout",
          "output_type": "stream",
          "text": [
            "Test set Accuracy: 0.98753\n",
            "Validation set Accuracy: 0.98769\n"
          ]
        }
      ],
      "source": [
        "# TAKES 5 MINUTES TO RUN\n",
        "gbc.fit(X_train, y_train)\n",
        "\n",
        "y_test_pred = gbc.predict(X_test)\n",
        "y_valid_pred = gbc.predict(X_valid)\n",
        "\n",
        "# Evaluate the accuracy\n",
        "test_accuracy = accuracy_score(y_test, y_test_pred)\n",
        "validation_accuracy = accuracy_score(y_valid, y_valid_pred)\n",
        "print(\"Test set Accuracy:\", test_accuracy)\n",
        "print(\"Validation set Accuracy:\", validation_accuracy)"
      ]
    },
    {
      "cell_type": "markdown",
      "id": "iqVkiTbugRyT",
      "metadata": {
        "id": "iqVkiTbugRyT"
      },
      "source": [
        "## Genetic Optimisation"
      ]
    },
    {
      "cell_type": "code",
      "execution_count": 51,
      "id": "0hOn1ThIgTGr",
      "metadata": {
        "id": "0hOn1ThIgTGr"
      },
      "outputs": [],
      "source": [
        "gbc = GradientBoostingClassifier(random_state=random_seed)\n",
        "\n",
        "param_grid = {\n",
        "    'learning_rate': Categorical([0.0001, 0.001, 0.01, 0.1],random_state=random_seed),\n",
        "    'n_estimators': Integer(50, 200, distribution='uniform',random_state=random_seed)\n",
        "}\n",
        "\n",
        "cv = StratifiedKFold(n_splits=3, shuffle=True, random_state=random_seed)\n",
        "\n",
        "evolved_estimator = GASearchCV(estimator=gbc,\n",
        "                               cv=cv,\n",
        "                               scoring='accuracy',\n",
        "                               population_size=5,\n",
        "                               generations=5,\n",
        "                               tournament_size=2,\n",
        "                               elitism=True,\n",
        "                               crossover_probability=0.5,\n",
        "                               mutation_probability=0.1,\n",
        "                               param_grid=param_grid,\n",
        "                               criteria='max',\n",
        "                               algorithm='eaMuPlusLambda',\n",
        "                               n_jobs=-1,\n",
        "                               verbose=True,\n",
        "                               keep_top_k=3)"
      ]
    },
    {
      "cell_type": "code",
      "execution_count": 52,
      "id": "Hr97JUGzsXKQ",
      "metadata": {
        "colab": {
          "base_uri": "https://localhost:8080/",
          "height": 311
        },
        "id": "Hr97JUGzsXKQ",
        "outputId": "4481c050-bd4e-4c83-cffc-cc8f5608fadb"
      },
      "outputs": [
        {
          "name": "stdout",
          "output_type": "stream",
          "text": [
            "gen\tnevals\tfitness \tfitness_std\tfitness_max\tfitness_min\n",
            "0  \t5     \t0.849961\t0.178561   \t0.98796    \t0.504397   \n",
            "1  \t5     \t0.966912\t0.0404792  \t0.98796    \t0.885983   \n",
            "2  \t6     \t0.987241\t0.00111534 \t0.98796    \t0.98503    \n",
            "3  \t4     \t0.987778\t0.000187517\t0.98805    \t0.987627   \n",
            "4  \t5     \t0.98776 \t0.000163299\t0.98796    \t0.987627   \n",
            "5  \t7     \t0.987893\t0.000133333\t0.98796    \t0.987627   \n"
          ]
        }
      ],
      "source": [
        "# TAKES 150 MINUTES TO RUN\n",
        "gbc_evolved_estimator = evolved_estimator.fit(X_train,y_train)"
      ]
    },
    {
      "cell_type": "code",
      "execution_count": 53,
      "id": "83237972",
      "metadata": {},
      "outputs": [
        {
          "name": "stdout",
          "output_type": "stream",
          "text": [
            "Test set Accuracy: 0.98782\n",
            "Validation set Accuracy: 0.98818\n"
          ]
        }
      ],
      "source": [
        "\n",
        "y_test_pred_gbc_ga = evolved_estimator.predict(X_test)\n",
        "y_valid_pred_gbc_ga = evolved_estimator.predict(X_valid)\n",
        "\n",
        "# Evaluate the accuracy\n",
        "test_accuracy = accuracy_score(y_test, y_test_pred_gbc_ga)\n",
        "validation_accuracy = accuracy_score(y_valid, y_valid_pred_gbc_ga)\n",
        "print(\"Test set Accuracy:\", test_accuracy)\n",
        "print(\"Validation set Accuracy:\", validation_accuracy)"
      ]
    },
    {
      "cell_type": "code",
      "execution_count": 56,
      "id": "efd27af1",
      "metadata": {},
      "outputs": [
        {
          "data": {
            "text/plain": [
              "[<matplotlib.lines.Line2D at 0x17dd16150>]"
            ]
          },
          "execution_count": 56,
          "metadata": {},
          "output_type": "execute_result"
        },
        {
          "data": {
            "image/png": "[encoded data removed]",
            "text/plain": [
              "<Figure size 1000x1000 with 1 Axes>"
            ]
          },
          "metadata": {},
          "output_type": "display_data"
        }
      ],
      "source": [
        "plt.plot([0,1,2,3,4,5],[0.849961,0.966912,0.987241,0.987778,0.98776,0.987893])"
      ]
    },
    {
      "cell_type": "code",
      "execution_count": 57,
      "id": "3a2b44f7",
      "metadata": {},
      "outputs": [
        {
          "data": {
            "text/html": [
              "<div>\n",
              "<style scoped>\n",
              "    .dataframe tbody tr th:only-of-type {\n",
              "        vertical-align: middle;\n",
              "    }\n",
              "\n",
              "    .dataframe tbody tr th {\n",
              "        vertical-align: top;\n",
              "    }\n",
              "\n",
              "    .dataframe thead th {\n",
              "        text-align: right;\n",
              "    }\n",
              "</style>\n",
              "<table border=\"1\" class=\"dataframe\">\n",
              "  <thead>\n",
              "    <tr style=\"text-align: right;\">\n",
              "      <th></th>\n",
              "      <th>0</th>\n",
              "      <th>1</th>\n",
              "      <th>2</th>\n",
              "    </tr>\n",
              "  </thead>\n",
              "  <tbody>\n",
              "    <tr>\n",
              "      <th>learning_rate</th>\n",
              "      <td>0.1</td>\n",
              "      <td>0.1</td>\n",
              "      <td>0.1</td>\n",
              "    </tr>\n",
              "    <tr>\n",
              "      <th>n_estimators</th>\n",
              "      <td>179.0</td>\n",
              "      <td>166.0</td>\n",
              "      <td>155.0</td>\n",
              "    </tr>\n",
              "  </tbody>\n",
              "</table>\n",
              "</div>"
            ],
            "text/plain": [
              "                   0      1      2\n",
              "learning_rate    0.1    0.1    0.1\n",
              "n_estimators   179.0  166.0  155.0"
            ]
          },
          "execution_count": 57,
          "metadata": {},
          "output_type": "execute_result"
        }
      ],
      "source": [
        "# Top 3 set of hyperparameter value combinations\n",
        "pd.DataFrame(gbc_evolved_estimator.hof)"
      ]
    },
    {
      "cell_type": "code",
      "execution_count": null,
      "id": "43411277",
      "metadata": {},
      "outputs": [],
      "source": []
    }
  ],
  "metadata": {
    "accelerator": "GPU",
    "colab": {
      "gpuType": "V100",
      "include_colab_link": true,
      "machine_shape": "hm",
      "provenance": []
    },
    "kernelspec": {
      "display_name": "Python 3",
      "name": "python3"
    },
    "language_info": {
      "codemirror_mode": {
        "name": "ipython",
        "version": 3
      },
      "file_extension": ".py",
      "mimetype": "text/x-python",
      "name": "python",
      "nbconvert_exporter": "python",
      "pygments_lexer": "ipython3",
      "version": "3.11.0"
    }
  },
  "nbformat": 4,
  "nbformat_minor": 5
}
