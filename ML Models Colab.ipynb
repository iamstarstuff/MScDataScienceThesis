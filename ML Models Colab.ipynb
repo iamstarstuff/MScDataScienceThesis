{
  "cells": [
    {
      "cell_type": "markdown",
      "metadata": {
        "id": "view-in-github",
        "colab_type": "text"
      },
      "source": [
        "<a href=\"https://colab.research.google.com/github/iamstarstuff/MScDataScienceThesis/blob/main/ML%20Models%20Colab.ipynb\" target=\"_parent\"><img src=\"https://colab.research.google.com/assets/colab-badge.svg\" alt=\"Open In Colab\"/></a>"
      ]
    },
    {
      "cell_type": "code",
      "source": [
        "!pip install scikit-learn-intelex\n",
        "!pip install sklearn-genetic-opt[all]"
      ],
      "metadata": {
        "id": "YIUVNZWsUXp6"
      },
      "id": "YIUVNZWsUXp6",
      "execution_count": null,
      "outputs": []
    },
    {
      "cell_type": "code",
      "source": [
        "import sklearnex\n",
        "sklearnex.patch_sklearn()\n",
        "\n",
        "# Getting the GPU info\n",
        "gpu_info = !nvidia-smi\n",
        "gpu_info = '\\n'.join(gpu_info)\n",
        "if gpu_info.find('failed') >= 0:\n",
        "  print('Not connected to a GPU')\n",
        "else:\n",
        "  print(gpu_info)\n",
        "\n",
        "import tensorflow as tf\n",
        "# Making sure the GPU is connected and will be used\n",
        "gpus = tf.config.experimental.list_physical_devices('GPU')\n",
        "if gpus:\n",
        "    try:\n",
        "        for gpu in gpus:\n",
        "            tf.config.experimental.set_memory_growth(gpu, True)\n",
        "    except RuntimeError as e:\n",
        "        print(e)\n",
        "\n",
        "gpus"
      ],
      "metadata": {
        "id": "E1SX5Gxt7LRd",
        "outputId": "88bd8a1f-4cb0-47e8-dce8-a190254aa1b8",
        "colab": {
          "base_uri": "https://localhost:8080/"
        }
      },
      "id": "E1SX5Gxt7LRd",
      "execution_count": 1,
      "outputs": [
        {
          "output_type": "stream",
          "name": "stderr",
          "text": [
            "Intel(R) Extension for Scikit-learn* enabled (https://github.com/intel/scikit-learn-intelex)\n"
          ]
        },
        {
          "output_type": "stream",
          "name": "stdout",
          "text": [
            "Thu Jul 20 19:04:18 2023       \n",
            "+-----------------------------------------------------------------------------+\n",
            "| NVIDIA-SMI 525.105.17   Driver Version: 525.105.17   CUDA Version: 12.0     |\n",
            "|-------------------------------+----------------------+----------------------+\n",
            "| GPU  Name        Persistence-M| Bus-Id        Disp.A | Volatile Uncorr. ECC |\n",
            "| Fan  Temp  Perf  Pwr:Usage/Cap|         Memory-Usage | GPU-Util  Compute M. |\n",
            "|                               |                      |               MIG M. |\n",
            "|===============================+======================+======================|\n",
            "|   0  Tesla V100-SXM2...  Off  | 00000000:00:04.0 Off |                    0 |\n",
            "| N/A   44C    P0    25W / 300W |      0MiB / 16384MiB |      0%      Default |\n",
            "|                               |                      |                  N/A |\n",
            "+-------------------------------+----------------------+----------------------+\n",
            "                                                                               \n",
            "+-----------------------------------------------------------------------------+\n",
            "| Processes:                                                                  |\n",
            "|  GPU   GI   CI        PID   Type   Process name                  GPU Memory |\n",
            "|        ID   ID                                                   Usage      |\n",
            "|=============================================================================|\n",
            "|  No running processes found                                                 |\n",
            "+-----------------------------------------------------------------------------+\n"
          ]
        },
        {
          "output_type": "execute_result",
          "data": {
            "text/plain": [
              "[PhysicalDevice(name='/physical_device:GPU:0', device_type='GPU')]"
            ]
          },
          "metadata": {},
          "execution_count": 1
        }
      ]
    },
    {
      "cell_type": "code",
      "source": [
        "import numpy as np\n",
        "import pandas as pd\n",
        "import seaborn as sns\n",
        "import matplotlib.pyplot as plt"
      ],
      "metadata": {
        "id": "8Zf1DFAczfj9"
      },
      "id": "8Zf1DFAczfj9",
      "execution_count": 2,
      "outputs": []
    },
    {
      "cell_type": "code",
      "source": [
        "df = pd.read_csv('https://github.com/iamstarstuff/MScDataScienceThesis/raw/main/Skyserver_SQL5_24_2023%2012_41_33%20PM.csv')"
      ],
      "metadata": {
        "id": "wUBb0lSk1p4G"
      },
      "id": "wUBb0lSk1p4G",
      "execution_count": 3,
      "outputs": []
    },
    {
      "cell_type": "code",
      "source": [
        "df.head()"
      ],
      "metadata": {
        "id": "c4RDwUWR2bkn",
        "outputId": "da42ccda-aa83-48a2-cf25-815df5228d82",
        "colab": {
          "base_uri": "https://localhost:8080/",
          "height": 270
        }
      },
      "id": "c4RDwUWR2bkn",
      "execution_count": 4,
      "outputs": [
        {
          "output_type": "execute_result",
          "data": {
            "text/plain": [
              "          objid          ra       dec         u         g         r         i  \\\n",
              "0  1.237660e+18  213.992460 -2.453992  17.92948  18.19919  18.66623  19.01955   \n",
              "1  1.237660e+18  214.058474 -2.597317  18.79543  17.72650  17.31048  17.14916   \n",
              "2  1.237660e+18  214.551367 -2.504556  19.32994  18.36031  18.04727  17.91241   \n",
              "3  1.237660e+18  215.094035 -2.431390  19.58494  19.71145  19.29750  19.19037   \n",
              "4  1.237660e+18  215.137407 -2.539874  19.12029  18.20783  17.91957  17.80769   \n",
              "\n",
              "          z   run  rerun  camcol  field     specobjid class  redshift  plate  \\\n",
              "0  19.31679  2379    301       3     32  4.543040e+18  STAR  0.000076   4035   \n",
              "1  17.10742  2379    301       3     32  1.031330e+18  STAR  0.000092    916   \n",
              "2  17.85185  2379    301       3     36  4.539760e+18  STAR  0.000496   4032   \n",
              "3  19.28850  2379    301       3     39  1.032490e+18   QSO  1.340945    917   \n",
              "4  17.77281  2379    301       3     40  1.032490e+18  STAR -0.000352    917   \n",
              "\n",
              "     mjd  fiberid  \n",
              "0  55383      112  \n",
              "1  52378       30  \n",
              "2  55333      463  \n",
              "3  52400      160  \n",
              "4  52400      142  "
            ],
            "text/html": [
              "\n",
              "\n",
              "  <div id=\"df-6783cbbf-1f42-474f-a4d5-5fac9b7f0248\">\n",
              "    <div class=\"colab-df-container\">\n",
              "      <div>\n",
              "<style scoped>\n",
              "    .dataframe tbody tr th:only-of-type {\n",
              "        vertical-align: middle;\n",
              "    }\n",
              "\n",
              "    .dataframe tbody tr th {\n",
              "        vertical-align: top;\n",
              "    }\n",
              "\n",
              "    .dataframe thead th {\n",
              "        text-align: right;\n",
              "    }\n",
              "</style>\n",
              "<table border=\"1\" class=\"dataframe\">\n",
              "  <thead>\n",
              "    <tr style=\"text-align: right;\">\n",
              "      <th></th>\n",
              "      <th>objid</th>\n",
              "      <th>ra</th>\n",
              "      <th>dec</th>\n",
              "      <th>u</th>\n",
              "      <th>g</th>\n",
              "      <th>r</th>\n",
              "      <th>i</th>\n",
              "      <th>z</th>\n",
              "      <th>run</th>\n",
              "      <th>rerun</th>\n",
              "      <th>camcol</th>\n",
              "      <th>field</th>\n",
              "      <th>specobjid</th>\n",
              "      <th>class</th>\n",
              "      <th>redshift</th>\n",
              "      <th>plate</th>\n",
              "      <th>mjd</th>\n",
              "      <th>fiberid</th>\n",
              "    </tr>\n",
              "  </thead>\n",
              "  <tbody>\n",
              "    <tr>\n",
              "      <th>0</th>\n",
              "      <td>1.237660e+18</td>\n",
              "      <td>213.992460</td>\n",
              "      <td>-2.453992</td>\n",
              "      <td>17.92948</td>\n",
              "      <td>18.19919</td>\n",
              "      <td>18.66623</td>\n",
              "      <td>19.01955</td>\n",
              "      <td>19.31679</td>\n",
              "      <td>2379</td>\n",
              "      <td>301</td>\n",
              "      <td>3</td>\n",
              "      <td>32</td>\n",
              "      <td>4.543040e+18</td>\n",
              "      <td>STAR</td>\n",
              "      <td>0.000076</td>\n",
              "      <td>4035</td>\n",
              "      <td>55383</td>\n",
              "      <td>112</td>\n",
              "    </tr>\n",
              "    <tr>\n",
              "      <th>1</th>\n",
              "      <td>1.237660e+18</td>\n",
              "      <td>214.058474</td>\n",
              "      <td>-2.597317</td>\n",
              "      <td>18.79543</td>\n",
              "      <td>17.72650</td>\n",
              "      <td>17.31048</td>\n",
              "      <td>17.14916</td>\n",
              "      <td>17.10742</td>\n",
              "      <td>2379</td>\n",
              "      <td>301</td>\n",
              "      <td>3</td>\n",
              "      <td>32</td>\n",
              "      <td>1.031330e+18</td>\n",
              "      <td>STAR</td>\n",
              "      <td>0.000092</td>\n",
              "      <td>916</td>\n",
              "      <td>52378</td>\n",
              "      <td>30</td>\n",
              "    </tr>\n",
              "    <tr>\n",
              "      <th>2</th>\n",
              "      <td>1.237660e+18</td>\n",
              "      <td>214.551367</td>\n",
              "      <td>-2.504556</td>\n",
              "      <td>19.32994</td>\n",
              "      <td>18.36031</td>\n",
              "      <td>18.04727</td>\n",
              "      <td>17.91241</td>\n",
              "      <td>17.85185</td>\n",
              "      <td>2379</td>\n",
              "      <td>301</td>\n",
              "      <td>3</td>\n",
              "      <td>36</td>\n",
              "      <td>4.539760e+18</td>\n",
              "      <td>STAR</td>\n",
              "      <td>0.000496</td>\n",
              "      <td>4032</td>\n",
              "      <td>55333</td>\n",
              "      <td>463</td>\n",
              "    </tr>\n",
              "    <tr>\n",
              "      <th>3</th>\n",
              "      <td>1.237660e+18</td>\n",
              "      <td>215.094035</td>\n",
              "      <td>-2.431390</td>\n",
              "      <td>19.58494</td>\n",
              "      <td>19.71145</td>\n",
              "      <td>19.29750</td>\n",
              "      <td>19.19037</td>\n",
              "      <td>19.28850</td>\n",
              "      <td>2379</td>\n",
              "      <td>301</td>\n",
              "      <td>3</td>\n",
              "      <td>39</td>\n",
              "      <td>1.032490e+18</td>\n",
              "      <td>QSO</td>\n",
              "      <td>1.340945</td>\n",
              "      <td>917</td>\n",
              "      <td>52400</td>\n",
              "      <td>160</td>\n",
              "    </tr>\n",
              "    <tr>\n",
              "      <th>4</th>\n",
              "      <td>1.237660e+18</td>\n",
              "      <td>215.137407</td>\n",
              "      <td>-2.539874</td>\n",
              "      <td>19.12029</td>\n",
              "      <td>18.20783</td>\n",
              "      <td>17.91957</td>\n",
              "      <td>17.80769</td>\n",
              "      <td>17.77281</td>\n",
              "      <td>2379</td>\n",
              "      <td>301</td>\n",
              "      <td>3</td>\n",
              "      <td>40</td>\n",
              "      <td>1.032490e+18</td>\n",
              "      <td>STAR</td>\n",
              "      <td>-0.000352</td>\n",
              "      <td>917</td>\n",
              "      <td>52400</td>\n",
              "      <td>142</td>\n",
              "    </tr>\n",
              "  </tbody>\n",
              "</table>\n",
              "</div>\n",
              "      <button class=\"colab-df-convert\" onclick=\"convertToInteractive('df-6783cbbf-1f42-474f-a4d5-5fac9b7f0248')\"\n",
              "              title=\"Convert this dataframe to an interactive table.\"\n",
              "              style=\"display:none;\">\n",
              "\n",
              "  <svg xmlns=\"http://www.w3.org/2000/svg\" height=\"24px\"viewBox=\"0 0 24 24\"\n",
              "       width=\"24px\">\n",
              "    <path d=\"M0 0h24v24H0V0z\" fill=\"none\"/>\n",
              "    <path d=\"M18.56 5.44l.94 2.06.94-2.06 2.06-.94-2.06-.94-.94-2.06-.94 2.06-2.06.94zm-11 1L8.5 8.5l.94-2.06 2.06-.94-2.06-.94L8.5 2.5l-.94 2.06-2.06.94zm10 10l.94 2.06.94-2.06 2.06-.94-2.06-.94-.94-2.06-.94 2.06-2.06.94z\"/><path d=\"M17.41 7.96l-1.37-1.37c-.4-.4-.92-.59-1.43-.59-.52 0-1.04.2-1.43.59L10.3 9.45l-7.72 7.72c-.78.78-.78 2.05 0 2.83L4 21.41c.39.39.9.59 1.41.59.51 0 1.02-.2 1.41-.59l7.78-7.78 2.81-2.81c.8-.78.8-2.07 0-2.86zM5.41 20L4 18.59l7.72-7.72 1.47 1.35L5.41 20z\"/>\n",
              "  </svg>\n",
              "      </button>\n",
              "\n",
              "\n",
              "\n",
              "    <div id=\"df-46745240-25f7-4b11-9ede-4073c52fd0e0\">\n",
              "      <button class=\"colab-df-quickchart\" onclick=\"quickchart('df-46745240-25f7-4b11-9ede-4073c52fd0e0')\"\n",
              "              title=\"Suggest charts.\"\n",
              "              style=\"display:none;\">\n",
              "\n",
              "<svg xmlns=\"http://www.w3.org/2000/svg\" height=\"24px\"viewBox=\"0 0 24 24\"\n",
              "     width=\"24px\">\n",
              "    <g>\n",
              "        <path d=\"M19 3H5c-1.1 0-2 .9-2 2v14c0 1.1.9 2 2 2h14c1.1 0 2-.9 2-2V5c0-1.1-.9-2-2-2zM9 17H7v-7h2v7zm4 0h-2V7h2v10zm4 0h-2v-4h2v4z\"/>\n",
              "    </g>\n",
              "</svg>\n",
              "      </button>\n",
              "    </div>\n",
              "\n",
              "<style>\n",
              "  .colab-df-quickchart {\n",
              "    background-color: #E8F0FE;\n",
              "    border: none;\n",
              "    border-radius: 50%;\n",
              "    cursor: pointer;\n",
              "    display: none;\n",
              "    fill: #1967D2;\n",
              "    height: 32px;\n",
              "    padding: 0 0 0 0;\n",
              "    width: 32px;\n",
              "  }\n",
              "\n",
              "  .colab-df-quickchart:hover {\n",
              "    background-color: #E2EBFA;\n",
              "    box-shadow: 0px 1px 2px rgba(60, 64, 67, 0.3), 0px 1px 3px 1px rgba(60, 64, 67, 0.15);\n",
              "    fill: #174EA6;\n",
              "  }\n",
              "\n",
              "  [theme=dark] .colab-df-quickchart {\n",
              "    background-color: #3B4455;\n",
              "    fill: #D2E3FC;\n",
              "  }\n",
              "\n",
              "  [theme=dark] .colab-df-quickchart:hover {\n",
              "    background-color: #434B5C;\n",
              "    box-shadow: 0px 1px 3px 1px rgba(0, 0, 0, 0.15);\n",
              "    filter: drop-shadow(0px 1px 2px rgba(0, 0, 0, 0.3));\n",
              "    fill: #FFFFFF;\n",
              "  }\n",
              "</style>\n",
              "\n",
              "    <script>\n",
              "      async function quickchart(key) {\n",
              "        const containerElement = document.querySelector('#' + key);\n",
              "        const charts = await google.colab.kernel.invokeFunction(\n",
              "            'suggestCharts', [key], {});\n",
              "      }\n",
              "    </script>\n",
              "\n",
              "      <script>\n",
              "\n",
              "function displayQuickchartButton(domScope) {\n",
              "  let quickchartButtonEl =\n",
              "    domScope.querySelector('#df-46745240-25f7-4b11-9ede-4073c52fd0e0 button.colab-df-quickchart');\n",
              "  quickchartButtonEl.style.display =\n",
              "    google.colab.kernel.accessAllowed ? 'block' : 'none';\n",
              "}\n",
              "\n",
              "        displayQuickchartButton(document);\n",
              "      </script>\n",
              "      <style>\n",
              "    .colab-df-container {\n",
              "      display:flex;\n",
              "      flex-wrap:wrap;\n",
              "      gap: 12px;\n",
              "    }\n",
              "\n",
              "    .colab-df-convert {\n",
              "      background-color: #E8F0FE;\n",
              "      border: none;\n",
              "      border-radius: 50%;\n",
              "      cursor: pointer;\n",
              "      display: none;\n",
              "      fill: #1967D2;\n",
              "      height: 32px;\n",
              "      padding: 0 0 0 0;\n",
              "      width: 32px;\n",
              "    }\n",
              "\n",
              "    .colab-df-convert:hover {\n",
              "      background-color: #E2EBFA;\n",
              "      box-shadow: 0px 1px 2px rgba(60, 64, 67, 0.3), 0px 1px 3px 1px rgba(60, 64, 67, 0.15);\n",
              "      fill: #174EA6;\n",
              "    }\n",
              "\n",
              "    [theme=dark] .colab-df-convert {\n",
              "      background-color: #3B4455;\n",
              "      fill: #D2E3FC;\n",
              "    }\n",
              "\n",
              "    [theme=dark] .colab-df-convert:hover {\n",
              "      background-color: #434B5C;\n",
              "      box-shadow: 0px 1px 3px 1px rgba(0, 0, 0, 0.15);\n",
              "      filter: drop-shadow(0px 1px 2px rgba(0, 0, 0, 0.3));\n",
              "      fill: #FFFFFF;\n",
              "    }\n",
              "  </style>\n",
              "\n",
              "      <script>\n",
              "        const buttonEl =\n",
              "          document.querySelector('#df-6783cbbf-1f42-474f-a4d5-5fac9b7f0248 button.colab-df-convert');\n",
              "        buttonEl.style.display =\n",
              "          google.colab.kernel.accessAllowed ? 'block' : 'none';\n",
              "\n",
              "        async function convertToInteractive(key) {\n",
              "          const element = document.querySelector('#df-6783cbbf-1f42-474f-a4d5-5fac9b7f0248');\n",
              "          const dataTable =\n",
              "            await google.colab.kernel.invokeFunction('convertToInteractive',\n",
              "                                                     [key], {});\n",
              "          if (!dataTable) return;\n",
              "\n",
              "          const docLinkHtml = 'Like what you see? Visit the ' +\n",
              "            '<a target=\"_blank\" href=https://colab.research.google.com/notebooks/data_table.ipynb>data table notebook</a>'\n",
              "            + ' to learn more about interactive tables.';\n",
              "          element.innerHTML = '';\n",
              "          dataTable['output_type'] = 'display_data';\n",
              "          await google.colab.output.renderOutput(dataTable, element);\n",
              "          const docLink = document.createElement('div');\n",
              "          docLink.innerHTML = docLinkHtml;\n",
              "          element.appendChild(docLink);\n",
              "        }\n",
              "      </script>\n",
              "    </div>\n",
              "  </div>\n"
            ]
          },
          "metadata": {},
          "execution_count": 4
        }
      ]
    },
    {
      "cell_type": "code",
      "source": [
        "df.shape"
      ],
      "metadata": {
        "id": "EFpiCznJONpI",
        "outputId": "fdf71584-8dfc-4082-dd06-2eaa046720c7",
        "colab": {
          "base_uri": "https://localhost:8080/"
        }
      },
      "id": "EFpiCznJONpI",
      "execution_count": 5,
      "outputs": [
        {
          "output_type": "execute_result",
          "data": {
            "text/plain": [
              "(500000, 18)"
            ]
          },
          "metadata": {},
          "execution_count": 5
        }
      ]
    },
    {
      "cell_type": "code",
      "source": [
        "class_mapping = {class_label: idx for idx, class_label in enumerate(df['class'].unique())}\n",
        "df['Encoded_Class'] = df['class'].map(class_mapping)"
      ],
      "metadata": {
        "id": "xL4INtE-xQdo"
      },
      "id": "xL4INtE-xQdo",
      "execution_count": null,
      "outputs": []
    },
    {
      "cell_type": "code",
      "source": [
        "highcorr = df[['u','g','r','i','z','redshift','Encoded_Class']].corr()"
      ],
      "metadata": {
        "id": "mMn-bUNa4l8T"
      },
      "id": "mMn-bUNa4l8T",
      "execution_count": null,
      "outputs": []
    },
    {
      "cell_type": "code",
      "source": [
        "sns.heatmap(highcorr, annot=True, cmap='coolwarm',lw=0.5)"
      ],
      "metadata": {
        "id": "6SUPSGPH4uN2",
        "outputId": "d48c3873-06c6-4776-d1f2-a90a34d58738",
        "colab": {
          "base_uri": "https://localhost:8080/",
          "height": 542
        }
      },
      "id": "6SUPSGPH4uN2",
      "execution_count": null,
      "outputs": [
        {
          "output_type": "execute_result",
          "data": {
            "text/plain": [
              "<Axes: >"
            ]
          },
          "metadata": {},
          "execution_count": 10
        },
        {
          "output_type": "display_data",
          "data": {
            "text/plain": [
              "<Figure size 640x480 with 2 Axes>"
            ],
            "image/png": "[encoded data removed]"
          },
          "metadata": {}
        }
      ]
    },
    {
      "cell_type": "code",
      "source": [
        "X = df[['u', 'g', 'r', 'i', 'z', 'redshift']]\n",
        "y = df['class']"
      ],
      "metadata": {
        "id": "QenOo7524_RB"
      },
      "id": "QenOo7524_RB",
      "execution_count": 6,
      "outputs": []
    },
    {
      "cell_type": "markdown",
      "source": [
        "# SVM"
      ],
      "metadata": {
        "id": "t-wAxmdr3koJ"
      },
      "id": "t-wAxmdr3koJ"
    },
    {
      "cell_type": "code",
      "source": [
        "from sklearn.svm import SVC\n",
        "from sklearn.preprocessing import StandardScaler\n",
        "from sklearn.model_selection import train_test_split\n",
        "from sklearn.metrics import accuracy_score, confusion_matrix\n",
        "\n",
        "# Scale the features\n",
        "scaler = StandardScaler()\n",
        "X_scaled = scaler.fit_transform(X)\n",
        "\n",
        "# Split the dataset into training and testing sets\n",
        "X_train, X_test, y_train, y_test = train_test_split(X_scaled, y, test_size=0.2, random_state=42)\n",
        "\n",
        "# Create the classifier\n",
        "clf = SVC()\n",
        "\n",
        "# Train the classifier\n",
        "clf.fit(X_train, y_train, )\n",
        "\n",
        "# Predict the labels for the test set\n",
        "y_pred = clf.predict(X_test)\n",
        "\n",
        "# Evaluate the accuracy\n",
        "accuracy = accuracy_score(y_test, y_pred)\n",
        "print(\"Accuracy:\", accuracy)\n"
      ],
      "metadata": {
        "colab": {
          "base_uri": "https://localhost:8080/"
        },
        "id": "swH3MWyFz-fD",
        "outputId": "0e2faceb-1300-498f-a255-ff25c8ff30f5"
      },
      "id": "swH3MWyFz-fD",
      "execution_count": null,
      "outputs": [
        {
          "output_type": "stream",
          "name": "stdout",
          "text": [
            "Accuracy: 0.98366\n"
          ]
        }
      ]
    },
    {
      "cell_type": "code",
      "source": [
        "y_pred = clf.predict(X_test)\n",
        "\n",
        "# Create the confusion matrix\n",
        "cm = confusion_matrix(y_test, y_pred)\n",
        "\n",
        "# Display the confusion matrix using a heatmap\n",
        "plt.figure(figsize=(8, 6))\n",
        "sns.heatmap(cm, annot=True, fmt='d', cmap='Blues', cbar=False,\n",
        "            xticklabels=['Galaxy', 'Star', 'Quasar'],\n",
        "            yticklabels=['Galaxy', 'Star', 'Quasar'])\n",
        "plt.xlabel('Predicted')\n",
        "plt.ylabel('True')\n",
        "plt.title('Confusion Matrix')\n",
        "plt.show()"
      ],
      "metadata": {
        "id": "zDEXmyLr7Efr",
        "outputId": "cde37f57-1bd1-44c2-823a-7b2a5be34119",
        "colab": {
          "base_uri": "https://localhost:8080/",
          "height": 564
        }
      },
      "id": "zDEXmyLr7Efr",
      "execution_count": null,
      "outputs": [
        {
          "output_type": "display_data",
          "data": {
            "text/plain": [
              "<Figure size 800x600 with 1 Axes>"
            ],
            "image/png": "[encoded data removed]"
          },
          "metadata": {}
        }
      ]
    },
    {
      "cell_type": "code",
      "source": [
        "import numpy as np\n",
        "import pandas as pd\n",
        "from sklearn.svm import SVC\n",
        "from sklearn.preprocessing import StandardScaler\n",
        "from sklearn.model_selection import train_test_split\n",
        "from sklearn.model_selection import StratifiedKFold\n",
        "from sklearn.metrics import accuracy_score\n",
        "from sklearn_genetic import GASearchCV\n",
        "from sklearn_genetic.space import Continuous,Categorical\n",
        "\n",
        "# Load the dataset\n",
        "df = pd.read_csv('https://github.com/iamstarstuff/MScDataScienceThesis/raw/main/Skyserver_SQL5_24_2023%2012_41_33%20PM.csv')\n",
        "\n",
        "# Select features and target variable\n",
        "X = df[['u', 'g', 'r', 'i', 'z', 'redshift']]\n",
        "y = df['class']\n",
        "\n",
        "# Scale the features\n",
        "scaler = StandardScaler()\n",
        "X_scaled = scaler.fit_transform(X)\n",
        "\n",
        "# Split the data into training and testing sets\n",
        "X_train, X_test, y_train, y_test = train_test_split(X_scaled, y, test_size=0.2, random_state=42)\n",
        "\n",
        "# Define the parameter grid\n",
        "param_grid = {\n",
        "    'C': Continuous(1e-5, 1e10),  # Continuous range from 1e-5 to 1e10\n",
        "    'gamma': Continuous(1e-15, 1e3),  # Continuous range from 1e-15 to 1e3\n",
        "    'kernel': Categorical(['linear', 'rbf', 'poly'])\n",
        "}\n",
        "\n",
        "# Create the SVM classifier\n",
        "svc = SVC()\n",
        "\n",
        "\n",
        "\n",
        "# Create the genetic algorithm search object\n",
        "ga_search = GASearchCV(estimator=svc, param_grid=param_grid, cv=3, verbose=True, population_size=50, generations=10)\n",
        "\n",
        "# Perform the hyperparameter tuning\n",
        "ga_search.fit(X_train, y_train)\n",
        "\n",
        "# Get the best hyperparameters and accuracy score\n",
        "best_params = ga_search.best_params_\n",
        "best_score = ga_search.best_score_\n",
        "\n",
        "# Train the classifier with the best hyperparameters\n",
        "best_clf = SVC(C=best_params['C'], gamma=best_params['gamma'])\n",
        "best_clf.fit(X_train, y_train)\n",
        "\n",
        "# Predict the labels for the test set using the best classifier\n",
        "y_pred = best_clf.predict(X_test)\n",
        "\n",
        "# Calculate the accuracy of the best classifier\n",
        "accuracy = accuracy_score(y_test, y_pred)\n",
        "\n",
        "# Print the results\n",
        "print(\"Best Hyperparameters:\", best_params)\n",
        "print(\"Best Accuracy:\", best_score)\n",
        "print(\"Test Accuracy:\", accuracy)\n"
      ],
      "metadata": {
        "id": "G8MEl8xnVOBb"
      },
      "id": "G8MEl8xnVOBb",
      "execution_count": null,
      "outputs": []
    },
    {
      "cell_type": "code",
      "source": [
        "!pip install deap"
      ],
      "metadata": {
        "id": "bzeo8SbUVsno",
        "outputId": "db1cd0a5-5069-46e2-d5cc-309c68dc817f",
        "colab": {
          "base_uri": "https://localhost:8080/"
        }
      },
      "id": "bzeo8SbUVsno",
      "execution_count": null,
      "outputs": [
        {
          "output_type": "stream",
          "name": "stdout",
          "text": [
            "Collecting deap\n",
            "  Downloading deap-1.3.3-cp310-cp310-manylinux_2_5_x86_64.manylinux1_x86_64.manylinux_2_17_x86_64.manylinux2014_x86_64.whl (139 kB)\n",
            "\u001b[?25l     \u001b[90m━━━━━━━━━━━━━━━━━━━━━━━━━━━━━━━━━━━━━━━━\u001b[0m \u001b[32m0.0/139.9 kB\u001b[0m \u001b[31m?\u001b[0m eta \u001b[36m-:--:--\u001b[0m\r\u001b[2K     \u001b[90m━━━━━━━━━━━━━━━━━━━━━━━━━━━━━━━━━━━━━━\u001b[0m \u001b[32m139.9/139.9 kB\u001b[0m \u001b[31m13.2 MB/s\u001b[0m eta \u001b[36m0:00:00\u001b[0m\n",
            "\u001b[?25hRequirement already satisfied: numpy in /usr/local/lib/python3.10/dist-packages (from deap) (1.22.4)\n",
            "Installing collected packages: deap\n",
            "Successfully installed deap-1.3.3\n"
          ]
        }
      ]
    },
    {
      "cell_type": "code",
      "source": [
        "import numpy as np\n",
        "from sklearn.svm import SVC\n",
        "from sklearn.preprocessing import StandardScaler\n",
        "from sklearn.model_selection import train_test_split\n",
        "from sklearn.metrics import accuracy_score\n",
        "from deap import algorithms, base, creator, tools\n",
        "\n",
        "# Load your dataset and split it into training and testing sets\n",
        "# X_train, X_test, y_train, y_test = train_test_split(X, y, test_size=0.2, random_state=42)\n",
        "# Load the dataset\n",
        "df = pd.read_csv('https://github.com/iamstarstuff/MScDataScienceThesis/raw/main/Skyserver_SQL5_24_2023%2012_41_33%20PM.csv')\n",
        "\n",
        "# Select features and target variable\n",
        "X = df[['u', 'g', 'r', 'i', 'z', 'redshift']]\n",
        "y = df['class']\n",
        "\n",
        "# Scale the features\n",
        "scaler = StandardScaler()\n",
        "X_scaled = scaler.fit_transform(X)\n",
        "\n",
        "# Split the data into training and testing sets\n",
        "X_train, X_test, y_train, y_test = train_test_split(X_scaled, y, test_size=0.2, random_state=42)\n",
        "\n",
        "\n",
        "# Define the fitness function for the genetic algorithm\n",
        "def evaluate_individual(individual):\n",
        "    # Convert the values to corresponding hyperparameter values\n",
        "    C = 2 ** np.round(individual[0])  # C ranges from 2^(-5) to 2^10\n",
        "    gamma = 2 ** np.round(individual[1])  # gamma ranges from 2^(-15) to 2^(3)\n",
        "\n",
        "    # Create the SVM classifier with the chosen hyperparameters\n",
        "    clf = SVC(C=C, gamma=gamma)\n",
        "\n",
        "    # Train the classifier\n",
        "    clf.fit(X_train, y_train)\n",
        "\n",
        "    # Predict the labels for the test set\n",
        "    y_pred = clf.predict(X_test)\n",
        "\n",
        "    # Calculate the accuracy\n",
        "    accuracy = accuracy_score(y_test, y_pred)\n",
        "\n",
        "    return accuracy,\n",
        "\n",
        "# Define the optimization problem\n",
        "creator.create(\"FitnessMax\", base.Fitness, weights=(1.0,))\n",
        "creator.create(\"Individual\", np.ndarray, fitness=creator.FitnessMax)\n",
        "\n",
        "toolbox = base.Toolbox()\n",
        "toolbox.register(\"attr_float\", np.random.uniform, -5, 10)\n",
        "toolbox.register(\"individual\", tools.initRepeat, creator.Individual, toolbox.attr_float, n=2)\n",
        "toolbox.register(\"population\", tools.initRepeat, list, toolbox.individual)\n",
        "\n",
        "toolbox.register(\"evaluate\", evaluate_individual)\n",
        "toolbox.register(\"mate\", tools.cxTwoPoint)\n",
        "toolbox.register(\"mutate\", tools.mutFlipBit, indpb=0.05)\n",
        "toolbox.register(\"select\", tools.selTournament, tournsize=3)\n",
        "\n",
        "# Set random seed for reproducibility\n",
        "np.random.seed(42)\n",
        "\n",
        "# Create an initial population of individuals\n",
        "population = toolbox.population(n=50)\n",
        "\n",
        "# Run the genetic algorithm optimization\n",
        "population, logbook = algorithms.eaSimple(population, toolbox, cxpb=0.5, mutpb=0.2, ngen=10, verbose=False)\n",
        "\n",
        "# Retrieve the best individual from the population\n",
        "best_individual = tools.selBest(population, k=1)[0]\n",
        "\n",
        "# Retrieve the best hyperparameters found by the genetic algorithm\n",
        "best_hyperparameters = 2 ** np.round(best_individual)\n",
        "\n",
        "# Create the SVM classifier with the best hyperparameters\n",
        "best_clf = SVC(C=best_hyperparameters[0], gamma=best_hyperparameters[1])\n",
        "\n",
        "# Train the classifier with the full training set\n",
        "best_clf.fit(X_train, y_train)\n",
        "\n",
        "# Predict the labels for the test set using the best classifier\n",
        "y_pred = best_clf.predict(X_test)\n",
        "\n",
        "# Calculate the accuracy of the best classifier\n",
        "accuracy = accuracy_score(y_test, y_pred)\n",
        "print(\"Best Accuracy:\", accuracy)\n",
        "print(\"Best Hyperparameters (C, gamma):\", best_hyperparameters)\n"
      ],
      "metadata": {
        "id": "Czc0qM7sXiBH"
      },
      "id": "Czc0qM7sXiBH",
      "execution_count": null,
      "outputs": []
    },
    {
      "cell_type": "markdown",
      "source": [
        "# Random Forest"
      ],
      "metadata": {
        "id": "akp-jjqo3nD4"
      },
      "id": "akp-jjqo3nD4"
    },
    {
      "cell_type": "code",
      "source": [
        "from sklearn.ensemble import RandomForestClassifier\n",
        "from sklearn.model_selection import train_test_split\n",
        "from sklearn.metrics import accuracy_score"
      ],
      "metadata": {
        "id": "3RdjmLwxyNXq"
      },
      "id": "3RdjmLwxyNXq",
      "execution_count": 8,
      "outputs": []
    },
    {
      "cell_type": "code",
      "source": [
        "# Setting seeds for Reproducibility\n",
        "\n",
        "import random\n",
        "import numpy as np\n",
        "\n",
        "random_seed = 42\n",
        "\n",
        "np.random.seed(random_seed)\n",
        "random.seed(random_seed)"
      ],
      "metadata": {
        "id": "4f_4UJ8GbbTk"
      },
      "id": "4f_4UJ8GbbTk",
      "execution_count": 12,
      "outputs": []
    },
    {
      "cell_type": "markdown",
      "source": [
        "**Breakdown of the above code**\n",
        "1. `random_seed=42` sets the seed value.\n",
        "2. `np.random.seed(random_seed)` sets the seed for the NumPy random number generator. By setting the seed, all subsequent calls to NumPy's random number generator will produce the same sequence of random numbers.\n",
        "3. `random.seed(random_seed)` sets the seed for the Python standard library's random number generator. The `random` module in Python provides a simple way to work with random numbers.\n",
        "\n",
        "By setting the random seeds for both Python and NumPy, we can ensure that any random processes used in code will produce the same results everytime it is run as long as seed value remains same, in this case `42`.\n",
        "\n",
        "This ensures reproducibility of the code."
      ],
      "metadata": {
        "id": "MfTR2teHb3ba"
      },
      "id": "MfTR2teHb3ba"
    },
    {
      "cell_type": "code",
      "source": [
        "X_train, X_test, y_train, y_test = train_test_split(X, y, test_size=0.4,random_state=random_seed)\n",
        "\n",
        "clf = RandomForestClassifier(random_state=random_seed)"
      ],
      "metadata": {
        "id": "hQ44ncmM4eSs"
      },
      "id": "hQ44ncmM4eSs",
      "execution_count": 10,
      "outputs": []
    },
    {
      "cell_type": "markdown",
      "source": [
        "## Baseline\n",
        "Performance of classifier using the default hyperparameter values"
      ],
      "metadata": {
        "id": "JxXpCtUUWSoF"
      },
      "id": "JxXpCtUUWSoF"
    },
    {
      "cell_type": "code",
      "source": [
        "clf.fit(X_train,y_train)\n",
        "\n",
        "y_pred = clf.predict(X_test)\n",
        "\n",
        "# Evaluate the accuracy\n",
        "accuracy = accuracy_score(y_test, y_pred)\n",
        "print(\"Accuracy:\", accuracy)"
      ],
      "metadata": {
        "id": "quDIarfFWCE_",
        "outputId": "1dc14258-780a-4878-c313-4cf1718e4214",
        "colab": {
          "base_uri": "https://localhost:8080/"
        }
      },
      "id": "quDIarfFWCE_",
      "execution_count": 11,
      "outputs": [
        {
          "output_type": "stream",
          "name": "stdout",
          "text": [
            "Accuracy: 0.991135\n"
          ]
        }
      ]
    },
    {
      "cell_type": "markdown",
      "source": [
        "**👆🏻Signs of overfitting**"
      ],
      "metadata": {
        "id": "9e1_g3QRc2-q"
      },
      "id": "9e1_g3QRc2-q"
    },
    {
      "cell_type": "markdown",
      "source": [
        "## Genetic optimisation"
      ],
      "metadata": {
        "id": "EEtTHBHLWZHd"
      },
      "id": "EEtTHBHLWZHd"
    },
    {
      "cell_type": "code",
      "source": [
        "from sklearn_genetic import GASearchCV\n",
        "from sklearn_genetic.space import Continuous, Categorical, Integer\n",
        "from sklearn_genetic.plots import plot_fitness_evolution, plot_search_space\n",
        "from sklearn.model_selection import StratifiedKFold\n",
        "from sklearn.metrics import accuracy_score\n",
        "import matplotlib.pyplot as plt\n",
        "\n",
        "param_grid = {'min_weight_fraction_leaf': Continuous(0.01, 0.5, distribution='log-uniform',\n",
        "                                                     random_state=random_seed),\n",
        "              'n_estimators': Integer(100, 300,random_state=random_seed)}\n",
        "\n",
        "# Write about why we use StratifiedKFold\n",
        "# https://stackoverflow.com/questions/65318931/stratifiedkfold-vs-kfold-in-scikit-learn\n",
        "cv = StratifiedKFold(n_splits=3, shuffle=True, random_state=random_seed)\n",
        "\n",
        "evolved_estimator = GASearchCV(estimator=clf,\n",
        "                               cv=cv,\n",
        "                               scoring='accuracy',\n",
        "                               population_size=10,\n",
        "                               generations=5,\n",
        "                               tournament_size=3,\n",
        "                               elitism=True,\n",
        "                               crossover_probability=0.5,\n",
        "                               mutation_probability=0.1,\n",
        "                               param_grid=param_grid,\n",
        "                               criteria='max',\n",
        "                               algorithm='eaMuPlusLambda',\n",
        "                               n_jobs=-1,\n",
        "                               verbose=True,\n",
        "                               keep_top_k=3)"
      ],
      "metadata": {
        "id": "Q6EENU7X4rPH"
      },
      "id": "Q6EENU7X4rPH",
      "execution_count": 12,
      "outputs": []
    },
    {
      "cell_type": "code",
      "source": [
        "evolved_estimator.fit(X_train,y_train)"
      ],
      "metadata": {
        "id": "xC5gdrbg4zNH",
        "outputId": "f8a0950b-b05d-4bdf-d31a-6937c17e1a70",
        "colab": {
          "base_uri": "https://localhost:8080/",
          "height": 239
        }
      },
      "id": "xC5gdrbg4zNH",
      "execution_count": 13,
      "outputs": [
        {
          "output_type": "stream",
          "name": "stdout",
          "text": [
            "gen\tnevals\tfitness \tfitness_std\tfitness_max\tfitness_min\n",
            "0  \t10    \t0.947246\t0.0488862  \t0.974587   \t0.822003   \n",
            "1  \t12    \t0.972316\t0.00194626 \t0.974587   \t0.969247   \n",
            "2  \t9     \t0.973686\t0.00166427 \t0.974587   \t0.96934    \n",
            "3  \t13    \t0.974587\t0          \t0.974587   \t0.974587   \n",
            "4  \t13    \t0.974587\t0          \t0.974587   \t0.974587   \n",
            "5  \t14    \t0.975157\t0.00171    \t0.980287   \t0.974587   \n"
          ]
        },
        {
          "output_type": "execute_result",
          "data": {
            "text/plain": [
              "GASearchCV(crossover_probability=0.5,\n",
              "           cv=StratifiedKFold(n_splits=3, random_state=42, shuffle=True),\n",
              "           estimator=RandomForestClassifier(min_weight_fraction_leaf=0.014454547118247537,\n",
              "                                            n_estimators=125, random_state=42),\n",
              "           generations=5, keep_top_k=3, mutation_probability=0.1, n_jobs=-1,\n",
              "           param_grid={'min_weight_fraction_leaf': <sklearn_genetic.space.space.Continuous object at 0x79c510ec5b10>,\n",
              "                       'n_estimators': <sklearn_genetic.space.space.Integer object at 0x79c44ff7b790>},\n",
              "           population_size=10, return_train_score=True, scoring='accuracy')"
            ],
            "text/html": [
              "<style>#sk-container-id-1 {color: black;background-color: white;}#sk-container-id-1 pre{padding: 0;}#sk-container-id-1 div.sk-toggleable {background-color: white;}#sk-container-id-1 label.sk-toggleable__label {cursor: pointer;display: block;width: 100%;margin-bottom: 0;padding: 0.3em;box-sizing: border-box;text-align: center;}#sk-container-id-1 label.sk-toggleable__label-arrow:before {content: \"▸\";float: left;margin-right: 0.25em;color: #696969;}#sk-container-id-1 label.sk-toggleable__label-arrow:hover:before {color: black;}#sk-container-id-1 div.sk-estimator:hover label.sk-toggleable__label-arrow:before {color: black;}#sk-container-id-1 div.sk-toggleable__content {max-height: 0;max-width: 0;overflow: hidden;text-align: left;background-color: #f0f8ff;}#sk-container-id-1 div.sk-toggleable__content pre {margin: 0.2em;color: black;border-radius: 0.25em;background-color: #f0f8ff;}#sk-container-id-1 input.sk-toggleable__control:checked~div.sk-toggleable__content {max-height: 200px;max-width: 100%;overflow: auto;}#sk-container-id-1 input.sk-toggleable__control:checked~label.sk-toggleable__label-arrow:before {content: \"▾\";}#sk-container-id-1 div.sk-estimator input.sk-toggleable__control:checked~label.sk-toggleable__label {background-color: #d4ebff;}#sk-container-id-1 div.sk-label input.sk-toggleable__control:checked~label.sk-toggleable__label {background-color: #d4ebff;}#sk-container-id-1 input.sk-hidden--visually {border: 0;clip: rect(1px 1px 1px 1px);clip: rect(1px, 1px, 1px, 1px);height: 1px;margin: -1px;overflow: hidden;padding: 0;position: absolute;width: 1px;}#sk-container-id-1 div.sk-estimator {font-family: monospace;background-color: #f0f8ff;border: 1px dotted black;border-radius: 0.25em;box-sizing: border-box;margin-bottom: 0.5em;}#sk-container-id-1 div.sk-estimator:hover {background-color: #d4ebff;}#sk-container-id-1 div.sk-parallel-item::after {content: \"\";width: 100%;border-bottom: 1px solid gray;flex-grow: 1;}#sk-container-id-1 div.sk-label:hover label.sk-toggleable__label {background-color: #d4ebff;}#sk-container-id-1 div.sk-serial::before {content: \"\";position: absolute;border-left: 1px solid gray;box-sizing: border-box;top: 0;bottom: 0;left: 50%;z-index: 0;}#sk-container-id-1 div.sk-serial {display: flex;flex-direction: column;align-items: center;background-color: white;padding-right: 0.2em;padding-left: 0.2em;position: relative;}#sk-container-id-1 div.sk-item {position: relative;z-index: 1;}#sk-container-id-1 div.sk-parallel {display: flex;align-items: stretch;justify-content: center;background-color: white;position: relative;}#sk-container-id-1 div.sk-item::before, #sk-container-id-1 div.sk-parallel-item::before {content: \"\";position: absolute;border-left: 1px solid gray;box-sizing: border-box;top: 0;bottom: 0;left: 50%;z-index: -1;}#sk-container-id-1 div.sk-parallel-item {display: flex;flex-direction: column;z-index: 1;position: relative;background-color: white;}#sk-container-id-1 div.sk-parallel-item:first-child::after {align-self: flex-end;width: 50%;}#sk-container-id-1 div.sk-parallel-item:last-child::after {align-self: flex-start;width: 50%;}#sk-container-id-1 div.sk-parallel-item:only-child::after {width: 0;}#sk-container-id-1 div.sk-dashed-wrapped {border: 1px dashed gray;margin: 0 0.4em 0.5em 0.4em;box-sizing: border-box;padding-bottom: 0.4em;background-color: white;}#sk-container-id-1 div.sk-label label {font-family: monospace;font-weight: bold;display: inline-block;line-height: 1.2em;}#sk-container-id-1 div.sk-label-container {text-align: center;}#sk-container-id-1 div.sk-container {/* jupyter's `normalize.less` sets `[hidden] { display: none; }` but bootstrap.min.css set `[hidden] { display: none !important; }` so we also need the `!important` here to be able to override the default hidden behavior on the sphinx rendered scikit-learn.org. See: https://github.com/scikit-learn/scikit-learn/issues/21755 */display: inline-block !important;position: relative;}#sk-container-id-1 div.sk-text-repr-fallback {display: none;}</style><div id=\"sk-container-id-1\" class=\"sk-top-container\"><div class=\"sk-text-repr-fallback\"><pre>GASearchCV(crossover_probability=0.5,\n",
              "           cv=StratifiedKFold(n_splits=3, random_state=42, shuffle=True),\n",
              "           estimator=RandomForestClassifier(min_weight_fraction_leaf=0.014454547118247537,\n",
              "                                            n_estimators=125, random_state=42),\n",
              "           generations=5, keep_top_k=3, mutation_probability=0.1, n_jobs=-1,\n",
              "           param_grid={&#x27;min_weight_fraction_leaf&#x27;: &lt;sklearn_genetic.space.space.Continuous object at 0x79c510ec5b10&gt;,\n",
              "                       &#x27;n_estimators&#x27;: &lt;sklearn_genetic.space.space.Integer object at 0x79c44ff7b790&gt;},\n",
              "           population_size=10, return_train_score=True, scoring=&#x27;accuracy&#x27;)</pre><b>In a Jupyter environment, please rerun this cell to show the HTML representation or trust the notebook. <br />On GitHub, the HTML representation is unable to render, please try loading this page with nbviewer.org.</b></div><div class=\"sk-container\" hidden><div class=\"sk-item sk-dashed-wrapped\"><div class=\"sk-label-container\"><div class=\"sk-label sk-toggleable\"><input class=\"sk-toggleable__control sk-hidden--visually\" id=\"sk-estimator-id-1\" type=\"checkbox\" ><label for=\"sk-estimator-id-1\" class=\"sk-toggleable__label sk-toggleable__label-arrow\">GASearchCV</label><div class=\"sk-toggleable__content\"><pre>GASearchCV(crossover_probability=0.5,\n",
              "           cv=StratifiedKFold(n_splits=3, random_state=42, shuffle=True),\n",
              "           estimator=RandomForestClassifier(min_weight_fraction_leaf=0.014454547118247537,\n",
              "                                            n_estimators=125, random_state=42),\n",
              "           generations=5, keep_top_k=3, mutation_probability=0.1, n_jobs=-1,\n",
              "           param_grid={&#x27;min_weight_fraction_leaf&#x27;: &lt;sklearn_genetic.space.space.Continuous object at 0x79c510ec5b10&gt;,\n",
              "                       &#x27;n_estimators&#x27;: &lt;sklearn_genetic.space.space.Integer object at 0x79c44ff7b790&gt;},\n",
              "           population_size=10, return_train_score=True, scoring=&#x27;accuracy&#x27;)</pre></div></div></div><div class=\"sk-parallel\"><div class=\"sk-parallel-item\"><div class=\"sk-item\"><div class=\"sk-label-container\"><div class=\"sk-label sk-toggleable\"><input class=\"sk-toggleable__control sk-hidden--visually\" id=\"sk-estimator-id-2\" type=\"checkbox\" ><label for=\"sk-estimator-id-2\" class=\"sk-toggleable__label sk-toggleable__label-arrow\">estimator: RandomForestClassifier</label><div class=\"sk-toggleable__content\"><pre>RandomForestClassifier(min_weight_fraction_leaf=0.014454547118247537,\n",
              "                       n_estimators=125, random_state=42)</pre></div></div></div><div class=\"sk-serial\"><div class=\"sk-item\"><div class=\"sk-estimator sk-toggleable\"><input class=\"sk-toggleable__control sk-hidden--visually\" id=\"sk-estimator-id-3\" type=\"checkbox\" ><label for=\"sk-estimator-id-3\" class=\"sk-toggleable__label sk-toggleable__label-arrow\">RandomForestClassifier</label><div class=\"sk-toggleable__content\"><pre>RandomForestClassifier(min_weight_fraction_leaf=0.014454547118247537,\n",
              "                       n_estimators=125, random_state=42)</pre></div></div></div></div></div></div></div></div></div></div>"
            ]
          },
          "metadata": {},
          "execution_count": 13
        }
      ]
    },
    {
      "cell_type": "code",
      "source": [
        "y_predicy_ga = evolved_estimator.predict(X_test)\n",
        "accuracy_score(y_test,y_predicy_ga)"
      ],
      "metadata": {
        "id": "VVsJM9XV-UVi",
        "outputId": "d48ad3b1-6279-44ba-b002-2ac4e19375f4",
        "colab": {
          "base_uri": "https://localhost:8080/"
        }
      },
      "id": "VVsJM9XV-UVi",
      "execution_count": 14,
      "outputs": [
        {
          "output_type": "execute_result",
          "data": {
            "text/plain": [
              "0.9747"
            ]
          },
          "metadata": {},
          "execution_count": 14
        }
      ]
    },
    {
      "cell_type": "code",
      "source": [
        "plot_fitness_evolution(evolved_estimator)\n",
        "plt.show()"
      ],
      "metadata": {
        "id": "1ypmCDE8TEdi",
        "outputId": "fd7305f4-0abb-4883-ae9a-11f8cbc9b024",
        "colab": {
          "base_uri": "https://localhost:8080/",
          "height": 808
        }
      },
      "id": "1ypmCDE8TEdi",
      "execution_count": 15,
      "outputs": [
        {
          "output_type": "stream",
          "name": "stderr",
          "text": [
            "/usr/local/lib/python3.10/dist-packages/sklearn_genetic/plots.py:48: UserWarning: Ignoring `palette` because no `hue` variable has been assigned.\n",
            "  ax = sns.lineplot(x=range(len(estimator)), y=fitness_history, markers=True, palette=palette)\n"
          ]
        },
        {
          "output_type": "display_data",
          "data": {
            "text/plain": [
              "<Figure size 1000x1000 with 1 Axes>"
            ],
            "image/png": "[encoded data removed]"
          },
          "metadata": {}
        }
      ]
    },
    {
      "cell_type": "code",
      "source": [],
      "metadata": {
        "id": "YFSjz7nVTewy"
      },
      "id": "YFSjz7nVTewy",
      "execution_count": null,
      "outputs": []
    },
    {
      "cell_type": "code",
      "source": [
        "# Top 3 set of hyperparameter value combinations\n",
        "pd.DataFrame(evolved_estimator.hof)"
      ],
      "metadata": {
        "id": "5AfHbVr7TUJI",
        "outputId": "c058dd4b-a23e-4f13-ea4e-18ecd263c8ab",
        "colab": {
          "base_uri": "https://localhost:8080/",
          "height": 112
        }
      },
      "id": "5AfHbVr7TUJI",
      "execution_count": 16,
      "outputs": [
        {
          "output_type": "execute_result",
          "data": {
            "text/plain": [
              "                                   0           1           2\n",
              "min_weight_fraction_leaf    0.014455    0.014455    0.014455\n",
              "n_estimators              125.000000  187.000000  203.000000"
            ],
            "text/html": [
              "\n",
              "\n",
              "  <div id=\"df-fe21d534-ee97-4a79-a753-5479e4013a25\">\n",
              "    <div class=\"colab-df-container\">\n",
              "      <div>\n",
              "<style scoped>\n",
              "    .dataframe tbody tr th:only-of-type {\n",
              "        vertical-align: middle;\n",
              "    }\n",
              "\n",
              "    .dataframe tbody tr th {\n",
              "        vertical-align: top;\n",
              "    }\n",
              "\n",
              "    .dataframe thead th {\n",
              "        text-align: right;\n",
              "    }\n",
              "</style>\n",
              "<table border=\"1\" class=\"dataframe\">\n",
              "  <thead>\n",
              "    <tr style=\"text-align: right;\">\n",
              "      <th></th>\n",
              "      <th>0</th>\n",
              "      <th>1</th>\n",
              "      <th>2</th>\n",
              "    </tr>\n",
              "  </thead>\n",
              "  <tbody>\n",
              "    <tr>\n",
              "      <th>min_weight_fraction_leaf</th>\n",
              "      <td>0.014455</td>\n",
              "      <td>0.014455</td>\n",
              "      <td>0.014455</td>\n",
              "    </tr>\n",
              "    <tr>\n",
              "      <th>n_estimators</th>\n",
              "      <td>125.000000</td>\n",
              "      <td>187.000000</td>\n",
              "      <td>203.000000</td>\n",
              "    </tr>\n",
              "  </tbody>\n",
              "</table>\n",
              "</div>\n",
              "      <button class=\"colab-df-convert\" onclick=\"convertToInteractive('df-fe21d534-ee97-4a79-a753-5479e4013a25')\"\n",
              "              title=\"Convert this dataframe to an interactive table.\"\n",
              "              style=\"display:none;\">\n",
              "\n",
              "  <svg xmlns=\"http://www.w3.org/2000/svg\" height=\"24px\"viewBox=\"0 0 24 24\"\n",
              "       width=\"24px\">\n",
              "    <path d=\"M0 0h24v24H0V0z\" fill=\"none\"/>\n",
              "    <path d=\"M18.56 5.44l.94 2.06.94-2.06 2.06-.94-2.06-.94-.94-2.06-.94 2.06-2.06.94zm-11 1L8.5 8.5l.94-2.06 2.06-.94-2.06-.94L8.5 2.5l-.94 2.06-2.06.94zm10 10l.94 2.06.94-2.06 2.06-.94-2.06-.94-.94-2.06-.94 2.06-2.06.94z\"/><path d=\"M17.41 7.96l-1.37-1.37c-.4-.4-.92-.59-1.43-.59-.52 0-1.04.2-1.43.59L10.3 9.45l-7.72 7.72c-.78.78-.78 2.05 0 2.83L4 21.41c.39.39.9.59 1.41.59.51 0 1.02-.2 1.41-.59l7.78-7.78 2.81-2.81c.8-.78.8-2.07 0-2.86zM5.41 20L4 18.59l7.72-7.72 1.47 1.35L5.41 20z\"/>\n",
              "  </svg>\n",
              "      </button>\n",
              "\n",
              "\n",
              "\n",
              "    <div id=\"df-c8611941-c0a6-4e02-b9a4-551bbd2d0bb5\">\n",
              "      <button class=\"colab-df-quickchart\" onclick=\"quickchart('df-c8611941-c0a6-4e02-b9a4-551bbd2d0bb5')\"\n",
              "              title=\"Suggest charts.\"\n",
              "              style=\"display:none;\">\n",
              "\n",
              "<svg xmlns=\"http://www.w3.org/2000/svg\" height=\"24px\"viewBox=\"0 0 24 24\"\n",
              "     width=\"24px\">\n",
              "    <g>\n",
              "        <path d=\"M19 3H5c-1.1 0-2 .9-2 2v14c0 1.1.9 2 2 2h14c1.1 0 2-.9 2-2V5c0-1.1-.9-2-2-2zM9 17H7v-7h2v7zm4 0h-2V7h2v10zm4 0h-2v-4h2v4z\"/>\n",
              "    </g>\n",
              "</svg>\n",
              "      </button>\n",
              "    </div>\n",
              "\n",
              "<style>\n",
              "  .colab-df-quickchart {\n",
              "    background-color: #E8F0FE;\n",
              "    border: none;\n",
              "    border-radius: 50%;\n",
              "    cursor: pointer;\n",
              "    display: none;\n",
              "    fill: #1967D2;\n",
              "    height: 32px;\n",
              "    padding: 0 0 0 0;\n",
              "    width: 32px;\n",
              "  }\n",
              "\n",
              "  .colab-df-quickchart:hover {\n",
              "    background-color: #E2EBFA;\n",
              "    box-shadow: 0px 1px 2px rgba(60, 64, 67, 0.3), 0px 1px 3px 1px rgba(60, 64, 67, 0.15);\n",
              "    fill: #174EA6;\n",
              "  }\n",
              "\n",
              "  [theme=dark] .colab-df-quickchart {\n",
              "    background-color: #3B4455;\n",
              "    fill: #D2E3FC;\n",
              "  }\n",
              "\n",
              "  [theme=dark] .colab-df-quickchart:hover {\n",
              "    background-color: #434B5C;\n",
              "    box-shadow: 0px 1px 3px 1px rgba(0, 0, 0, 0.15);\n",
              "    filter: drop-shadow(0px 1px 2px rgba(0, 0, 0, 0.3));\n",
              "    fill: #FFFFFF;\n",
              "  }\n",
              "</style>\n",
              "\n",
              "    <script>\n",
              "      async function quickchart(key) {\n",
              "        const containerElement = document.querySelector('#' + key);\n",
              "        const charts = await google.colab.kernel.invokeFunction(\n",
              "            'suggestCharts', [key], {});\n",
              "      }\n",
              "    </script>\n",
              "\n",
              "      <script>\n",
              "\n",
              "function displayQuickchartButton(domScope) {\n",
              "  let quickchartButtonEl =\n",
              "    domScope.querySelector('#df-c8611941-c0a6-4e02-b9a4-551bbd2d0bb5 button.colab-df-quickchart');\n",
              "  quickchartButtonEl.style.display =\n",
              "    google.colab.kernel.accessAllowed ? 'block' : 'none';\n",
              "}\n",
              "\n",
              "        displayQuickchartButton(document);\n",
              "      </script>\n",
              "      <style>\n",
              "    .colab-df-container {\n",
              "      display:flex;\n",
              "      flex-wrap:wrap;\n",
              "      gap: 12px;\n",
              "    }\n",
              "\n",
              "    .colab-df-convert {\n",
              "      background-color: #E8F0FE;\n",
              "      border: none;\n",
              "      border-radius: 50%;\n",
              "      cursor: pointer;\n",
              "      display: none;\n",
              "      fill: #1967D2;\n",
              "      height: 32px;\n",
              "      padding: 0 0 0 0;\n",
              "      width: 32px;\n",
              "    }\n",
              "\n",
              "    .colab-df-convert:hover {\n",
              "      background-color: #E2EBFA;\n",
              "      box-shadow: 0px 1px 2px rgba(60, 64, 67, 0.3), 0px 1px 3px 1px rgba(60, 64, 67, 0.15);\n",
              "      fill: #174EA6;\n",
              "    }\n",
              "\n",
              "    [theme=dark] .colab-df-convert {\n",
              "      background-color: #3B4455;\n",
              "      fill: #D2E3FC;\n",
              "    }\n",
              "\n",
              "    [theme=dark] .colab-df-convert:hover {\n",
              "      background-color: #434B5C;\n",
              "      box-shadow: 0px 1px 3px 1px rgba(0, 0, 0, 0.15);\n",
              "      filter: drop-shadow(0px 1px 2px rgba(0, 0, 0, 0.3));\n",
              "      fill: #FFFFFF;\n",
              "    }\n",
              "  </style>\n",
              "\n",
              "      <script>\n",
              "        const buttonEl =\n",
              "          document.querySelector('#df-fe21d534-ee97-4a79-a753-5479e4013a25 button.colab-df-convert');\n",
              "        buttonEl.style.display =\n",
              "          google.colab.kernel.accessAllowed ? 'block' : 'none';\n",
              "\n",
              "        async function convertToInteractive(key) {\n",
              "          const element = document.querySelector('#df-fe21d534-ee97-4a79-a753-5479e4013a25');\n",
              "          const dataTable =\n",
              "            await google.colab.kernel.invokeFunction('convertToInteractive',\n",
              "                                                     [key], {});\n",
              "          if (!dataTable) return;\n",
              "\n",
              "          const docLinkHtml = 'Like what you see? Visit the ' +\n",
              "            '<a target=\"_blank\" href=https://colab.research.google.com/notebooks/data_table.ipynb>data table notebook</a>'\n",
              "            + ' to learn more about interactive tables.';\n",
              "          element.innerHTML = '';\n",
              "          dataTable['output_type'] = 'display_data';\n",
              "          await google.colab.output.renderOutput(dataTable, element);\n",
              "          const docLink = document.createElement('div');\n",
              "          docLink.innerHTML = docLinkHtml;\n",
              "          element.appendChild(docLink);\n",
              "        }\n",
              "      </script>\n",
              "    </div>\n",
              "  </div>\n"
            ]
          },
          "metadata": {},
          "execution_count": 16
        }
      ]
    },
    {
      "cell_type": "markdown",
      "source": [
        "# Gradient Boosting Classifier"
      ],
      "metadata": {
        "id": "C5VkBo94Wd43"
      },
      "id": "C5VkBo94Wd43"
    },
    {
      "cell_type": "code",
      "source": [
        "from sklearn_genetic import GASearchCV\n",
        "from sklearn_genetic.space import Continuous, Categorical, Integer\n",
        "from sklearn_genetic.plots import plot_fitness_evolution, plot_search_space\n",
        "from sklearn.model_selection import StratifiedKFold\n",
        "from sklearn.model_selection import train_test_split\n",
        "from sklearn.metrics import accuracy_score\n",
        "from sklearn.ensemble import GradientBoostingClassifier\n",
        "import matplotlib.pyplot as plt"
      ],
      "metadata": {
        "id": "Dccq_dsuTYqQ"
      },
      "id": "Dccq_dsuTYqQ",
      "execution_count": 10,
      "outputs": []
    },
    {
      "cell_type": "markdown",
      "source": [
        "## Baseline"
      ],
      "metadata": {
        "id": "3tKOnL77gOuO"
      },
      "id": "3tKOnL77gOuO"
    },
    {
      "cell_type": "code",
      "source": [
        "X_train, X_test, y_train, y_test = train_test_split(X, y, test_size=0.4,random_state=random_seed)\n",
        "\n",
        "gbc = GradientBoostingClassifier(random_state=random_seed)"
      ],
      "metadata": {
        "id": "RZOcRlf8f6Hy"
      },
      "id": "RZOcRlf8f6Hy",
      "execution_count": 13,
      "outputs": []
    },
    {
      "cell_type": "code",
      "source": [
        "gbc.fit(X_train, y_train)\n",
        "\n",
        "y_pred = gbc.predict(X_test)\n",
        "\n",
        "# Evaluate the accuracy\n",
        "accuracy = accuracy_score(y_test, y_pred)\n",
        "print(\"Accuracy:\", accuracy)"
      ],
      "metadata": {
        "id": "eFoDaiBLgCOU",
        "outputId": "6ad12707-66e6-4588-8f5a-c025e6989d17",
        "colab": {
          "base_uri": "https://localhost:8080/"
        }
      },
      "id": "eFoDaiBLgCOU",
      "execution_count": 20,
      "outputs": [
        {
          "output_type": "stream",
          "name": "stdout",
          "text": [
            "Accuracy: 0.98771\n"
          ]
        }
      ]
    },
    {
      "cell_type": "markdown",
      "source": [
        "## Genetic Optimisation"
      ],
      "metadata": {
        "id": "iqVkiTbugRyT"
      },
      "id": "iqVkiTbugRyT"
    },
    {
      "cell_type": "code",
      "source": [
        "X_train, X_test, y_train, y_test = train_test_split(X, y, test_size=0.4,random_state=random_seed)\n",
        "\n",
        "gbc = GradientBoostingClassifier(random_state=random_seed)\n",
        "\n",
        "param_grid = {\n",
        "    'learning_rate': Categorical([0.0001, 0.001, 0.01, 0.1],random_state=random_seed),\n",
        "    'n_estimators': Integer(50, 200, distribution='uniform',random_state=random_seed)\n",
        "}\n",
        "\n",
        "cv = StratifiedKFold(n_splits=3, shuffle=True, random_state=random_seed)\n",
        "\n",
        "evolved_estimator = GASearchCV(estimator=gbc,\n",
        "                               cv=cv,\n",
        "                               scoring='accuracy',\n",
        "                               population_size=5,\n",
        "                               generations=5,\n",
        "                               tournament_size=2,\n",
        "                               elitism=True,\n",
        "                               crossover_probability=0.5,\n",
        "                               mutation_probability=0.1,\n",
        "                               param_grid=param_grid,\n",
        "                               criteria='max',\n",
        "                               algorithm='eaMuPlusLambda',\n",
        "                               n_jobs=-1,\n",
        "                               verbose=True,\n",
        "                               keep_top_k=3)"
      ],
      "metadata": {
        "id": "0hOn1ThIgTGr"
      },
      "id": "0hOn1ThIgTGr",
      "execution_count": 14,
      "outputs": []
    },
    {
      "cell_type": "code",
      "source": [
        "evolved_estimator.fit(X_train,y_train)"
      ],
      "metadata": {
        "id": "Hr97JUGzsXKQ",
        "outputId": "4481c050-bd4e-4c83-cffc-cc8f5608fadb",
        "colab": {
          "base_uri": "https://localhost:8080/",
          "height": 311
        }
      },
      "id": "Hr97JUGzsXKQ",
      "execution_count": 15,
      "outputs": [
        {
          "output_type": "error",
          "ename": "KeyboardInterrupt",
          "evalue": "ignored",
          "traceback": [
            "\u001b[0;31m---------------------------------------------------------------------------\u001b[0m",
            "\u001b[0;31mKeyboardInterrupt\u001b[0m                         Traceback (most recent call last)",
            "\u001b[0;32m<ipython-input-15-9297502bb0a3>\u001b[0m in \u001b[0;36m<cell line: 1>\u001b[0;34m()\u001b[0m\n\u001b[0;32m----> 1\u001b[0;31m \u001b[0mevolved_estimator\u001b[0m\u001b[0;34m.\u001b[0m\u001b[0mfit\u001b[0m\u001b[0;34m(\u001b[0m\u001b[0mX_train\u001b[0m\u001b[0;34m,\u001b[0m\u001b[0my_train\u001b[0m\u001b[0;34m)\u001b[0m\u001b[0;34m\u001b[0m\u001b[0;34m\u001b[0m\u001b[0m\n\u001b[0m",
            "\u001b[0;32m/usr/local/lib/python3.10/dist-packages/sklearn_genetic/genetic_search.py\u001b[0m in \u001b[0;36mfit\u001b[0;34m(self, X, y, callbacks)\u001b[0m\n\u001b[1;32m    490\u001b[0m \u001b[0;34m\u001b[0m\u001b[0m\n\u001b[1;32m    491\u001b[0m         \u001b[0;31m# Optimization routine from the selected evolutionary algorithm\u001b[0m\u001b[0;34m\u001b[0m\u001b[0;34m\u001b[0m\u001b[0m\n\u001b[0;32m--> 492\u001b[0;31m         \u001b[0mpop\u001b[0m\u001b[0;34m,\u001b[0m \u001b[0mlog\u001b[0m\u001b[0;34m,\u001b[0m \u001b[0mn_gen\u001b[0m \u001b[0;34m=\u001b[0m \u001b[0mself\u001b[0m\u001b[0;34m.\u001b[0m\u001b[0m_select_algorithm\u001b[0m\u001b[0;34m(\u001b[0m\u001b[0mpop\u001b[0m\u001b[0;34m=\u001b[0m\u001b[0mself\u001b[0m\u001b[0;34m.\u001b[0m\u001b[0m_pop\u001b[0m\u001b[0;34m,\u001b[0m \u001b[0mstats\u001b[0m\u001b[0;34m=\u001b[0m\u001b[0mself\u001b[0m\u001b[0;34m.\u001b[0m\u001b[0m_stats\u001b[0m\u001b[0;34m,\u001b[0m \u001b[0mhof\u001b[0m\u001b[0;34m=\u001b[0m\u001b[0mself\u001b[0m\u001b[0;34m.\u001b[0m\u001b[0m_hof\u001b[0m\u001b[0;34m)\u001b[0m\u001b[0;34m\u001b[0m\u001b[0;34m\u001b[0m\u001b[0m\n\u001b[0m\u001b[1;32m    493\u001b[0m \u001b[0;34m\u001b[0m\u001b[0m\n\u001b[1;32m    494\u001b[0m         \u001b[0;31m# Update the _n_iterations value as the algorithm could stop earlier due a callback\u001b[0m\u001b[0;34m\u001b[0m\u001b[0;34m\u001b[0m\u001b[0m\n",
            "\u001b[0;32m/usr/local/lib/python3.10/dist-packages/sklearn_genetic/genetic_search.py\u001b[0m in \u001b[0;36m_select_algorithm\u001b[0;34m(self, pop, stats, hof)\u001b[0m\n\u001b[1;32m    570\u001b[0m         \u001b[0mselected_algorithm\u001b[0m \u001b[0;34m=\u001b[0m \u001b[0malgorithms_factory\u001b[0m\u001b[0;34m.\u001b[0m\u001b[0mget\u001b[0m\u001b[0;34m(\u001b[0m\u001b[0mself\u001b[0m\u001b[0;34m.\u001b[0m\u001b[0malgorithm\u001b[0m\u001b[0;34m,\u001b[0m \u001b[0;32mNone\u001b[0m\u001b[0;34m)\u001b[0m\u001b[0;34m\u001b[0m\u001b[0;34m\u001b[0m\u001b[0m\n\u001b[1;32m    571\u001b[0m         \u001b[0;32mif\u001b[0m \u001b[0mselected_algorithm\u001b[0m\u001b[0;34m:\u001b[0m\u001b[0;34m\u001b[0m\u001b[0;34m\u001b[0m\u001b[0m\n\u001b[0;32m--> 572\u001b[0;31m             pop, log, gen = selected_algorithm(\n\u001b[0m\u001b[1;32m    573\u001b[0m                 \u001b[0mpop\u001b[0m\u001b[0;34m,\u001b[0m\u001b[0;34m\u001b[0m\u001b[0;34m\u001b[0m\u001b[0m\n\u001b[1;32m    574\u001b[0m                 \u001b[0mself\u001b[0m\u001b[0;34m.\u001b[0m\u001b[0mtoolbox\u001b[0m\u001b[0;34m,\u001b[0m\u001b[0;34m\u001b[0m\u001b[0;34m\u001b[0m\u001b[0m\n",
            "\u001b[0;32m/usr/local/lib/python3.10/dist-packages/sklearn_genetic/algorithms.py\u001b[0m in \u001b[0;36meaMuPlusLambda\u001b[0;34m(population, toolbox, mu, lambda_, cxpb, mutpb, ngen, stats, halloffame, callbacks, verbose, estimator, **kwargs)\u001b[0m\n\u001b[1;32m    278\u001b[0m     \u001b[0minvalid_ind\u001b[0m \u001b[0;34m=\u001b[0m \u001b[0;34m[\u001b[0m\u001b[0mind\u001b[0m \u001b[0;32mfor\u001b[0m \u001b[0mind\u001b[0m \u001b[0;32min\u001b[0m \u001b[0mpopulation\u001b[0m \u001b[0;32mif\u001b[0m \u001b[0;32mnot\u001b[0m \u001b[0mind\u001b[0m\u001b[0;34m.\u001b[0m\u001b[0mfitness\u001b[0m\u001b[0;34m.\u001b[0m\u001b[0mvalid\u001b[0m\u001b[0;34m]\u001b[0m\u001b[0;34m\u001b[0m\u001b[0;34m\u001b[0m\u001b[0m\n\u001b[1;32m    279\u001b[0m     \u001b[0mfitnesses\u001b[0m \u001b[0;34m=\u001b[0m \u001b[0mtoolbox\u001b[0m\u001b[0;34m.\u001b[0m\u001b[0mmap\u001b[0m\u001b[0;34m(\u001b[0m\u001b[0mtoolbox\u001b[0m\u001b[0;34m.\u001b[0m\u001b[0mevaluate\u001b[0m\u001b[0;34m,\u001b[0m \u001b[0minvalid_ind\u001b[0m\u001b[0;34m)\u001b[0m\u001b[0;34m\u001b[0m\u001b[0;34m\u001b[0m\u001b[0m\n\u001b[0;32m--> 280\u001b[0;31m     \u001b[0;32mfor\u001b[0m \u001b[0mind\u001b[0m\u001b[0;34m,\u001b[0m \u001b[0mfit\u001b[0m \u001b[0;32min\u001b[0m \u001b[0mzip\u001b[0m\u001b[0;34m(\u001b[0m\u001b[0minvalid_ind\u001b[0m\u001b[0;34m,\u001b[0m \u001b[0mfitnesses\u001b[0m\u001b[0;34m)\u001b[0m\u001b[0;34m:\u001b[0m\u001b[0;34m\u001b[0m\u001b[0;34m\u001b[0m\u001b[0m\n\u001b[0m\u001b[1;32m    281\u001b[0m         \u001b[0mind\u001b[0m\u001b[0;34m.\u001b[0m\u001b[0mfitness\u001b[0m\u001b[0;34m.\u001b[0m\u001b[0mvalues\u001b[0m \u001b[0;34m=\u001b[0m \u001b[0mfit\u001b[0m\u001b[0;34m\u001b[0m\u001b[0;34m\u001b[0m\u001b[0m\n\u001b[1;32m    282\u001b[0m \u001b[0;34m\u001b[0m\u001b[0m\n",
            "\u001b[0;32m/usr/local/lib/python3.10/dist-packages/sklearn_genetic/genetic_search.py\u001b[0m in \u001b[0;36mevaluate\u001b[0;34m(self, individual)\u001b[0m\n\u001b[1;32m    397\u001b[0m \u001b[0;34m\u001b[0m\u001b[0m\n\u001b[1;32m    398\u001b[0m         \u001b[0;31m# Compute the cv-metrics\u001b[0m\u001b[0;34m\u001b[0m\u001b[0;34m\u001b[0m\u001b[0m\n\u001b[0;32m--> 399\u001b[0;31m         cv_results = cross_validate(\n\u001b[0m\u001b[1;32m    400\u001b[0m             \u001b[0mlocal_estimator\u001b[0m\u001b[0;34m,\u001b[0m\u001b[0;34m\u001b[0m\u001b[0;34m\u001b[0m\u001b[0m\n\u001b[1;32m    401\u001b[0m             \u001b[0mself\u001b[0m\u001b[0;34m.\u001b[0m\u001b[0mX_\u001b[0m\u001b[0;34m,\u001b[0m\u001b[0;34m\u001b[0m\u001b[0;34m\u001b[0m\u001b[0m\n",
            "\u001b[0;32m/usr/local/lib/python3.10/dist-packages/sklearn/model_selection/_validation.py\u001b[0m in \u001b[0;36mcross_validate\u001b[0;34m(estimator, X, y, groups, scoring, cv, n_jobs, verbose, fit_params, pre_dispatch, return_train_score, return_estimator, error_score)\u001b[0m\n\u001b[1;32m    264\u001b[0m     \u001b[0;31m# independent, and that it is pickle-able.\u001b[0m\u001b[0;34m\u001b[0m\u001b[0;34m\u001b[0m\u001b[0m\n\u001b[1;32m    265\u001b[0m     \u001b[0mparallel\u001b[0m \u001b[0;34m=\u001b[0m \u001b[0mParallel\u001b[0m\u001b[0;34m(\u001b[0m\u001b[0mn_jobs\u001b[0m\u001b[0;34m=\u001b[0m\u001b[0mn_jobs\u001b[0m\u001b[0;34m,\u001b[0m \u001b[0mverbose\u001b[0m\u001b[0;34m=\u001b[0m\u001b[0mverbose\u001b[0m\u001b[0;34m,\u001b[0m \u001b[0mpre_dispatch\u001b[0m\u001b[0;34m=\u001b[0m\u001b[0mpre_dispatch\u001b[0m\u001b[0;34m)\u001b[0m\u001b[0;34m\u001b[0m\u001b[0;34m\u001b[0m\u001b[0m\n\u001b[0;32m--> 266\u001b[0;31m     results = parallel(\n\u001b[0m\u001b[1;32m    267\u001b[0m         delayed(_fit_and_score)(\n\u001b[1;32m    268\u001b[0m             \u001b[0mclone\u001b[0m\u001b[0;34m(\u001b[0m\u001b[0mestimator\u001b[0m\u001b[0;34m)\u001b[0m\u001b[0;34m,\u001b[0m\u001b[0;34m\u001b[0m\u001b[0;34m\u001b[0m\u001b[0m\n",
            "\u001b[0;32m/usr/local/lib/python3.10/dist-packages/sklearn/utils/parallel.py\u001b[0m in \u001b[0;36m__call__\u001b[0;34m(self, iterable)\u001b[0m\n\u001b[1;32m     61\u001b[0m             \u001b[0;32mfor\u001b[0m \u001b[0mdelayed_func\u001b[0m\u001b[0;34m,\u001b[0m \u001b[0margs\u001b[0m\u001b[0;34m,\u001b[0m \u001b[0mkwargs\u001b[0m \u001b[0;32min\u001b[0m \u001b[0miterable\u001b[0m\u001b[0;34m\u001b[0m\u001b[0;34m\u001b[0m\u001b[0m\n\u001b[1;32m     62\u001b[0m         )\n\u001b[0;32m---> 63\u001b[0;31m         \u001b[0;32mreturn\u001b[0m \u001b[0msuper\u001b[0m\u001b[0;34m(\u001b[0m\u001b[0;34m)\u001b[0m\u001b[0;34m.\u001b[0m\u001b[0m__call__\u001b[0m\u001b[0;34m(\u001b[0m\u001b[0miterable_with_config\u001b[0m\u001b[0;34m)\u001b[0m\u001b[0;34m\u001b[0m\u001b[0;34m\u001b[0m\u001b[0m\n\u001b[0m\u001b[1;32m     64\u001b[0m \u001b[0;34m\u001b[0m\u001b[0m\n\u001b[1;32m     65\u001b[0m \u001b[0;34m\u001b[0m\u001b[0m\n",
            "\u001b[0;32m/usr/local/lib/python3.10/dist-packages/joblib/parallel.py\u001b[0m in \u001b[0;36m__call__\u001b[0;34m(self, iterable)\u001b[0m\n\u001b[1;32m   1942\u001b[0m         \u001b[0mnext\u001b[0m\u001b[0;34m(\u001b[0m\u001b[0moutput\u001b[0m\u001b[0;34m)\u001b[0m\u001b[0;34m\u001b[0m\u001b[0;34m\u001b[0m\u001b[0m\n\u001b[1;32m   1943\u001b[0m \u001b[0;34m\u001b[0m\u001b[0m\n\u001b[0;32m-> 1944\u001b[0;31m         \u001b[0;32mreturn\u001b[0m \u001b[0moutput\u001b[0m \u001b[0;32mif\u001b[0m \u001b[0mself\u001b[0m\u001b[0;34m.\u001b[0m\u001b[0mreturn_generator\u001b[0m \u001b[0;32melse\u001b[0m \u001b[0mlist\u001b[0m\u001b[0;34m(\u001b[0m\u001b[0moutput\u001b[0m\u001b[0;34m)\u001b[0m\u001b[0;34m\u001b[0m\u001b[0;34m\u001b[0m\u001b[0m\n\u001b[0m\u001b[1;32m   1945\u001b[0m \u001b[0;34m\u001b[0m\u001b[0m\n\u001b[1;32m   1946\u001b[0m     \u001b[0;32mdef\u001b[0m \u001b[0m__repr__\u001b[0m\u001b[0;34m(\u001b[0m\u001b[0mself\u001b[0m\u001b[0;34m)\u001b[0m\u001b[0;34m:\u001b[0m\u001b[0;34m\u001b[0m\u001b[0;34m\u001b[0m\u001b[0m\n",
            "\u001b[0;32m/usr/local/lib/python3.10/dist-packages/joblib/parallel.py\u001b[0m in \u001b[0;36m_get_outputs\u001b[0;34m(self, iterator, pre_dispatch)\u001b[0m\n\u001b[1;32m   1585\u001b[0m \u001b[0;34m\u001b[0m\u001b[0m\n\u001b[1;32m   1586\u001b[0m             \u001b[0;32mwith\u001b[0m \u001b[0mself\u001b[0m\u001b[0;34m.\u001b[0m\u001b[0m_backend\u001b[0m\u001b[0;34m.\u001b[0m\u001b[0mretrieval_context\u001b[0m\u001b[0;34m(\u001b[0m\u001b[0;34m)\u001b[0m\u001b[0;34m:\u001b[0m\u001b[0;34m\u001b[0m\u001b[0;34m\u001b[0m\u001b[0m\n\u001b[0;32m-> 1587\u001b[0;31m                 \u001b[0;32myield\u001b[0m \u001b[0;32mfrom\u001b[0m \u001b[0mself\u001b[0m\u001b[0;34m.\u001b[0m\u001b[0m_retrieve\u001b[0m\u001b[0;34m(\u001b[0m\u001b[0;34m)\u001b[0m\u001b[0;34m\u001b[0m\u001b[0;34m\u001b[0m\u001b[0m\n\u001b[0m\u001b[1;32m   1588\u001b[0m \u001b[0;34m\u001b[0m\u001b[0m\n\u001b[1;32m   1589\u001b[0m         \u001b[0;32mexcept\u001b[0m \u001b[0mGeneratorExit\u001b[0m\u001b[0;34m:\u001b[0m\u001b[0;34m\u001b[0m\u001b[0;34m\u001b[0m\u001b[0m\n",
            "\u001b[0;32m/usr/local/lib/python3.10/dist-packages/joblib/parallel.py\u001b[0m in \u001b[0;36m_retrieve\u001b[0;34m(self)\u001b[0m\n\u001b[1;32m   1697\u001b[0m                 (self._jobs[0].get_status(\n\u001b[1;32m   1698\u001b[0m                     timeout=self.timeout) == TASK_PENDING)):\n\u001b[0;32m-> 1699\u001b[0;31m                 \u001b[0mtime\u001b[0m\u001b[0;34m.\u001b[0m\u001b[0msleep\u001b[0m\u001b[0;34m(\u001b[0m\u001b[0;36m0.01\u001b[0m\u001b[0;34m)\u001b[0m\u001b[0;34m\u001b[0m\u001b[0;34m\u001b[0m\u001b[0m\n\u001b[0m\u001b[1;32m   1700\u001b[0m                 \u001b[0;32mcontinue\u001b[0m\u001b[0;34m\u001b[0m\u001b[0;34m\u001b[0m\u001b[0m\n\u001b[1;32m   1701\u001b[0m \u001b[0;34m\u001b[0m\u001b[0m\n",
            "\u001b[0;31mKeyboardInterrupt\u001b[0m: "
          ]
        }
      ]
    }
  ],
  "metadata": {
    "kernelspec": {
      "display_name": "Python 3",
      "name": "python3"
    },
    "language_info": {
      "codemirror_mode": {
        "name": "ipython",
        "version": 3
      },
      "file_extension": ".py",
      "mimetype": "text/x-python",
      "name": "python",
      "nbconvert_exporter": "python",
      "pygments_lexer": "ipython3",
      "version": "3.11.0"
    },
    "colab": {
      "provenance": [],
      "machine_shape": "hm",
      "gpuType": "V100",
      "include_colab_link": true
    },
    "accelerator": "GPU"
  },
  "nbformat": 4,
  "nbformat_minor": 5
}