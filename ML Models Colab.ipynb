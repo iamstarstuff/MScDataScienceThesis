{
  "cells": [
    {
      "cell_type": "markdown",
      "metadata": {
        "id": "view-in-github",
        "colab_type": "text"
      },
      "source": [
        "<a href=\"https://colab.research.google.com/github/iamstarstuff/MScDataScienceThesis/blob/main/ML%20Models%20Colab.ipynb\" target=\"_parent\"><img src=\"https://colab.research.google.com/assets/colab-badge.svg\" alt=\"Open In Colab\"/></a>"
      ]
    },
    {
      "cell_type": "code",
      "source": [
        "!pip install scikit-learn-intelex\n",
        "!pip install sklearn-genetic-opt[all]"
      ],
      "metadata": {
        "id": "YIUVNZWsUXp6",
        "outputId": "b8964182-32cc-4148-c8df-2789483b7930",
        "colab": {
          "base_uri": "https://localhost:8080/"
        }
      },
      "id": "YIUVNZWsUXp6",
      "execution_count": 1,
      "outputs": [
        {
          "output_type": "stream",
          "name": "stdout",
          "text": [
            "Collecting scikit-learn-intelex\n",
            "  Downloading scikit_learn_intelex-2023.2.0-py310-none-manylinux1_x86_64.whl (124 kB)\n",
            "\u001b[2K     \u001b[90m━━━━━━━━━━━━━━━━━━━━━━━━━━━━━━━━━━━━━━━\u001b[0m \u001b[32m124.5/124.5 kB\u001b[0m \u001b[31m7.8 MB/s\u001b[0m eta \u001b[36m0:00:00\u001b[0m\n",
            "\u001b[?25hCollecting daal4py==2023.2.0 (from scikit-learn-intelex)\n",
            "  Downloading daal4py-2023.2.0-py310-none-manylinux1_x86_64.whl (13.9 MB)\n",
            "\u001b[2K     \u001b[90m━━━━━━━━━━━━━━━━━━━━━━━━━━━━━━━━━━━━━━━━\u001b[0m \u001b[32m13.9/13.9 MB\u001b[0m \u001b[31m87.5 MB/s\u001b[0m eta \u001b[36m0:00:00\u001b[0m\n",
            "\u001b[?25hRequirement already satisfied: scikit-learn>=0.22 in /usr/local/lib/python3.10/dist-packages (from scikit-learn-intelex) (1.2.2)\n",
            "Collecting daal==2023.2.0 (from daal4py==2023.2.0->scikit-learn-intelex)\n",
            "  Downloading daal-2023.2.0-py2.py3-none-manylinux1_x86_64.whl (75.1 MB)\n",
            "\u001b[2K     \u001b[90m━━━━━━━━━━━━━━━━━━━━━━━━━━━━━━━━━━━━━━━━\u001b[0m \u001b[32m75.1/75.1 MB\u001b[0m \u001b[31m16.3 MB/s\u001b[0m eta \u001b[36m0:00:00\u001b[0m\n",
            "\u001b[?25hRequirement already satisfied: numpy>=1.19 in /usr/local/lib/python3.10/dist-packages (from daal4py==2023.2.0->scikit-learn-intelex) (1.22.4)\n",
            "Collecting tbb==2021.* (from daal==2023.2.0->daal4py==2023.2.0->scikit-learn-intelex)\n",
            "  Downloading tbb-2021.10.0-py2.py3-none-manylinux1_x86_64.whl (4.4 MB)\n",
            "\u001b[2K     \u001b[90m━━━━━━━━━━━━━━━━━━━━━━━━━━━━━━━━━━━━━━━━\u001b[0m \u001b[32m4.4/4.4 MB\u001b[0m \u001b[31m77.2 MB/s\u001b[0m eta \u001b[36m0:00:00\u001b[0m\n",
            "\u001b[?25hRequirement already satisfied: scipy>=1.3.2 in /usr/local/lib/python3.10/dist-packages (from scikit-learn>=0.22->scikit-learn-intelex) (1.10.1)\n",
            "Requirement already satisfied: joblib>=1.1.1 in /usr/local/lib/python3.10/dist-packages (from scikit-learn>=0.22->scikit-learn-intelex) (1.3.1)\n",
            "Requirement already satisfied: threadpoolctl>=2.0.0 in /usr/local/lib/python3.10/dist-packages (from scikit-learn>=0.22->scikit-learn-intelex) (3.1.0)\n",
            "Installing collected packages: tbb, daal, daal4py, scikit-learn-intelex\n",
            "Successfully installed daal-2023.2.0 daal4py-2023.2.0 scikit-learn-intelex-2023.2.0 tbb-2021.10.0\n",
            "Collecting sklearn-genetic-opt[all]\n",
            "  Downloading sklearn_genetic_opt-0.10.1-py3-none-any.whl (33 kB)\n",
            "Requirement already satisfied: scikit-learn>=1.1.0 in /usr/local/lib/python3.10/dist-packages (from sklearn-genetic-opt[all]) (1.2.2)\n",
            "Requirement already satisfied: numpy>=1.19.0 in /usr/local/lib/python3.10/dist-packages (from sklearn-genetic-opt[all]) (1.22.4)\n",
            "Collecting deap>=1.3.3 (from sklearn-genetic-opt[all])\n",
            "  Downloading deap-1.3.3-cp310-cp310-manylinux_2_5_x86_64.manylinux1_x86_64.manylinux_2_17_x86_64.manylinux2014_x86_64.whl (139 kB)\n",
            "\u001b[2K     \u001b[90m━━━━━━━━━━━━━━━━━━━━━━━━━━━━━━━━━━━━━━\u001b[0m \u001b[32m139.9/139.9 kB\u001b[0m \u001b[31m16.0 MB/s\u001b[0m eta \u001b[36m0:00:00\u001b[0m\n",
            "\u001b[?25hRequirement already satisfied: tqdm>=4.61.1 in /usr/local/lib/python3.10/dist-packages (from sklearn-genetic-opt[all]) (4.65.0)\n",
            "Collecting mlflow>=1.30.0 (from sklearn-genetic-opt[all])\n",
            "  Downloading mlflow-2.5.0-py3-none-any.whl (18.2 MB)\n",
            "\u001b[2K     \u001b[90m━━━━━━━━━━━━━━━━━━━━━━━━━━━━━━━━━━━━━━━━\u001b[0m \u001b[32m18.2/18.2 MB\u001b[0m \u001b[31m75.7 MB/s\u001b[0m eta \u001b[36m0:00:00\u001b[0m\n",
            "\u001b[?25hRequirement already satisfied: seaborn>=0.11.2 in /usr/local/lib/python3.10/dist-packages (from sklearn-genetic-opt[all]) (0.12.2)\n",
            "Requirement already satisfied: tensorflow>=2.0.0 in /usr/local/lib/python3.10/dist-packages (from sklearn-genetic-opt[all]) (2.12.0)\n",
            "Requirement already satisfied: click<9,>=7.0 in /usr/local/lib/python3.10/dist-packages (from mlflow>=1.30.0->sklearn-genetic-opt[all]) (8.1.4)\n",
            "Requirement already satisfied: cloudpickle<3 in /usr/local/lib/python3.10/dist-packages (from mlflow>=1.30.0->sklearn-genetic-opt[all]) (2.2.1)\n",
            "Collecting databricks-cli<1,>=0.8.7 (from mlflow>=1.30.0->sklearn-genetic-opt[all])\n",
            "  Downloading databricks-cli-0.17.7.tar.gz (83 kB)\n",
            "\u001b[2K     \u001b[90m━━━━━━━━━━━━━━━━━━━━━━━━━━━━━━━━━━━━━━━━\u001b[0m \u001b[32m83.5/83.5 kB\u001b[0m \u001b[31m10.8 MB/s\u001b[0m eta \u001b[36m0:00:00\u001b[0m\n",
            "\u001b[?25h  Preparing metadata (setup.py) ... \u001b[?25l\u001b[?25hdone\n",
            "Requirement already satisfied: entrypoints<1 in /usr/local/lib/python3.10/dist-packages (from mlflow>=1.30.0->sklearn-genetic-opt[all]) (0.4)\n",
            "Collecting gitpython<4,>=2.1.0 (from mlflow>=1.30.0->sklearn-genetic-opt[all])\n",
            "  Downloading GitPython-3.1.32-py3-none-any.whl (188 kB)\n",
            "\u001b[2K     \u001b[90m━━━━━━━━━━━━━━━━━━━━━━━━━━━━━━━━━━━━━━\u001b[0m \u001b[32m188.5/188.5 kB\u001b[0m \u001b[31m23.8 MB/s\u001b[0m eta \u001b[36m0:00:00\u001b[0m\n",
            "\u001b[?25hRequirement already satisfied: pyyaml<7,>=5.1 in /usr/local/lib/python3.10/dist-packages (from mlflow>=1.30.0->sklearn-genetic-opt[all]) (6.0)\n",
            "Requirement already satisfied: protobuf<5,>=3.12.0 in /usr/local/lib/python3.10/dist-packages (from mlflow>=1.30.0->sklearn-genetic-opt[all]) (3.20.3)\n",
            "Requirement already satisfied: pytz<2024 in /usr/local/lib/python3.10/dist-packages (from mlflow>=1.30.0->sklearn-genetic-opt[all]) (2022.7.1)\n",
            "Requirement already satisfied: requests<3,>=2.17.3 in /usr/local/lib/python3.10/dist-packages (from mlflow>=1.30.0->sklearn-genetic-opt[all]) (2.27.1)\n",
            "Requirement already satisfied: packaging<24 in /usr/local/lib/python3.10/dist-packages (from mlflow>=1.30.0->sklearn-genetic-opt[all]) (23.1)\n",
            "Collecting importlib-metadata!=4.7.0,<7,>=3.7.0 (from mlflow>=1.30.0->sklearn-genetic-opt[all])\n",
            "  Downloading importlib_metadata-6.8.0-py3-none-any.whl (22 kB)\n",
            "Requirement already satisfied: sqlparse<1,>=0.4.0 in /usr/local/lib/python3.10/dist-packages (from mlflow>=1.30.0->sklearn-genetic-opt[all]) (0.4.4)\n",
            "Collecting alembic!=1.10.0,<2 (from mlflow>=1.30.0->sklearn-genetic-opt[all])\n",
            "  Downloading alembic-1.11.1-py3-none-any.whl (224 kB)\n",
            "\u001b[2K     \u001b[90m━━━━━━━━━━━━━━━━━━━━━━━━━━━━━━━━━━━━━━\u001b[0m \u001b[32m224.5/224.5 kB\u001b[0m \u001b[31m27.3 MB/s\u001b[0m eta \u001b[36m0:00:00\u001b[0m\n",
            "\u001b[?25hCollecting docker<7,>=4.0.0 (from mlflow>=1.30.0->sklearn-genetic-opt[all])\n",
            "  Downloading docker-6.1.3-py3-none-any.whl (148 kB)\n",
            "\u001b[2K     \u001b[90m━━━━━━━━━━━━━━━━━━━━━━━━━━━━━━━━━━━━━━\u001b[0m \u001b[32m148.1/148.1 kB\u001b[0m \u001b[31m19.5 MB/s\u001b[0m eta \u001b[36m0:00:00\u001b[0m\n",
            "\u001b[?25hRequirement already satisfied: Flask<3 in /usr/local/lib/python3.10/dist-packages (from mlflow>=1.30.0->sklearn-genetic-opt[all]) (2.2.5)\n",
            "Requirement already satisfied: scipy<2 in /usr/local/lib/python3.10/dist-packages (from mlflow>=1.30.0->sklearn-genetic-opt[all]) (1.10.1)\n",
            "Requirement already satisfied: pandas<3 in /usr/local/lib/python3.10/dist-packages (from mlflow>=1.30.0->sklearn-genetic-opt[all]) (1.5.3)\n",
            "Collecting querystring-parser<2 (from mlflow>=1.30.0->sklearn-genetic-opt[all])\n",
            "  Downloading querystring_parser-1.2.4-py2.py3-none-any.whl (7.9 kB)\n",
            "Requirement already satisfied: sqlalchemy<3,>=1.4.0 in /usr/local/lib/python3.10/dist-packages (from mlflow>=1.30.0->sklearn-genetic-opt[all]) (2.0.18)\n",
            "Requirement already satisfied: pyarrow<13,>=4.0.0 in /usr/local/lib/python3.10/dist-packages (from mlflow>=1.30.0->sklearn-genetic-opt[all]) (9.0.0)\n",
            "Requirement already satisfied: markdown<4,>=3.3 in /usr/local/lib/python3.10/dist-packages (from mlflow>=1.30.0->sklearn-genetic-opt[all]) (3.4.3)\n",
            "Requirement already satisfied: matplotlib<4 in /usr/local/lib/python3.10/dist-packages (from mlflow>=1.30.0->sklearn-genetic-opt[all]) (3.7.1)\n",
            "Collecting gunicorn<21 (from mlflow>=1.30.0->sklearn-genetic-opt[all])\n",
            "  Downloading gunicorn-20.1.0-py3-none-any.whl (79 kB)\n",
            "\u001b[2K     \u001b[90m━━━━━━━━━━━━━━━━━━━━━━━━━━━━━━━━━━━━━━━━\u001b[0m \u001b[32m79.5/79.5 kB\u001b[0m \u001b[31m10.6 MB/s\u001b[0m eta \u001b[36m0:00:00\u001b[0m\n",
            "\u001b[?25hRequirement already satisfied: Jinja2<4,>=2.11 in /usr/local/lib/python3.10/dist-packages (from mlflow>=1.30.0->sklearn-genetic-opt[all]) (3.1.2)\n",
            "Requirement already satisfied: joblib>=1.1.1 in /usr/local/lib/python3.10/dist-packages (from scikit-learn>=1.1.0->sklearn-genetic-opt[all]) (1.3.1)\n",
            "Requirement already satisfied: threadpoolctl>=2.0.0 in /usr/local/lib/python3.10/dist-packages (from scikit-learn>=1.1.0->sklearn-genetic-opt[all]) (3.1.0)\n",
            "Requirement already satisfied: absl-py>=1.0.0 in /usr/local/lib/python3.10/dist-packages (from tensorflow>=2.0.0->sklearn-genetic-opt[all]) (1.4.0)\n",
            "Requirement already satisfied: astunparse>=1.6.0 in /usr/local/lib/python3.10/dist-packages (from tensorflow>=2.0.0->sklearn-genetic-opt[all]) (1.6.3)\n",
            "Requirement already satisfied: flatbuffers>=2.0 in /usr/local/lib/python3.10/dist-packages (from tensorflow>=2.0.0->sklearn-genetic-opt[all]) (23.5.26)\n",
            "Requirement already satisfied: gast<=0.4.0,>=0.2.1 in /usr/local/lib/python3.10/dist-packages (from tensorflow>=2.0.0->sklearn-genetic-opt[all]) (0.4.0)\n",
            "Requirement already satisfied: google-pasta>=0.1.1 in /usr/local/lib/python3.10/dist-packages (from tensorflow>=2.0.0->sklearn-genetic-opt[all]) (0.2.0)\n",
            "Requirement already satisfied: grpcio<2.0,>=1.24.3 in /usr/local/lib/python3.10/dist-packages (from tensorflow>=2.0.0->sklearn-genetic-opt[all]) (1.56.0)\n",
            "Requirement already satisfied: h5py>=2.9.0 in /usr/local/lib/python3.10/dist-packages (from tensorflow>=2.0.0->sklearn-genetic-opt[all]) (3.8.0)\n",
            "Requirement already satisfied: jax>=0.3.15 in /usr/local/lib/python3.10/dist-packages (from tensorflow>=2.0.0->sklearn-genetic-opt[all]) (0.4.13)\n",
            "Requirement already satisfied: keras<2.13,>=2.12.0 in /usr/local/lib/python3.10/dist-packages (from tensorflow>=2.0.0->sklearn-genetic-opt[all]) (2.12.0)\n",
            "Requirement already satisfied: libclang>=13.0.0 in /usr/local/lib/python3.10/dist-packages (from tensorflow>=2.0.0->sklearn-genetic-opt[all]) (16.0.0)\n",
            "Requirement already satisfied: opt-einsum>=2.3.2 in /usr/local/lib/python3.10/dist-packages (from tensorflow>=2.0.0->sklearn-genetic-opt[all]) (3.3.0)\n",
            "Requirement already satisfied: setuptools in /usr/local/lib/python3.10/dist-packages (from tensorflow>=2.0.0->sklearn-genetic-opt[all]) (67.7.2)\n",
            "Requirement already satisfied: six>=1.12.0 in /usr/local/lib/python3.10/dist-packages (from tensorflow>=2.0.0->sklearn-genetic-opt[all]) (1.16.0)\n",
            "Requirement already satisfied: tensorboard<2.13,>=2.12 in /usr/local/lib/python3.10/dist-packages (from tensorflow>=2.0.0->sklearn-genetic-opt[all]) (2.12.3)\n",
            "Requirement already satisfied: tensorflow-estimator<2.13,>=2.12.0 in /usr/local/lib/python3.10/dist-packages (from tensorflow>=2.0.0->sklearn-genetic-opt[all]) (2.12.0)\n",
            "Requirement already satisfied: termcolor>=1.1.0 in /usr/local/lib/python3.10/dist-packages (from tensorflow>=2.0.0->sklearn-genetic-opt[all]) (2.3.0)\n",
            "Requirement already satisfied: typing-extensions>=3.6.6 in /usr/local/lib/python3.10/dist-packages (from tensorflow>=2.0.0->sklearn-genetic-opt[all]) (4.7.1)\n",
            "Requirement already satisfied: wrapt<1.15,>=1.11.0 in /usr/local/lib/python3.10/dist-packages (from tensorflow>=2.0.0->sklearn-genetic-opt[all]) (1.14.1)\n",
            "Requirement already satisfied: tensorflow-io-gcs-filesystem>=0.23.1 in /usr/local/lib/python3.10/dist-packages (from tensorflow>=2.0.0->sklearn-genetic-opt[all]) (0.32.0)\n",
            "Collecting Mako (from alembic!=1.10.0,<2->mlflow>=1.30.0->sklearn-genetic-opt[all])\n",
            "  Downloading Mako-1.2.4-py3-none-any.whl (78 kB)\n",
            "\u001b[2K     \u001b[90m━━━━━━━━━━━━━━━━━━━━━━━━━━━━━━━━━━━━━━━━\u001b[0m \u001b[32m78.7/78.7 kB\u001b[0m \u001b[31m11.1 MB/s\u001b[0m eta \u001b[36m0:00:00\u001b[0m\n",
            "\u001b[?25hRequirement already satisfied: wheel<1.0,>=0.23.0 in /usr/local/lib/python3.10/dist-packages (from astunparse>=1.6.0->tensorflow>=2.0.0->sklearn-genetic-opt[all]) (0.40.0)\n",
            "Collecting pyjwt>=1.7.0 (from databricks-cli<1,>=0.8.7->mlflow>=1.30.0->sklearn-genetic-opt[all])\n",
            "  Downloading PyJWT-2.8.0-py3-none-any.whl (22 kB)\n",
            "Requirement already satisfied: oauthlib>=3.1.0 in /usr/local/lib/python3.10/dist-packages (from databricks-cli<1,>=0.8.7->mlflow>=1.30.0->sklearn-genetic-opt[all]) (3.2.2)\n",
            "Requirement already satisfied: tabulate>=0.7.7 in /usr/local/lib/python3.10/dist-packages (from databricks-cli<1,>=0.8.7->mlflow>=1.30.0->sklearn-genetic-opt[all]) (0.8.10)\n",
            "Requirement already satisfied: urllib3<2.0.0,>=1.26.7 in /usr/local/lib/python3.10/dist-packages (from databricks-cli<1,>=0.8.7->mlflow>=1.30.0->sklearn-genetic-opt[all]) (1.26.16)\n",
            "Requirement already satisfied: websocket-client>=0.32.0 in /usr/local/lib/python3.10/dist-packages (from docker<7,>=4.0.0->mlflow>=1.30.0->sklearn-genetic-opt[all]) (1.6.1)\n",
            "Requirement already satisfied: Werkzeug>=2.2.2 in /usr/local/lib/python3.10/dist-packages (from Flask<3->mlflow>=1.30.0->sklearn-genetic-opt[all]) (2.3.6)\n",
            "Requirement already satisfied: itsdangerous>=2.0 in /usr/local/lib/python3.10/dist-packages (from Flask<3->mlflow>=1.30.0->sklearn-genetic-opt[all]) (2.1.2)\n",
            "Collecting gitdb<5,>=4.0.1 (from gitpython<4,>=2.1.0->mlflow>=1.30.0->sklearn-genetic-opt[all])\n",
            "  Downloading gitdb-4.0.10-py3-none-any.whl (62 kB)\n",
            "\u001b[2K     \u001b[90m━━━━━━━━━━━━━━━━━━━━━━━━━━━━━━━━━━━━━━━━\u001b[0m \u001b[32m62.7/62.7 kB\u001b[0m \u001b[31m9.6 MB/s\u001b[0m eta \u001b[36m0:00:00\u001b[0m\n",
            "\u001b[?25hRequirement already satisfied: zipp>=0.5 in /usr/local/lib/python3.10/dist-packages (from importlib-metadata!=4.7.0,<7,>=3.7.0->mlflow>=1.30.0->sklearn-genetic-opt[all]) (3.16.1)\n",
            "Requirement already satisfied: ml-dtypes>=0.1.0 in /usr/local/lib/python3.10/dist-packages (from jax>=0.3.15->tensorflow>=2.0.0->sklearn-genetic-opt[all]) (0.2.0)\n",
            "Requirement already satisfied: MarkupSafe>=2.0 in /usr/local/lib/python3.10/dist-packages (from Jinja2<4,>=2.11->mlflow>=1.30.0->sklearn-genetic-opt[all]) (2.1.3)\n",
            "Requirement already satisfied: contourpy>=1.0.1 in /usr/local/lib/python3.10/dist-packages (from matplotlib<4->mlflow>=1.30.0->sklearn-genetic-opt[all]) (1.1.0)\n",
            "Requirement already satisfied: cycler>=0.10 in /usr/local/lib/python3.10/dist-packages (from matplotlib<4->mlflow>=1.30.0->sklearn-genetic-opt[all]) (0.11.0)\n",
            "Requirement already satisfied: fonttools>=4.22.0 in /usr/local/lib/python3.10/dist-packages (from matplotlib<4->mlflow>=1.30.0->sklearn-genetic-opt[all]) (4.41.0)\n",
            "Requirement already satisfied: kiwisolver>=1.0.1 in /usr/local/lib/python3.10/dist-packages (from matplotlib<4->mlflow>=1.30.0->sklearn-genetic-opt[all]) (1.4.4)\n",
            "Requirement already satisfied: pillow>=6.2.0 in /usr/local/lib/python3.10/dist-packages (from matplotlib<4->mlflow>=1.30.0->sklearn-genetic-opt[all]) (8.4.0)\n",
            "Requirement already satisfied: pyparsing>=2.3.1 in /usr/local/lib/python3.10/dist-packages (from matplotlib<4->mlflow>=1.30.0->sklearn-genetic-opt[all]) (3.1.0)\n",
            "Requirement already satisfied: python-dateutil>=2.7 in /usr/local/lib/python3.10/dist-packages (from matplotlib<4->mlflow>=1.30.0->sklearn-genetic-opt[all]) (2.8.2)\n",
            "Requirement already satisfied: certifi>=2017.4.17 in /usr/local/lib/python3.10/dist-packages (from requests<3,>=2.17.3->mlflow>=1.30.0->sklearn-genetic-opt[all]) (2023.5.7)\n",
            "Requirement already satisfied: charset-normalizer~=2.0.0 in /usr/local/lib/python3.10/dist-packages (from requests<3,>=2.17.3->mlflow>=1.30.0->sklearn-genetic-opt[all]) (2.0.12)\n",
            "Requirement already satisfied: idna<4,>=2.5 in /usr/local/lib/python3.10/dist-packages (from requests<3,>=2.17.3->mlflow>=1.30.0->sklearn-genetic-opt[all]) (3.4)\n",
            "Requirement already satisfied: greenlet!=0.4.17 in /usr/local/lib/python3.10/dist-packages (from sqlalchemy<3,>=1.4.0->mlflow>=1.30.0->sklearn-genetic-opt[all]) (2.0.2)\n",
            "Requirement already satisfied: google-auth<3,>=1.6.3 in /usr/local/lib/python3.10/dist-packages (from tensorboard<2.13,>=2.12->tensorflow>=2.0.0->sklearn-genetic-opt[all]) (2.17.3)\n",
            "Requirement already satisfied: google-auth-oauthlib<1.1,>=0.5 in /usr/local/lib/python3.10/dist-packages (from tensorboard<2.13,>=2.12->tensorflow>=2.0.0->sklearn-genetic-opt[all]) (1.0.0)\n",
            "Requirement already satisfied: tensorboard-data-server<0.8.0,>=0.7.0 in /usr/local/lib/python3.10/dist-packages (from tensorboard<2.13,>=2.12->tensorflow>=2.0.0->sklearn-genetic-opt[all]) (0.7.1)\n",
            "Collecting smmap<6,>=3.0.1 (from gitdb<5,>=4.0.1->gitpython<4,>=2.1.0->mlflow>=1.30.0->sklearn-genetic-opt[all])\n",
            "  Downloading smmap-5.0.0-py3-none-any.whl (24 kB)\n",
            "Requirement already satisfied: cachetools<6.0,>=2.0.0 in /usr/local/lib/python3.10/dist-packages (from google-auth<3,>=1.6.3->tensorboard<2.13,>=2.12->tensorflow>=2.0.0->sklearn-genetic-opt[all]) (5.3.1)\n",
            "Requirement already satisfied: pyasn1-modules>=0.2.1 in /usr/local/lib/python3.10/dist-packages (from google-auth<3,>=1.6.3->tensorboard<2.13,>=2.12->tensorflow>=2.0.0->sklearn-genetic-opt[all]) (0.3.0)\n",
            "Requirement already satisfied: rsa<5,>=3.1.4 in /usr/local/lib/python3.10/dist-packages (from google-auth<3,>=1.6.3->tensorboard<2.13,>=2.12->tensorflow>=2.0.0->sklearn-genetic-opt[all]) (4.9)\n",
            "Requirement already satisfied: requests-oauthlib>=0.7.0 in /usr/local/lib/python3.10/dist-packages (from google-auth-oauthlib<1.1,>=0.5->tensorboard<2.13,>=2.12->tensorflow>=2.0.0->sklearn-genetic-opt[all]) (1.3.1)\n",
            "Requirement already satisfied: pyasn1<0.6.0,>=0.4.6 in /usr/local/lib/python3.10/dist-packages (from pyasn1-modules>=0.2.1->google-auth<3,>=1.6.3->tensorboard<2.13,>=2.12->tensorflow>=2.0.0->sklearn-genetic-opt[all]) (0.5.0)\n",
            "Building wheels for collected packages: databricks-cli\n",
            "  Building wheel for databricks-cli (setup.py) ... \u001b[?25l\u001b[?25hdone\n",
            "  Created wheel for databricks-cli: filename=databricks_cli-0.17.7-py3-none-any.whl size=143860 sha256=8b3a9037ee679955c78c16650d12c3285a21c1008034214151ff58e9d68fb6fb\n",
            "  Stored in directory: /root/.cache/pip/wheels/ae/63/93/5402c1a09c1868a59d0b05013484e07af97a9d7b3dbd5bd39a\n",
            "Successfully built databricks-cli\n",
            "Installing collected packages: smmap, querystring-parser, pyjwt, Mako, importlib-metadata, gunicorn, deap, gitdb, docker, databricks-cli, alembic, sklearn-genetic-opt, gitpython, mlflow\n",
            "Successfully installed Mako-1.2.4 alembic-1.11.1 databricks-cli-0.17.7 deap-1.3.3 docker-6.1.3 gitdb-4.0.10 gitpython-3.1.32 gunicorn-20.1.0 importlib-metadata-6.8.0 mlflow-2.5.0 pyjwt-2.8.0 querystring-parser-1.2.4 sklearn-genetic-opt-0.10.1 smmap-5.0.0\n"
          ]
        }
      ]
    },
    {
      "cell_type": "code",
      "source": [
        "import sklearnex\n",
        "sklearnex.patch_sklearn()\n",
        "\n",
        "# Getting the GPU info\n",
        "gpu_info = !nvidia-smi\n",
        "gpu_info = '\\n'.join(gpu_info)\n",
        "if gpu_info.find('failed') >= 0:\n",
        "  print('Not connected to a GPU')\n",
        "else:\n",
        "  print(gpu_info)\n",
        "\n",
        "import tensorflow as tf\n",
        "# Making sure the GPU is connected and will be used\n",
        "gpus = tf.config.experimental.list_physical_devices('GPU')\n",
        "if gpus:\n",
        "    try:\n",
        "        for gpu in gpus:\n",
        "            tf.config.experimental.set_memory_growth(gpu, True)\n",
        "    except RuntimeError as e:\n",
        "        print(e)\n",
        "\n",
        "gpus"
      ],
      "metadata": {
        "id": "E1SX5Gxt7LRd",
        "outputId": "1dd363b8-b837-432e-94cd-815ed41212ca",
        "colab": {
          "base_uri": "https://localhost:8080/"
        }
      },
      "id": "E1SX5Gxt7LRd",
      "execution_count": 2,
      "outputs": [
        {
          "output_type": "stream",
          "name": "stderr",
          "text": [
            "Intel(R) Extension for Scikit-learn* enabled (https://github.com/intel/scikit-learn-intelex)\n"
          ]
        },
        {
          "output_type": "stream",
          "name": "stdout",
          "text": [
            "Wed Jul 19 01:06:42 2023       \n",
            "+-----------------------------------------------------------------------------+\n",
            "| NVIDIA-SMI 525.105.17   Driver Version: 525.105.17   CUDA Version: 12.0     |\n",
            "|-------------------------------+----------------------+----------------------+\n",
            "| GPU  Name        Persistence-M| Bus-Id        Disp.A | Volatile Uncorr. ECC |\n",
            "| Fan  Temp  Perf  Pwr:Usage/Cap|         Memory-Usage | GPU-Util  Compute M. |\n",
            "|                               |                      |               MIG M. |\n",
            "|===============================+======================+======================|\n",
            "|   0  Tesla V100-SXM2...  Off  | 00000000:00:04.0 Off |                    0 |\n",
            "| N/A   36C    P0    24W / 300W |      0MiB / 16384MiB |      0%      Default |\n",
            "|                               |                      |                  N/A |\n",
            "+-------------------------------+----------------------+----------------------+\n",
            "                                                                               \n",
            "+-----------------------------------------------------------------------------+\n",
            "| Processes:                                                                  |\n",
            "|  GPU   GI   CI        PID   Type   Process name                  GPU Memory |\n",
            "|        ID   ID                                                   Usage      |\n",
            "|=============================================================================|\n",
            "|  No running processes found                                                 |\n",
            "+-----------------------------------------------------------------------------+\n"
          ]
        },
        {
          "output_type": "execute_result",
          "data": {
            "text/plain": [
              "[PhysicalDevice(name='/physical_device:GPU:0', device_type='GPU')]"
            ]
          },
          "metadata": {},
          "execution_count": 2
        }
      ]
    },
    {
      "cell_type": "code",
      "source": [
        "import numpy as np\n",
        "import pandas as pd\n",
        "import seaborn as sns\n",
        "import matplotlib.pyplot as plt"
      ],
      "metadata": {
        "id": "8Zf1DFAczfj9"
      },
      "id": "8Zf1DFAczfj9",
      "execution_count": 3,
      "outputs": []
    },
    {
      "cell_type": "code",
      "source": [
        "df = pd.read_csv('https://github.com/iamstarstuff/MScDataScienceThesis/raw/main/Skyserver_SQL5_24_2023%2012_41_33%20PM.csv')"
      ],
      "metadata": {
        "id": "wUBb0lSk1p4G"
      },
      "id": "wUBb0lSk1p4G",
      "execution_count": 4,
      "outputs": []
    },
    {
      "cell_type": "code",
      "source": [
        "df.head()"
      ],
      "metadata": {
        "id": "c4RDwUWR2bkn",
        "outputId": "fb6010e2-3973-48c7-846d-9b24f71e8af2",
        "colab": {
          "base_uri": "https://localhost:8080/",
          "height": 270
        }
      },
      "id": "c4RDwUWR2bkn",
      "execution_count": 5,
      "outputs": [
        {
          "output_type": "execute_result",
          "data": {
            "text/plain": [
              "          objid          ra       dec         u         g         r         i  \\\n",
              "0  1.237660e+18  213.992460 -2.453992  17.92948  18.19919  18.66623  19.01955   \n",
              "1  1.237660e+18  214.058474 -2.597317  18.79543  17.72650  17.31048  17.14916   \n",
              "2  1.237660e+18  214.551367 -2.504556  19.32994  18.36031  18.04727  17.91241   \n",
              "3  1.237660e+18  215.094035 -2.431390  19.58494  19.71145  19.29750  19.19037   \n",
              "4  1.237660e+18  215.137407 -2.539874  19.12029  18.20783  17.91957  17.80769   \n",
              "\n",
              "          z   run  rerun  camcol  field     specobjid class  redshift  plate  \\\n",
              "0  19.31679  2379    301       3     32  4.543040e+18  STAR  0.000076   4035   \n",
              "1  17.10742  2379    301       3     32  1.031330e+18  STAR  0.000092    916   \n",
              "2  17.85185  2379    301       3     36  4.539760e+18  STAR  0.000496   4032   \n",
              "3  19.28850  2379    301       3     39  1.032490e+18   QSO  1.340945    917   \n",
              "4  17.77281  2379    301       3     40  1.032490e+18  STAR -0.000352    917   \n",
              "\n",
              "     mjd  fiberid  \n",
              "0  55383      112  \n",
              "1  52378       30  \n",
              "2  55333      463  \n",
              "3  52400      160  \n",
              "4  52400      142  "
            ],
            "text/html": [
              "\n",
              "\n",
              "  <div id=\"df-708c49fc-5c64-4d98-8962-d0e514d30b2a\">\n",
              "    <div class=\"colab-df-container\">\n",
              "      <div>\n",
              "<style scoped>\n",
              "    .dataframe tbody tr th:only-of-type {\n",
              "        vertical-align: middle;\n",
              "    }\n",
              "\n",
              "    .dataframe tbody tr th {\n",
              "        vertical-align: top;\n",
              "    }\n",
              "\n",
              "    .dataframe thead th {\n",
              "        text-align: right;\n",
              "    }\n",
              "</style>\n",
              "<table border=\"1\" class=\"dataframe\">\n",
              "  <thead>\n",
              "    <tr style=\"text-align: right;\">\n",
              "      <th></th>\n",
              "      <th>objid</th>\n",
              "      <th>ra</th>\n",
              "      <th>dec</th>\n",
              "      <th>u</th>\n",
              "      <th>g</th>\n",
              "      <th>r</th>\n",
              "      <th>i</th>\n",
              "      <th>z</th>\n",
              "      <th>run</th>\n",
              "      <th>rerun</th>\n",
              "      <th>camcol</th>\n",
              "      <th>field</th>\n",
              "      <th>specobjid</th>\n",
              "      <th>class</th>\n",
              "      <th>redshift</th>\n",
              "      <th>plate</th>\n",
              "      <th>mjd</th>\n",
              "      <th>fiberid</th>\n",
              "    </tr>\n",
              "  </thead>\n",
              "  <tbody>\n",
              "    <tr>\n",
              "      <th>0</th>\n",
              "      <td>1.237660e+18</td>\n",
              "      <td>213.992460</td>\n",
              "      <td>-2.453992</td>\n",
              "      <td>17.92948</td>\n",
              "      <td>18.19919</td>\n",
              "      <td>18.66623</td>\n",
              "      <td>19.01955</td>\n",
              "      <td>19.31679</td>\n",
              "      <td>2379</td>\n",
              "      <td>301</td>\n",
              "      <td>3</td>\n",
              "      <td>32</td>\n",
              "      <td>4.543040e+18</td>\n",
              "      <td>STAR</td>\n",
              "      <td>0.000076</td>\n",
              "      <td>4035</td>\n",
              "      <td>55383</td>\n",
              "      <td>112</td>\n",
              "    </tr>\n",
              "    <tr>\n",
              "      <th>1</th>\n",
              "      <td>1.237660e+18</td>\n",
              "      <td>214.058474</td>\n",
              "      <td>-2.597317</td>\n",
              "      <td>18.79543</td>\n",
              "      <td>17.72650</td>\n",
              "      <td>17.31048</td>\n",
              "      <td>17.14916</td>\n",
              "      <td>17.10742</td>\n",
              "      <td>2379</td>\n",
              "      <td>301</td>\n",
              "      <td>3</td>\n",
              "      <td>32</td>\n",
              "      <td>1.031330e+18</td>\n",
              "      <td>STAR</td>\n",
              "      <td>0.000092</td>\n",
              "      <td>916</td>\n",
              "      <td>52378</td>\n",
              "      <td>30</td>\n",
              "    </tr>\n",
              "    <tr>\n",
              "      <th>2</th>\n",
              "      <td>1.237660e+18</td>\n",
              "      <td>214.551367</td>\n",
              "      <td>-2.504556</td>\n",
              "      <td>19.32994</td>\n",
              "      <td>18.36031</td>\n",
              "      <td>18.04727</td>\n",
              "      <td>17.91241</td>\n",
              "      <td>17.85185</td>\n",
              "      <td>2379</td>\n",
              "      <td>301</td>\n",
              "      <td>3</td>\n",
              "      <td>36</td>\n",
              "      <td>4.539760e+18</td>\n",
              "      <td>STAR</td>\n",
              "      <td>0.000496</td>\n",
              "      <td>4032</td>\n",
              "      <td>55333</td>\n",
              "      <td>463</td>\n",
              "    </tr>\n",
              "    <tr>\n",
              "      <th>3</th>\n",
              "      <td>1.237660e+18</td>\n",
              "      <td>215.094035</td>\n",
              "      <td>-2.431390</td>\n",
              "      <td>19.58494</td>\n",
              "      <td>19.71145</td>\n",
              "      <td>19.29750</td>\n",
              "      <td>19.19037</td>\n",
              "      <td>19.28850</td>\n",
              "      <td>2379</td>\n",
              "      <td>301</td>\n",
              "      <td>3</td>\n",
              "      <td>39</td>\n",
              "      <td>1.032490e+18</td>\n",
              "      <td>QSO</td>\n",
              "      <td>1.340945</td>\n",
              "      <td>917</td>\n",
              "      <td>52400</td>\n",
              "      <td>160</td>\n",
              "    </tr>\n",
              "    <tr>\n",
              "      <th>4</th>\n",
              "      <td>1.237660e+18</td>\n",
              "      <td>215.137407</td>\n",
              "      <td>-2.539874</td>\n",
              "      <td>19.12029</td>\n",
              "      <td>18.20783</td>\n",
              "      <td>17.91957</td>\n",
              "      <td>17.80769</td>\n",
              "      <td>17.77281</td>\n",
              "      <td>2379</td>\n",
              "      <td>301</td>\n",
              "      <td>3</td>\n",
              "      <td>40</td>\n",
              "      <td>1.032490e+18</td>\n",
              "      <td>STAR</td>\n",
              "      <td>-0.000352</td>\n",
              "      <td>917</td>\n",
              "      <td>52400</td>\n",
              "      <td>142</td>\n",
              "    </tr>\n",
              "  </tbody>\n",
              "</table>\n",
              "</div>\n",
              "      <button class=\"colab-df-convert\" onclick=\"convertToInteractive('df-708c49fc-5c64-4d98-8962-d0e514d30b2a')\"\n",
              "              title=\"Convert this dataframe to an interactive table.\"\n",
              "              style=\"display:none;\">\n",
              "\n",
              "  <svg xmlns=\"http://www.w3.org/2000/svg\" height=\"24px\"viewBox=\"0 0 24 24\"\n",
              "       width=\"24px\">\n",
              "    <path d=\"M0 0h24v24H0V0z\" fill=\"none\"/>\n",
              "    <path d=\"M18.56 5.44l.94 2.06.94-2.06 2.06-.94-2.06-.94-.94-2.06-.94 2.06-2.06.94zm-11 1L8.5 8.5l.94-2.06 2.06-.94-2.06-.94L8.5 2.5l-.94 2.06-2.06.94zm10 10l.94 2.06.94-2.06 2.06-.94-2.06-.94-.94-2.06-.94 2.06-2.06.94z\"/><path d=\"M17.41 7.96l-1.37-1.37c-.4-.4-.92-.59-1.43-.59-.52 0-1.04.2-1.43.59L10.3 9.45l-7.72 7.72c-.78.78-.78 2.05 0 2.83L4 21.41c.39.39.9.59 1.41.59.51 0 1.02-.2 1.41-.59l7.78-7.78 2.81-2.81c.8-.78.8-2.07 0-2.86zM5.41 20L4 18.59l7.72-7.72 1.47 1.35L5.41 20z\"/>\n",
              "  </svg>\n",
              "      </button>\n",
              "\n",
              "\n",
              "\n",
              "    <div id=\"df-17f11f35-38cd-48bb-b217-7d6fddaa59a2\">\n",
              "      <button class=\"colab-df-quickchart\" onclick=\"quickchart('df-17f11f35-38cd-48bb-b217-7d6fddaa59a2')\"\n",
              "              title=\"Suggest charts.\"\n",
              "              style=\"display:none;\">\n",
              "\n",
              "<svg xmlns=\"http://www.w3.org/2000/svg\" height=\"24px\"viewBox=\"0 0 24 24\"\n",
              "     width=\"24px\">\n",
              "    <g>\n",
              "        <path d=\"M19 3H5c-1.1 0-2 .9-2 2v14c0 1.1.9 2 2 2h14c1.1 0 2-.9 2-2V5c0-1.1-.9-2-2-2zM9 17H7v-7h2v7zm4 0h-2V7h2v10zm4 0h-2v-4h2v4z\"/>\n",
              "    </g>\n",
              "</svg>\n",
              "      </button>\n",
              "    </div>\n",
              "\n",
              "<style>\n",
              "  .colab-df-quickchart {\n",
              "    background-color: #E8F0FE;\n",
              "    border: none;\n",
              "    border-radius: 50%;\n",
              "    cursor: pointer;\n",
              "    display: none;\n",
              "    fill: #1967D2;\n",
              "    height: 32px;\n",
              "    padding: 0 0 0 0;\n",
              "    width: 32px;\n",
              "  }\n",
              "\n",
              "  .colab-df-quickchart:hover {\n",
              "    background-color: #E2EBFA;\n",
              "    box-shadow: 0px 1px 2px rgba(60, 64, 67, 0.3), 0px 1px 3px 1px rgba(60, 64, 67, 0.15);\n",
              "    fill: #174EA6;\n",
              "  }\n",
              "\n",
              "  [theme=dark] .colab-df-quickchart {\n",
              "    background-color: #3B4455;\n",
              "    fill: #D2E3FC;\n",
              "  }\n",
              "\n",
              "  [theme=dark] .colab-df-quickchart:hover {\n",
              "    background-color: #434B5C;\n",
              "    box-shadow: 0px 1px 3px 1px rgba(0, 0, 0, 0.15);\n",
              "    filter: drop-shadow(0px 1px 2px rgba(0, 0, 0, 0.3));\n",
              "    fill: #FFFFFF;\n",
              "  }\n",
              "</style>\n",
              "\n",
              "    <script>\n",
              "      async function quickchart(key) {\n",
              "        const containerElement = document.querySelector('#' + key);\n",
              "        const charts = await google.colab.kernel.invokeFunction(\n",
              "            'suggestCharts', [key], {});\n",
              "      }\n",
              "    </script>\n",
              "\n",
              "      <script>\n",
              "\n",
              "function displayQuickchartButton(domScope) {\n",
              "  let quickchartButtonEl =\n",
              "    domScope.querySelector('#df-17f11f35-38cd-48bb-b217-7d6fddaa59a2 button.colab-df-quickchart');\n",
              "  quickchartButtonEl.style.display =\n",
              "    google.colab.kernel.accessAllowed ? 'block' : 'none';\n",
              "}\n",
              "\n",
              "        displayQuickchartButton(document);\n",
              "      </script>\n",
              "      <style>\n",
              "    .colab-df-container {\n",
              "      display:flex;\n",
              "      flex-wrap:wrap;\n",
              "      gap: 12px;\n",
              "    }\n",
              "\n",
              "    .colab-df-convert {\n",
              "      background-color: #E8F0FE;\n",
              "      border: none;\n",
              "      border-radius: 50%;\n",
              "      cursor: pointer;\n",
              "      display: none;\n",
              "      fill: #1967D2;\n",
              "      height: 32px;\n",
              "      padding: 0 0 0 0;\n",
              "      width: 32px;\n",
              "    }\n",
              "\n",
              "    .colab-df-convert:hover {\n",
              "      background-color: #E2EBFA;\n",
              "      box-shadow: 0px 1px 2px rgba(60, 64, 67, 0.3), 0px 1px 3px 1px rgba(60, 64, 67, 0.15);\n",
              "      fill: #174EA6;\n",
              "    }\n",
              "\n",
              "    [theme=dark] .colab-df-convert {\n",
              "      background-color: #3B4455;\n",
              "      fill: #D2E3FC;\n",
              "    }\n",
              "\n",
              "    [theme=dark] .colab-df-convert:hover {\n",
              "      background-color: #434B5C;\n",
              "      box-shadow: 0px 1px 3px 1px rgba(0, 0, 0, 0.15);\n",
              "      filter: drop-shadow(0px 1px 2px rgba(0, 0, 0, 0.3));\n",
              "      fill: #FFFFFF;\n",
              "    }\n",
              "  </style>\n",
              "\n",
              "      <script>\n",
              "        const buttonEl =\n",
              "          document.querySelector('#df-708c49fc-5c64-4d98-8962-d0e514d30b2a button.colab-df-convert');\n",
              "        buttonEl.style.display =\n",
              "          google.colab.kernel.accessAllowed ? 'block' : 'none';\n",
              "\n",
              "        async function convertToInteractive(key) {\n",
              "          const element = document.querySelector('#df-708c49fc-5c64-4d98-8962-d0e514d30b2a');\n",
              "          const dataTable =\n",
              "            await google.colab.kernel.invokeFunction('convertToInteractive',\n",
              "                                                     [key], {});\n",
              "          if (!dataTable) return;\n",
              "\n",
              "          const docLinkHtml = 'Like what you see? Visit the ' +\n",
              "            '<a target=\"_blank\" href=https://colab.research.google.com/notebooks/data_table.ipynb>data table notebook</a>'\n",
              "            + ' to learn more about interactive tables.';\n",
              "          element.innerHTML = '';\n",
              "          dataTable['output_type'] = 'display_data';\n",
              "          await google.colab.output.renderOutput(dataTable, element);\n",
              "          const docLink = document.createElement('div');\n",
              "          docLink.innerHTML = docLinkHtml;\n",
              "          element.appendChild(docLink);\n",
              "        }\n",
              "      </script>\n",
              "    </div>\n",
              "  </div>\n"
            ]
          },
          "metadata": {},
          "execution_count": 5
        }
      ]
    },
    {
      "cell_type": "code",
      "source": [
        "df.shape"
      ],
      "metadata": {
        "id": "EFpiCznJONpI",
        "outputId": "c58ef932-7def-4e71-f169-6177ddd2bd70",
        "colab": {
          "base_uri": "https://localhost:8080/"
        }
      },
      "id": "EFpiCznJONpI",
      "execution_count": 6,
      "outputs": [
        {
          "output_type": "execute_result",
          "data": {
            "text/plain": [
              "(500000, 18)"
            ]
          },
          "metadata": {},
          "execution_count": 6
        }
      ]
    },
    {
      "cell_type": "code",
      "source": [
        "class_mapping = {class_label: idx for idx, class_label in enumerate(df['class'].unique())}\n",
        "df['Encoded_Class'] = df['class'].map(class_mapping)"
      ],
      "metadata": {
        "id": "xL4INtE-xQdo"
      },
      "id": "xL4INtE-xQdo",
      "execution_count": 8,
      "outputs": []
    },
    {
      "cell_type": "code",
      "source": [
        "highcorr = df[['u','g','r','i','z','redshift','Encoded_Class']].corr()"
      ],
      "metadata": {
        "id": "mMn-bUNa4l8T"
      },
      "id": "mMn-bUNa4l8T",
      "execution_count": 9,
      "outputs": []
    },
    {
      "cell_type": "code",
      "source": [
        "sns.heatmap(highcorr, annot=True, cmap='coolwarm',lw=0.5)"
      ],
      "metadata": {
        "id": "6SUPSGPH4uN2",
        "outputId": "d48c3873-06c6-4776-d1f2-a90a34d58738",
        "colab": {
          "base_uri": "https://localhost:8080/",
          "height": 542
        }
      },
      "id": "6SUPSGPH4uN2",
      "execution_count": 10,
      "outputs": [
        {
          "output_type": "execute_result",
          "data": {
            "text/plain": [
              "<Axes: >"
            ]
          },
          "metadata": {},
          "execution_count": 10
        },
        {
          "output_type": "display_data",
          "data": {
            "text/plain": [
              "<Figure size 640x480 with 2 Axes>"
            ],
            "image/png": "[encoded data removed]"
          },
          "metadata": {}
        }
      ]
    },
    {
      "cell_type": "code",
      "source": [
        "X = df[['u', 'g', 'r', 'i', 'z', 'redshift']]\n",
        "y = df['class']"
      ],
      "metadata": {
        "id": "QenOo7524_RB"
      },
      "id": "QenOo7524_RB",
      "execution_count": 7,
      "outputs": []
    },
    {
      "cell_type": "markdown",
      "source": [
        "# SVM"
      ],
      "metadata": {
        "id": "t-wAxmdr3koJ"
      },
      "id": "t-wAxmdr3koJ"
    },
    {
      "cell_type": "code",
      "source": [
        "from sklearn.svm import SVC\n",
        "from sklearn.preprocessing import StandardScaler\n",
        "from sklearn.model_selection import train_test_split\n",
        "from sklearn.metrics import accuracy_score, confusion_matrix\n",
        "\n",
        "# Scale the features\n",
        "scaler = StandardScaler()\n",
        "X_scaled = scaler.fit_transform(X)\n",
        "\n",
        "# Split the dataset into training and testing sets\n",
        "X_train, X_test, y_train, y_test = train_test_split(X_scaled, y, test_size=0.2, random_state=42)\n",
        "\n",
        "# Create the classifier\n",
        "clf = SVC()\n",
        "\n",
        "# Train the classifier\n",
        "clf.fit(X_train, y_train, )\n",
        "\n",
        "# Predict the labels for the test set\n",
        "y_pred = clf.predict(X_test)\n",
        "\n",
        "# Evaluate the accuracy\n",
        "accuracy = accuracy_score(y_test, y_pred)\n",
        "print(\"Accuracy:\", accuracy)\n"
      ],
      "metadata": {
        "colab": {
          "base_uri": "https://localhost:8080/"
        },
        "id": "swH3MWyFz-fD",
        "outputId": "0e2faceb-1300-498f-a255-ff25c8ff30f5"
      },
      "id": "swH3MWyFz-fD",
      "execution_count": null,
      "outputs": [
        {
          "output_type": "stream",
          "name": "stdout",
          "text": [
            "Accuracy: 0.98366\n"
          ]
        }
      ]
    },
    {
      "cell_type": "code",
      "source": [
        "y_pred = clf.predict(X_test)\n",
        "\n",
        "# Create the confusion matrix\n",
        "cm = confusion_matrix(y_test, y_pred)\n",
        "\n",
        "# Display the confusion matrix using a heatmap\n",
        "plt.figure(figsize=(8, 6))\n",
        "sns.heatmap(cm, annot=True, fmt='d', cmap='Blues', cbar=False,\n",
        "            xticklabels=['Galaxy', 'Star', 'Quasar'],\n",
        "            yticklabels=['Galaxy', 'Star', 'Quasar'])\n",
        "plt.xlabel('Predicted')\n",
        "plt.ylabel('True')\n",
        "plt.title('Confusion Matrix')\n",
        "plt.show()"
      ],
      "metadata": {
        "id": "zDEXmyLr7Efr",
        "outputId": "cde37f57-1bd1-44c2-823a-7b2a5be34119",
        "colab": {
          "base_uri": "https://localhost:8080/",
          "height": 564
        }
      },
      "id": "zDEXmyLr7Efr",
      "execution_count": null,
      "outputs": [
        {
          "output_type": "display_data",
          "data": {
            "text/plain": [
              "<Figure size 800x600 with 1 Axes>"
            ],
            "image/png": "[encoded data removed]"
          },
          "metadata": {}
        }
      ]
    },
    {
      "cell_type": "code",
      "source": [
        "import numpy as np\n",
        "import pandas as pd\n",
        "from sklearn.svm import SVC\n",
        "from sklearn.preprocessing import StandardScaler\n",
        "from sklearn.model_selection import train_test_split\n",
        "from sklearn.model_selection import StratifiedKFold\n",
        "from sklearn.metrics import accuracy_score\n",
        "from sklearn_genetic import GASearchCV\n",
        "from sklearn_genetic.space import Continuous,Categorical\n",
        "\n",
        "# Load the dataset\n",
        "df = pd.read_csv('https://github.com/iamstarstuff/MScDataScienceThesis/raw/main/Skyserver_SQL5_24_2023%2012_41_33%20PM.csv')\n",
        "\n",
        "# Select features and target variable\n",
        "X = df[['u', 'g', 'r', 'i', 'z', 'redshift']]\n",
        "y = df['class']\n",
        "\n",
        "# Scale the features\n",
        "scaler = StandardScaler()\n",
        "X_scaled = scaler.fit_transform(X)\n",
        "\n",
        "# Split the data into training and testing sets\n",
        "X_train, X_test, y_train, y_test = train_test_split(X_scaled, y, test_size=0.2, random_state=42)\n",
        "\n",
        "# Define the parameter grid\n",
        "param_grid = {\n",
        "    'C': Continuous(1e-5, 1e10),  # Continuous range from 1e-5 to 1e10\n",
        "    'gamma': Continuous(1e-15, 1e3),  # Continuous range from 1e-15 to 1e3\n",
        "    'kernel': Categorical(['linear', 'rbf', 'poly'])\n",
        "}\n",
        "\n",
        "# Create the SVM classifier\n",
        "svc = SVC()\n",
        "\n",
        "\n",
        "\n",
        "# Create the genetic algorithm search object\n",
        "ga_search = GASearchCV(estimator=svc, param_grid=param_grid, cv=3, verbose=True, population_size=50, generations=10)\n",
        "\n",
        "# Perform the hyperparameter tuning\n",
        "ga_search.fit(X_train, y_train)\n",
        "\n",
        "# Get the best hyperparameters and accuracy score\n",
        "best_params = ga_search.best_params_\n",
        "best_score = ga_search.best_score_\n",
        "\n",
        "# Train the classifier with the best hyperparameters\n",
        "best_clf = SVC(C=best_params['C'], gamma=best_params['gamma'])\n",
        "best_clf.fit(X_train, y_train)\n",
        "\n",
        "# Predict the labels for the test set using the best classifier\n",
        "y_pred = best_clf.predict(X_test)\n",
        "\n",
        "# Calculate the accuracy of the best classifier\n",
        "accuracy = accuracy_score(y_test, y_pred)\n",
        "\n",
        "# Print the results\n",
        "print(\"Best Hyperparameters:\", best_params)\n",
        "print(\"Best Accuracy:\", best_score)\n",
        "print(\"Test Accuracy:\", accuracy)\n"
      ],
      "metadata": {
        "id": "G8MEl8xnVOBb"
      },
      "id": "G8MEl8xnVOBb",
      "execution_count": null,
      "outputs": []
    },
    {
      "cell_type": "code",
      "source": [
        "!pip install deap"
      ],
      "metadata": {
        "id": "bzeo8SbUVsno",
        "outputId": "db1cd0a5-5069-46e2-d5cc-309c68dc817f",
        "colab": {
          "base_uri": "https://localhost:8080/"
        }
      },
      "id": "bzeo8SbUVsno",
      "execution_count": null,
      "outputs": [
        {
          "output_type": "stream",
          "name": "stdout",
          "text": [
            "Collecting deap\n",
            "  Downloading deap-1.3.3-cp310-cp310-manylinux_2_5_x86_64.manylinux1_x86_64.manylinux_2_17_x86_64.manylinux2014_x86_64.whl (139 kB)\n",
            "\u001b[?25l     \u001b[90m━━━━━━━━━━━━━━━━━━━━━━━━━━━━━━━━━━━━━━━━\u001b[0m \u001b[32m0.0/139.9 kB\u001b[0m \u001b[31m?\u001b[0m eta \u001b[36m-:--:--\u001b[0m\r\u001b[2K     \u001b[90m━━━━━━━━━━━━━━━━━━━━━━━━━━━━━━━━━━━━━━\u001b[0m \u001b[32m139.9/139.9 kB\u001b[0m \u001b[31m13.2 MB/s\u001b[0m eta \u001b[36m0:00:00\u001b[0m\n",
            "\u001b[?25hRequirement already satisfied: numpy in /usr/local/lib/python3.10/dist-packages (from deap) (1.22.4)\n",
            "Installing collected packages: deap\n",
            "Successfully installed deap-1.3.3\n"
          ]
        }
      ]
    },
    {
      "cell_type": "code",
      "source": [
        "import numpy as np\n",
        "from sklearn.svm import SVC\n",
        "from sklearn.preprocessing import StandardScaler\n",
        "from sklearn.model_selection import train_test_split\n",
        "from sklearn.metrics import accuracy_score\n",
        "from deap import algorithms, base, creator, tools\n",
        "\n",
        "# Load your dataset and split it into training and testing sets\n",
        "# X_train, X_test, y_train, y_test = train_test_split(X, y, test_size=0.2, random_state=42)\n",
        "# Load the dataset\n",
        "df = pd.read_csv('https://github.com/iamstarstuff/MScDataScienceThesis/raw/main/Skyserver_SQL5_24_2023%2012_41_33%20PM.csv')\n",
        "\n",
        "# Select features and target variable\n",
        "X = df[['u', 'g', 'r', 'i', 'z', 'redshift']]\n",
        "y = df['class']\n",
        "\n",
        "# Scale the features\n",
        "scaler = StandardScaler()\n",
        "X_scaled = scaler.fit_transform(X)\n",
        "\n",
        "# Split the data into training and testing sets\n",
        "X_train, X_test, y_train, y_test = train_test_split(X_scaled, y, test_size=0.2, random_state=42)\n",
        "\n",
        "\n",
        "# Define the fitness function for the genetic algorithm\n",
        "def evaluate_individual(individual):\n",
        "    # Convert the values to corresponding hyperparameter values\n",
        "    C = 2 ** np.round(individual[0])  # C ranges from 2^(-5) to 2^10\n",
        "    gamma = 2 ** np.round(individual[1])  # gamma ranges from 2^(-15) to 2^(3)\n",
        "\n",
        "    # Create the SVM classifier with the chosen hyperparameters\n",
        "    clf = SVC(C=C, gamma=gamma)\n",
        "\n",
        "    # Train the classifier\n",
        "    clf.fit(X_train, y_train)\n",
        "\n",
        "    # Predict the labels for the test set\n",
        "    y_pred = clf.predict(X_test)\n",
        "\n",
        "    # Calculate the accuracy\n",
        "    accuracy = accuracy_score(y_test, y_pred)\n",
        "\n",
        "    return accuracy,\n",
        "\n",
        "# Define the optimization problem\n",
        "creator.create(\"FitnessMax\", base.Fitness, weights=(1.0,))\n",
        "creator.create(\"Individual\", np.ndarray, fitness=creator.FitnessMax)\n",
        "\n",
        "toolbox = base.Toolbox()\n",
        "toolbox.register(\"attr_float\", np.random.uniform, -5, 10)\n",
        "toolbox.register(\"individual\", tools.initRepeat, creator.Individual, toolbox.attr_float, n=2)\n",
        "toolbox.register(\"population\", tools.initRepeat, list, toolbox.individual)\n",
        "\n",
        "toolbox.register(\"evaluate\", evaluate_individual)\n",
        "toolbox.register(\"mate\", tools.cxTwoPoint)\n",
        "toolbox.register(\"mutate\", tools.mutFlipBit, indpb=0.05)\n",
        "toolbox.register(\"select\", tools.selTournament, tournsize=3)\n",
        "\n",
        "# Set random seed for reproducibility\n",
        "np.random.seed(42)\n",
        "\n",
        "# Create an initial population of individuals\n",
        "population = toolbox.population(n=50)\n",
        "\n",
        "# Run the genetic algorithm optimization\n",
        "population, logbook = algorithms.eaSimple(population, toolbox, cxpb=0.5, mutpb=0.2, ngen=10, verbose=False)\n",
        "\n",
        "# Retrieve the best individual from the population\n",
        "best_individual = tools.selBest(population, k=1)[0]\n",
        "\n",
        "# Retrieve the best hyperparameters found by the genetic algorithm\n",
        "best_hyperparameters = 2 ** np.round(best_individual)\n",
        "\n",
        "# Create the SVM classifier with the best hyperparameters\n",
        "best_clf = SVC(C=best_hyperparameters[0], gamma=best_hyperparameters[1])\n",
        "\n",
        "# Train the classifier with the full training set\n",
        "best_clf.fit(X_train, y_train)\n",
        "\n",
        "# Predict the labels for the test set using the best classifier\n",
        "y_pred = best_clf.predict(X_test)\n",
        "\n",
        "# Calculate the accuracy of the best classifier\n",
        "accuracy = accuracy_score(y_test, y_pred)\n",
        "print(\"Best Accuracy:\", accuracy)\n",
        "print(\"Best Hyperparameters (C, gamma):\", best_hyperparameters)\n"
      ],
      "metadata": {
        "id": "Czc0qM7sXiBH"
      },
      "id": "Czc0qM7sXiBH",
      "execution_count": null,
      "outputs": []
    },
    {
      "cell_type": "markdown",
      "source": [
        "# Random Forest"
      ],
      "metadata": {
        "id": "akp-jjqo3nD4"
      },
      "id": "akp-jjqo3nD4"
    },
    {
      "cell_type": "code",
      "source": [
        "from sklearn.ensemble import RandomForestClassifier\n",
        "from sklearn.model_selection import train_test_split\n",
        "from sklearn.metrics import accuracy_score"
      ],
      "metadata": {
        "id": "3RdjmLwxyNXq"
      },
      "id": "3RdjmLwxyNXq",
      "execution_count": 8,
      "outputs": []
    },
    {
      "cell_type": "code",
      "source": [
        "# Setting seeds for Reproducibility\n",
        "\n",
        "import random\n",
        "import numpy as np\n",
        "\n",
        "random_seed = 42\n",
        "\n",
        "np.random.seed(random_seed)\n",
        "random.seed(random_seed)"
      ],
      "metadata": {
        "id": "4f_4UJ8GbbTk"
      },
      "id": "4f_4UJ8GbbTk",
      "execution_count": 9,
      "outputs": []
    },
    {
      "cell_type": "markdown",
      "source": [
        "**Breakdown of the above code**\n",
        "1. `random_seed=42` sets the seed value.\n",
        "2. `np.random.seed(random_seed)` sets the seed for the NumPy random number generator. By setting the seed, all subsequent calls to NumPy's random number generator will produce the same sequence of random numbers.\n",
        "3. `random.seed(random_seed)` sets the seed for the Python standard library's random number generator. The `random` module in Python provides a simple way to work with random numbers.\n",
        "\n",
        "By setting the random seeds for both Python and NumPy, we can ensure that any random processes used in code will produce the same results everytime it is run as long as seed value remains same, in this case `42`.\n",
        "\n",
        "This ensures reproducibility of the code."
      ],
      "metadata": {
        "id": "MfTR2teHb3ba"
      },
      "id": "MfTR2teHb3ba"
    },
    {
      "cell_type": "code",
      "source": [
        "X_train, X_test, y_train, y_test = train_test_split(X, y, test_size=0.4)\n",
        "\n",
        "clf = RandomForestClassifier(random_state=random_seed)"
      ],
      "metadata": {
        "id": "hQ44ncmM4eSs"
      },
      "id": "hQ44ncmM4eSs",
      "execution_count": 10,
      "outputs": []
    },
    {
      "cell_type": "markdown",
      "source": [
        "## Baseline\n",
        "Performance of classifier using the default hyperparameter values"
      ],
      "metadata": {
        "id": "JxXpCtUUWSoF"
      },
      "id": "JxXpCtUUWSoF"
    },
    {
      "cell_type": "code",
      "source": [
        "clf.fit(X_train,y_train)\n",
        "\n",
        "y_pred = clf.predict(X_test)\n",
        "\n",
        "# Evaluate the accuracy\n",
        "accuracy = accuracy_score(y_test, y_pred)\n",
        "print(\"Accuracy:\", accuracy)"
      ],
      "metadata": {
        "id": "quDIarfFWCE_",
        "outputId": "ba845bc1-a5d0-4aec-9307-5d0a742974fb",
        "colab": {
          "base_uri": "https://localhost:8080/"
        }
      },
      "id": "quDIarfFWCE_",
      "execution_count": 11,
      "outputs": [
        {
          "output_type": "stream",
          "name": "stdout",
          "text": [
            "Accuracy: 0.99185\n"
          ]
        }
      ]
    },
    {
      "cell_type": "markdown",
      "source": [
        "**👆🏻Signs of overfitting**"
      ],
      "metadata": {
        "id": "9e1_g3QRc2-q"
      },
      "id": "9e1_g3QRc2-q"
    },
    {
      "cell_type": "markdown",
      "source": [
        "## Genetic optimisation"
      ],
      "metadata": {
        "id": "EEtTHBHLWZHd"
      },
      "id": "EEtTHBHLWZHd"
    },
    {
      "cell_type": "code",
      "source": [
        "from sklearn_genetic import GASearchCV\n",
        "from sklearn_genetic.space import Continuous, Categorical, Integer\n",
        "from sklearn_genetic.plots import plot_fitness_evolution, plot_search_space\n",
        "from sklearn.model_selection import StratifiedKFold\n",
        "from sklearn.metrics import accuracy_score\n",
        "import matplotlib.pyplot as plt\n",
        "\n",
        "param_grid = {'min_weight_fraction_leaf': Continuous(0.01, 0.5, distribution='log-uniform',\n",
        "                                                     random_state=random_seed),\n",
        "              'bootstrap': Categorical([True, False],random_state=random_seed),\n",
        "              'criterion': Categorical(['gini','entropy','log_loss'],random_state=random_seed),\n",
        "              'max_depth': Integer(2,30,random_state=random_seed),\n",
        "              'n_estimators': Integer(100, 300,random_state=random_seed)}\n",
        "\n",
        "cv = StratifiedKFold(n_splits=3, shuffle=True)\n",
        "\n",
        "evolved_estimator = GASearchCV(estimator=clf,\n",
        "                               cv=cv,\n",
        "                               scoring='accuracy',\n",
        "                               population_size=10,\n",
        "                               generations=5,\n",
        "                               tournament_size=3,\n",
        "                               elitism=True,\n",
        "                               crossover_probability=0.5,\n",
        "                               mutation_probability=0.1,\n",
        "                               param_grid=param_grid,\n",
        "                               criteria='max',\n",
        "                               algorithm='eaMuPlusLambda',\n",
        "                               n_jobs=-1,\n",
        "                               verbose=True,\n",
        "                               keep_top_k=3)"
      ],
      "metadata": {
        "id": "Q6EENU7X4rPH"
      },
      "id": "Q6EENU7X4rPH",
      "execution_count": 12,
      "outputs": []
    },
    {
      "cell_type": "code",
      "source": [
        "evolved_estimator.fit(X_train,y_train)"
      ],
      "metadata": {
        "id": "xC5gdrbg4zNH",
        "outputId": "cd7c400c-be56-4d24-edab-4ff3d85b45e1",
        "colab": {
          "base_uri": "https://localhost:8080/"
        }
      },
      "id": "xC5gdrbg4zNH",
      "execution_count": null,
      "outputs": [
        {
          "output_type": "stream",
          "name": "stdout",
          "text": [
            "gen\tnevals\tfitness \tfitness_std\tfitness_max\tfitness_min\n",
            "0  \t10    \t0.947634\t0.0491076  \t0.978883   \t0.822093   \n",
            "1  \t13    \t0.97383 \t0.00281172 \t0.978883   \t0.9712     \n",
            "2  \t10    \t0.977175\t0.00273593 \t0.979223   \t0.971463   \n",
            "3  \t15    \t0.978497\t0.000525346\t0.97893    \t0.977463   \n",
            "4  \t16    \t0.978887\t0.000594924\t0.979573   \t0.977577   \n"
          ]
        }
      ]
    },
    {
      "cell_type": "code",
      "source": [
        "y_predicy_ga = evolved_estimator.predict(X_test)\n",
        "accuracy_score(y_test,y_predicy_ga)"
      ],
      "metadata": {
        "id": "VVsJM9XV-UVi",
        "outputId": "2eccc604-9669-48dd-dd4d-104392c63a8c",
        "colab": {
          "base_uri": "https://localhost:8080/"
        }
      },
      "id": "VVsJM9XV-UVi",
      "execution_count": null,
      "outputs": [
        {
          "output_type": "execute_result",
          "data": {
            "text/plain": [
              "0.97962"
            ]
          },
          "metadata": {},
          "execution_count": 14
        }
      ]
    },
    {
      "cell_type": "code",
      "source": [
        "plot_fitness_evolution(evolved_estimator)\n",
        "plt.show()"
      ],
      "metadata": {
        "id": "1ypmCDE8TEdi",
        "outputId": "f1c59ba0-a35d-4c62-e7fd-6d329f6ea060",
        "colab": {
          "base_uri": "https://localhost:8080/",
          "height": 831
        }
      },
      "id": "1ypmCDE8TEdi",
      "execution_count": null,
      "outputs": [
        {
          "output_type": "stream",
          "name": "stderr",
          "text": [
            "/usr/local/lib/python3.10/dist-packages/sklearn_genetic/plots.py:48: UserWarning: Ignoring `palette` because no `hue` variable has been assigned.\n",
            "  ax = sns.lineplot(x=range(len(estimator)), y=fitness_history, markers=True, palette=palette)\n"
          ]
        },
        {
          "output_type": "display_data",
          "data": {
            "text/plain": [
              "<Figure size 1000x1000 with 1 Axes>"
            ],
            "image/png": "[encoded data removed]"
          },
          "metadata": {}
        }
      ]
    },
    {
      "cell_type": "code",
      "source": [],
      "metadata": {
        "id": "YFSjz7nVTewy"
      },
      "id": "YFSjz7nVTewy",
      "execution_count": null,
      "outputs": []
    },
    {
      "cell_type": "code",
      "source": [
        "# Top 3 set of hyperparameter value combinations\n",
        "pd.DataFrame(evolved_estimator.hof)"
      ],
      "metadata": {
        "id": "5AfHbVr7TUJI",
        "outputId": "34182728-f238-46b2-e0f5-cc383632dbae",
        "colab": {
          "base_uri": "https://localhost:8080/",
          "height": 143
        }
      },
      "id": "5AfHbVr7TUJI",
      "execution_count": null,
      "outputs": [
        {
          "output_type": "execute_result",
          "data": {
            "text/plain": [
              "                                 0         1         2\n",
              "min_weight_fraction_leaf  0.011047  0.011047  0.011047\n",
              "bootstrap                     True     False      True\n",
              "n_estimators                   228       228       228"
            ],
            "text/html": [
              "\n",
              "\n",
              "  <div id=\"df-c31e79be-8fec-4f90-a98a-75c180ea56e2\">\n",
              "    <div class=\"colab-df-container\">\n",
              "      <div>\n",
              "<style scoped>\n",
              "    .dataframe tbody tr th:only-of-type {\n",
              "        vertical-align: middle;\n",
              "    }\n",
              "\n",
              "    .dataframe tbody tr th {\n",
              "        vertical-align: top;\n",
              "    }\n",
              "\n",
              "    .dataframe thead th {\n",
              "        text-align: right;\n",
              "    }\n",
              "</style>\n",
              "<table border=\"1\" class=\"dataframe\">\n",
              "  <thead>\n",
              "    <tr style=\"text-align: right;\">\n",
              "      <th></th>\n",
              "      <th>0</th>\n",
              "      <th>1</th>\n",
              "      <th>2</th>\n",
              "    </tr>\n",
              "  </thead>\n",
              "  <tbody>\n",
              "    <tr>\n",
              "      <th>min_weight_fraction_leaf</th>\n",
              "      <td>0.011047</td>\n",
              "      <td>0.011047</td>\n",
              "      <td>0.011047</td>\n",
              "    </tr>\n",
              "    <tr>\n",
              "      <th>bootstrap</th>\n",
              "      <td>True</td>\n",
              "      <td>False</td>\n",
              "      <td>True</td>\n",
              "    </tr>\n",
              "    <tr>\n",
              "      <th>n_estimators</th>\n",
              "      <td>228</td>\n",
              "      <td>228</td>\n",
              "      <td>228</td>\n",
              "    </tr>\n",
              "  </tbody>\n",
              "</table>\n",
              "</div>\n",
              "      <button class=\"colab-df-convert\" onclick=\"convertToInteractive('df-c31e79be-8fec-4f90-a98a-75c180ea56e2')\"\n",
              "              title=\"Convert this dataframe to an interactive table.\"\n",
              "              style=\"display:none;\">\n",
              "\n",
              "  <svg xmlns=\"http://www.w3.org/2000/svg\" height=\"24px\"viewBox=\"0 0 24 24\"\n",
              "       width=\"24px\">\n",
              "    <path d=\"M0 0h24v24H0V0z\" fill=\"none\"/>\n",
              "    <path d=\"M18.56 5.44l.94 2.06.94-2.06 2.06-.94-2.06-.94-.94-2.06-.94 2.06-2.06.94zm-11 1L8.5 8.5l.94-2.06 2.06-.94-2.06-.94L8.5 2.5l-.94 2.06-2.06.94zm10 10l.94 2.06.94-2.06 2.06-.94-2.06-.94-.94-2.06-.94 2.06-2.06.94z\"/><path d=\"M17.41 7.96l-1.37-1.37c-.4-.4-.92-.59-1.43-.59-.52 0-1.04.2-1.43.59L10.3 9.45l-7.72 7.72c-.78.78-.78 2.05 0 2.83L4 21.41c.39.39.9.59 1.41.59.51 0 1.02-.2 1.41-.59l7.78-7.78 2.81-2.81c.8-.78.8-2.07 0-2.86zM5.41 20L4 18.59l7.72-7.72 1.47 1.35L5.41 20z\"/>\n",
              "  </svg>\n",
              "      </button>\n",
              "\n",
              "\n",
              "\n",
              "    <div id=\"df-a9fd1d3f-f447-4a0f-af53-e2507441ad82\">\n",
              "      <button class=\"colab-df-quickchart\" onclick=\"quickchart('df-a9fd1d3f-f447-4a0f-af53-e2507441ad82')\"\n",
              "              title=\"Suggest charts.\"\n",
              "              style=\"display:none;\">\n",
              "\n",
              "<svg xmlns=\"http://www.w3.org/2000/svg\" height=\"24px\"viewBox=\"0 0 24 24\"\n",
              "     width=\"24px\">\n",
              "    <g>\n",
              "        <path d=\"M19 3H5c-1.1 0-2 .9-2 2v14c0 1.1.9 2 2 2h14c1.1 0 2-.9 2-2V5c0-1.1-.9-2-2-2zM9 17H7v-7h2v7zm4 0h-2V7h2v10zm4 0h-2v-4h2v4z\"/>\n",
              "    </g>\n",
              "</svg>\n",
              "      </button>\n",
              "    </div>\n",
              "\n",
              "<style>\n",
              "  .colab-df-quickchart {\n",
              "    background-color: #E8F0FE;\n",
              "    border: none;\n",
              "    border-radius: 50%;\n",
              "    cursor: pointer;\n",
              "    display: none;\n",
              "    fill: #1967D2;\n",
              "    height: 32px;\n",
              "    padding: 0 0 0 0;\n",
              "    width: 32px;\n",
              "  }\n",
              "\n",
              "  .colab-df-quickchart:hover {\n",
              "    background-color: #E2EBFA;\n",
              "    box-shadow: 0px 1px 2px rgba(60, 64, 67, 0.3), 0px 1px 3px 1px rgba(60, 64, 67, 0.15);\n",
              "    fill: #174EA6;\n",
              "  }\n",
              "\n",
              "  [theme=dark] .colab-df-quickchart {\n",
              "    background-color: #3B4455;\n",
              "    fill: #D2E3FC;\n",
              "  }\n",
              "\n",
              "  [theme=dark] .colab-df-quickchart:hover {\n",
              "    background-color: #434B5C;\n",
              "    box-shadow: 0px 1px 3px 1px rgba(0, 0, 0, 0.15);\n",
              "    filter: drop-shadow(0px 1px 2px rgba(0, 0, 0, 0.3));\n",
              "    fill: #FFFFFF;\n",
              "  }\n",
              "</style>\n",
              "\n",
              "    <script>\n",
              "      async function quickchart(key) {\n",
              "        const containerElement = document.querySelector('#' + key);\n",
              "        const charts = await google.colab.kernel.invokeFunction(\n",
              "            'suggestCharts', [key], {});\n",
              "      }\n",
              "    </script>\n",
              "\n",
              "      <script>\n",
              "\n",
              "function displayQuickchartButton(domScope) {\n",
              "  let quickchartButtonEl =\n",
              "    domScope.querySelector('#df-a9fd1d3f-f447-4a0f-af53-e2507441ad82 button.colab-df-quickchart');\n",
              "  quickchartButtonEl.style.display =\n",
              "    google.colab.kernel.accessAllowed ? 'block' : 'none';\n",
              "}\n",
              "\n",
              "        displayQuickchartButton(document);\n",
              "      </script>\n",
              "      <style>\n",
              "    .colab-df-container {\n",
              "      display:flex;\n",
              "      flex-wrap:wrap;\n",
              "      gap: 12px;\n",
              "    }\n",
              "\n",
              "    .colab-df-convert {\n",
              "      background-color: #E8F0FE;\n",
              "      border: none;\n",
              "      border-radius: 50%;\n",
              "      cursor: pointer;\n",
              "      display: none;\n",
              "      fill: #1967D2;\n",
              "      height: 32px;\n",
              "      padding: 0 0 0 0;\n",
              "      width: 32px;\n",
              "    }\n",
              "\n",
              "    .colab-df-convert:hover {\n",
              "      background-color: #E2EBFA;\n",
              "      box-shadow: 0px 1px 2px rgba(60, 64, 67, 0.3), 0px 1px 3px 1px rgba(60, 64, 67, 0.15);\n",
              "      fill: #174EA6;\n",
              "    }\n",
              "\n",
              "    [theme=dark] .colab-df-convert {\n",
              "      background-color: #3B4455;\n",
              "      fill: #D2E3FC;\n",
              "    }\n",
              "\n",
              "    [theme=dark] .colab-df-convert:hover {\n",
              "      background-color: #434B5C;\n",
              "      box-shadow: 0px 1px 3px 1px rgba(0, 0, 0, 0.15);\n",
              "      filter: drop-shadow(0px 1px 2px rgba(0, 0, 0, 0.3));\n",
              "      fill: #FFFFFF;\n",
              "    }\n",
              "  </style>\n",
              "\n",
              "      <script>\n",
              "        const buttonEl =\n",
              "          document.querySelector('#df-c31e79be-8fec-4f90-a98a-75c180ea56e2 button.colab-df-convert');\n",
              "        buttonEl.style.display =\n",
              "          google.colab.kernel.accessAllowed ? 'block' : 'none';\n",
              "\n",
              "        async function convertToInteractive(key) {\n",
              "          const element = document.querySelector('#df-c31e79be-8fec-4f90-a98a-75c180ea56e2');\n",
              "          const dataTable =\n",
              "            await google.colab.kernel.invokeFunction('convertToInteractive',\n",
              "                                                     [key], {});\n",
              "          if (!dataTable) return;\n",
              "\n",
              "          const docLinkHtml = 'Like what you see? Visit the ' +\n",
              "            '<a target=\"_blank\" href=https://colab.research.google.com/notebooks/data_table.ipynb>data table notebook</a>'\n",
              "            + ' to learn more about interactive tables.';\n",
              "          element.innerHTML = '';\n",
              "          dataTable['output_type'] = 'display_data';\n",
              "          await google.colab.output.renderOutput(dataTable, element);\n",
              "          const docLink = document.createElement('div');\n",
              "          docLink.innerHTML = docLinkHtml;\n",
              "          element.appendChild(docLink);\n",
              "        }\n",
              "      </script>\n",
              "    </div>\n",
              "  </div>\n"
            ]
          },
          "metadata": {},
          "execution_count": 17
        }
      ]
    },
    {
      "cell_type": "markdown",
      "source": [
        "# kNN"
      ],
      "metadata": {
        "id": "C5VkBo94Wd43"
      },
      "id": "C5VkBo94Wd43"
    },
    {
      "cell_type": "code",
      "source": [],
      "metadata": {
        "id": "Dccq_dsuTYqQ"
      },
      "id": "Dccq_dsuTYqQ",
      "execution_count": null,
      "outputs": []
    }
  ],
  "metadata": {
    "kernelspec": {
      "display_name": "Python 3",
      "name": "python3"
    },
    "language_info": {
      "codemirror_mode": {
        "name": "ipython",
        "version": 3
      },
      "file_extension": ".py",
      "mimetype": "text/x-python",
      "name": "python",
      "nbconvert_exporter": "python",
      "pygments_lexer": "ipython3",
      "version": "3.11.0"
    },
    "colab": {
      "provenance": [],
      "machine_shape": "hm",
      "gpuType": "V100",
      "include_colab_link": true
    },
    "accelerator": "GPU"
  },
  "nbformat": 4,
  "nbformat_minor": 5
}